{
 "cells": [
  {
   "cell_type": "markdown",
   "id": "a02efc9d-19b7-4ca6-9700-0511dd3f804c",
   "metadata": {},
   "source": [
    "# Collaborative Filtering"
   ]
  },
  {
   "cell_type": "markdown",
   "id": "e7583ba8-331c-4238-a061-1ea5b6b35c26",
   "metadata": {},
   "source": [
    "Collaborative Filtering means that interests of other users are taking into account for making a playlist prediction. Spotify uses a matrix where each row is a user and each column is a song, each entry therefore resembles how often a user has listened to a song. Since this data is not publicly available, we will try the same approach, but with a different matrix. The matrix will have one row for each playlist and each column will be a song. The entries of the matrix are going to be 1 if the song is in the playlist and 0 if not. Read more about collaborative filtering [here](TODO)."
   ]
  },
  {
   "cell_type": "markdown",
   "id": "b58a8742-d41c-44e6-902a-54b44fe3acf6",
   "metadata": {},
   "source": [
    "Let's first import all important libraries. pandas DataFrames are used to store the data and numpy arrays for matrix computations."
   ]
  },
  {
   "cell_type": "code",
   "execution_count": 1,
   "id": "1c95d708-54b8-46b5-aba1-4d67ee2ceb6d",
   "metadata": {
    "ExecuteTime": {
     "end_time": "2023-12-01T19:19:50.827376200Z",
     "start_time": "2023-12-01T19:19:50.510096200Z"
    }
   },
   "outputs": [],
   "source": [
    "import warnings\n",
    "import numpy as np\n",
    "import pandas as pd\n",
    "\n",
    "from scripts.matrix_factorization import MF  # for matrix factorization"
   ]
  },
  {
   "cell_type": "markdown",
   "id": "9cd66f9e-d69d-45df-9bea-7313a2c8478b",
   "metadata": {},
   "source": [
    "Load the raw data."
   ]
  },
  {
   "cell_type": "code",
   "execution_count": 2,
   "id": "afcfff27-de33-4652-921b-b54ea63ef93a",
   "metadata": {
    "ExecuteTime": {
     "end_time": "2023-12-01T19:19:51.219933100Z",
     "start_time": "2023-12-01T19:19:50.827376200Z"
    }
   },
   "outputs": [
    {
     "name": "stdout",
     "output_type": "stream",
     "text": [
      "We have a dataset of 64574 entries\n"
     ]
    }
   ],
   "source": [
    "df = pd.read_csv(\"data/sorted_processed_data_train.csv\")\n",
    "print(f\"We have a dataset of {len(df)} entries\")"
   ]
  },
  {
   "cell_type": "markdown",
   "id": "98caa4d1-e629-4226-9411-2daca9d4d2f4",
   "metadata": {},
   "source": [
    "We want to build a matrix where each row is a playlist, and each column resembles a song. The dimensions of our matrix resemble those of the playlist number and track number."
   ]
  },
  {
   "cell_type": "code",
   "execution_count": 3,
   "id": "342b3e17-8e31-4e01-bd64-93c6f340b46b",
   "metadata": {
    "ExecuteTime": {
     "end_time": "2023-12-01T19:19:51.239765400Z",
     "start_time": "2023-12-01T19:19:51.219933100Z"
    }
   },
   "outputs": [
    {
     "name": "stdout",
     "output_type": "stream",
     "text": [
      "Playlists: 833 \n",
      "Tracks: 29384\n"
     ]
    }
   ],
   "source": [
    "num_playlists = df[\"name\"].nunique()  # count distinct values, this is the number of playlists\n",
    "num_tracks = df[\"track_name\"].nunique()  # count distinct values, this is the number of tracks\n",
    "print(f\"Playlists: {num_playlists} \\nTracks: {num_tracks}\")"
   ]
  },
  {
   "cell_type": "markdown",
   "id": "05cedca0-becd-4437-be08-16dc9453a4ea",
   "metadata": {},
   "source": [
    "Group the data by the playlist name. This results in a Series."
   ]
  },
  {
   "cell_type": "code",
   "execution_count": 4,
   "id": "3d330301-389c-42e0-823d-a97311de9288",
   "metadata": {
    "ExecuteTime": {
     "end_time": "2023-12-01T19:19:51.330195Z",
     "start_time": "2023-12-01T19:19:51.239765400Z"
    }
   },
   "outputs": [
    {
     "data": {
      "text/plain": "name\n CHiLl         [Fresh Eyes, i hate u, i love u (feat. olivia ...\n Frozen        [Queen Elsa of Arendelle - Score Demo, Reindee...\n indie rock    [Back In Your Head, Be Good (RAC Remix), Bambi...\n#Relaxed       [Bag Lady, On & On, I Can't Stop Loving You, L...\n#Workout       [Can't Feel My Face - Martin Garrix Remix, Ign...\nName: track_name, dtype: object"
     },
     "execution_count": 4,
     "metadata": {},
     "output_type": "execute_result"
    }
   ],
   "source": [
    "playlists = df.groupby('name')[\"track_name\"].apply(list)\n",
    "playlists.head()"
   ]
  },
  {
   "cell_type": "markdown",
   "id": "5b8ad424-cc62-4e46-9ff6-48c9d3ce57d2",
   "metadata": {},
   "source": [
    "We need a list of the unique songs to create each playlist vector."
   ]
  },
  {
   "cell_type": "code",
   "execution_count": 5,
   "id": "0fefb3df-470d-4f25-ad97-b48066dc215b",
   "metadata": {
    "ExecuteTime": {
     "end_time": "2023-12-01T19:19:51.330195Z",
     "start_time": "2023-12-01T19:19:51.271023400Z"
    }
   },
   "outputs": [
    {
     "name": "stdout",
     "output_type": "stream",
     "text": [
      "Number of unique songs: 29384\n"
     ]
    }
   ],
   "source": [
    "unique_songs = list(df[\"track_name\"].unique())  # list of unique songs, maps each song to an index\n",
    "print(f\"Number of unique songs: {len(unique_songs)}\")"
   ]
  },
  {
   "cell_type": "markdown",
   "id": "86f1ccdb-ef56-4194-af5e-c76992c670f2",
   "metadata": {},
   "source": [
    "We can now iteratively build our matrix by creating each playlist in a vector of its songs. This is done by one-hot encoding, meaning every column is a song, and every row a playlist, and the row-column combination is one if the song was added to the playlist. "
   ]
  },
  {
   "cell_type": "code",
   "execution_count": 6,
   "id": "a951f61b-4e6f-4b76-85ba-b7fbf9b3d1c3",
   "metadata": {
    "ExecuteTime": {
     "end_time": "2023-12-01T19:19:55.057045500Z",
     "start_time": "2023-12-01T19:19:51.284402300Z"
    }
   },
   "outputs": [],
   "source": [
    "one_hot_playlists = list()\n",
    "for playlist in playlists:\n",
    "    playlist_array = np.zeros(num_tracks)\n",
    "    for song in playlist:\n",
    "        playlist_array[unique_songs.index(song)] = 1  # set array to 1 at index of the song\n",
    "    one_hot_playlists.append(playlist_array)\n",
    "one_hot_playlists = np.array(one_hot_playlists)  # convert to one numpy array (matrix)"
   ]
  },
  {
   "cell_type": "markdown",
   "id": "d29018e9-801a-44a2-9418-ab7c3b6311d9",
   "metadata": {},
   "source": [
    "For example, the first playlist \"CHiLl\" includes the song \"Make Me (Cry)\" and does not include \"Mr. Brightside\". Check if the value is one and zero respectively at the corresponding positions."
   ]
  },
  {
   "cell_type": "code",
   "execution_count": 7,
   "id": "59f6585c-4e8b-4b17-8127-ddc24ae7a9c3",
   "metadata": {
    "ExecuteTime": {
     "end_time": "2023-12-01T19:19:55.072681300Z",
     "start_time": "2023-12-01T19:19:55.072163300Z"
    }
   },
   "outputs": [
    {
     "name": "stdout",
     "output_type": "stream",
     "text": [
      "True\n",
      "True\n"
     ]
    }
   ],
   "source": [
    "print(one_hot_playlists[0][unique_songs.index(\"Make Me (Cry)\")] == 1.0)\n",
    "print(one_hot_playlists[0][unique_songs.index(\"Mr. Brightside\")] == 0.0)"
   ]
  },
  {
   "cell_type": "markdown",
   "id": "957ca396-6acf-4a39-9527-2dee2b5b7471",
   "metadata": {},
   "source": [
    "The shape of our playlists should be playlist number times distinct track number."
   ]
  },
  {
   "cell_type": "code",
   "execution_count": 8,
   "id": "275e7098-446a-4799-afd2-43be31d0b27e",
   "metadata": {
    "ExecuteTime": {
     "end_time": "2023-12-01T19:19:55.087352800Z",
     "start_time": "2023-12-01T19:19:55.072681300Z"
    }
   },
   "outputs": [
    {
     "data": {
      "text/plain": "(833, 29384)"
     },
     "execution_count": 8,
     "metadata": {},
     "output_type": "execute_result"
    }
   ],
   "source": [
    "one_hot_playlists.shape"
   ]
  },
  {
   "cell_type": "markdown",
   "id": "ad9cba86-6cda-4456-a0ae-a66b423ffe87",
   "metadata": {},
   "source": [
    "We now apply matrix factorization on our data. This means, we try to find two matrices, which multiplied are as close to the original matrix as possible. We train using gradient descent, meaning we try to minimize the error in each iteration."
   ]
  },
  {
   "cell_type": "code",
   "execution_count": 9,
   "id": "3c3a9b53-ce9b-48f2-946e-e8a69a3389d5",
   "metadata": {
    "ExecuteTime": {
     "end_time": "2023-12-01T19:21:42.041548500Z",
     "start_time": "2023-12-01T19:19:55.087352800Z"
    }
   },
   "outputs": [
    {
     "name": "stdout",
     "output_type": "stream",
     "text": [
      "Iteration: 10 ; error = 2.1155\n",
      "Iteration: 20 ; error = 1.1530\n",
      "Iteration: 30 ; error = 0.7647\n",
      "Iteration: 40 ; error = 0.5546\n",
      "Iteration: 50 ; error = 0.4267\n",
      "Iteration: 60 ; error = 0.3408\n",
      "Iteration: 70 ; error = 0.2765\n",
      "Iteration: 80 ; error = 0.2321\n",
      "Iteration: 90 ; error = 0.1969\n",
      "Iteration: 100 ; error = 0.1673\n"
     ]
    },
    {
     "data": {
      "text/plain": "[(0, 15.295526520377306),\n (1, 8.377218879031965),\n (2, 5.834762190446305),\n (3, 4.557920102193173),\n (4, 3.760484254323002),\n (5, 3.2188950014340665),\n (6, 2.8396133221875415),\n (7, 2.5422054537340264),\n (8, 2.3147908110243582),\n (9, 2.115548275804261),\n (10, 1.970929788054907),\n (11, 1.818285740833489),\n (12, 1.6992442439892712),\n (13, 1.5895652702434653),\n (14, 1.499103205963745),\n (15, 1.4164011478723069),\n (16, 1.3395150733582029),\n (17, 1.2702212053383057),\n (18, 1.2063403710806984),\n (19, 1.1529861114380264),\n (20, 1.1005930957979086),\n (21, 1.0511870356714754),\n (22, 1.002157978870854),\n (23, 0.9671003053577073),\n (24, 0.9237745039057815),\n (25, 0.8890992072866498),\n (26, 0.8519255032738529),\n (27, 0.8233356365084263),\n (28, 0.7919509679083936),\n (29, 0.7647067113001538),\n (30, 0.7371832047002738),\n (31, 0.7141744922060613),\n (32, 0.6870928233026763),\n (33, 0.6724193711969266),\n (34, 0.6472667350298804),\n (35, 0.6257651187469201),\n (36, 0.607141264780451),\n (37, 0.5885560197090336),\n (38, 0.5711465432675675),\n (39, 0.5545502254263482),\n (40, 0.5397931279410931),\n (41, 0.5244361771718886),\n (42, 0.5146395719780236),\n (43, 0.49681755790412785),\n (44, 0.48962715388953787),\n (45, 0.47452118958803274),\n (46, 0.45843536420312675),\n (47, 0.4472002346647487),\n (48, 0.43726194317164396),\n (49, 0.4266810973468305),\n (50, 0.4150207887464572),\n (51, 0.40635737075106837),\n (52, 0.39592414322601316),\n (53, 0.39163322298956743),\n (54, 0.3775158043223635),\n (55, 0.3733017100920421),\n (56, 0.3611340528450624),\n (57, 0.3536888825920597),\n (58, 0.3457418097801653),\n (59, 0.34078904954007744),\n (60, 0.3310782302258571),\n (61, 0.3247498285259685),\n (62, 0.32004153748353525),\n (63, 0.31111139560323775),\n (64, 0.30682849654913563),\n (65, 0.2987150720941242),\n (66, 0.2946483133580335),\n (67, 0.28880694840316096),\n (68, 0.282315805341795),\n (69, 0.2764850783591115),\n (70, 0.27453558135786316),\n (71, 0.26604972041701463),\n (72, 0.2605130782204438),\n (73, 0.25606644628052866),\n (74, 0.25200810010582253),\n (75, 0.247968888774752),\n (76, 0.2429895678122066),\n (77, 0.23950837726486768),\n (78, 0.23413653622156014),\n (79, 0.2321090235505048),\n (80, 0.22622012418310367),\n (81, 0.22233252901284462),\n (82, 0.21840454793887903),\n (83, 0.21440104248951872),\n (84, 0.21104126383990032),\n (85, 0.20797818749773742),\n (86, 0.2047368942923785),\n (87, 0.20150700327538243),\n (88, 0.19762758087732837),\n (89, 0.19692493199021915),\n (90, 0.19221051274974554),\n (91, 0.18826667056844307),\n (92, 0.1871614474327644),\n (93, 0.18266058125407714),\n (94, 0.1803860924045774),\n (95, 0.1777540853307425),\n (96, 0.17475069863650225),\n (97, 0.17222608366078448),\n (98, 0.1695336485180323),\n (99, 0.16734215306923056)]"
     },
     "execution_count": 9,
     "metadata": {},
     "output_type": "execute_result"
    }
   ],
   "source": [
    "mf = MF(one_hot_playlists, K=2, alpha=0.1, beta=0.01, iterations=100)\n",
    "mf.train()"
   ]
  },
  {
   "cell_type": "markdown",
   "id": "cb05f028-ab55-424c-b3a2-6c3e58ec4853",
   "metadata": {},
   "source": [
    "As a result, we get a matrix where values should be close to their original values, but unknown values, in our case songs that are not in the playlist, are approximated by the matrix factorization. For example, if we look at the same song from earlier, the value is close to 1. Looking in at a song that has not been added to the playlist, the value is now approximated to how likely it should be added to the playlist."
   ]
  },
  {
   "cell_type": "code",
   "execution_count": 10,
   "id": "ff6b9be8-66fb-4bb3-9baf-88720a57938f",
   "metadata": {
    "ExecuteTime": {
     "end_time": "2023-12-01T19:21:42.395029600Z",
     "start_time": "2023-12-01T19:21:42.049461700Z"
    }
   },
   "outputs": [
    {
     "name": "stdout",
     "output_type": "stream",
     "text": [
      "0.9993663650257003\n",
      "1.00004585129019\n"
     ]
    }
   ],
   "source": [
    "print(mf.full_matrix()[0][unique_songs.index(\"Make Me (Cry)\")])\n",
    "print(mf.full_matrix()[0][unique_songs.index(\"Mr. Brightside\")])"
   ]
  },
  {
   "cell_type": "markdown",
   "id": "6c6e116b-a423-4e7b-8598-03c839968744",
   "metadata": {},
   "source": [
    "We use this matrix for making our recommendation. We do so by looking for the songs with the least difference to the number 1, since this number was given to songs that were in the playlist. Let's predict 5 more songs for our first playlist \"ChiLl\"."
   ]
  },
  {
   "cell_type": "code",
   "execution_count": 11,
   "id": "daa2707b-c9b3-4c4e-89ee-c6ab24f565a2",
   "metadata": {
    "ExecuteTime": {
     "end_time": "2023-12-01T19:21:42.572642900Z",
     "start_time": "2023-12-01T19:21:42.395029600Z"
    }
   },
   "outputs": [
    {
     "name": "stdout",
     "output_type": "stream",
     "text": [
      "2 Step (feat. T-Pain, Jim Jones & E-40)\n",
      "Main Chick REMIX\n",
      "Manea\n",
      "Your Boyfriend\n",
      "Reindeer(s) Remix - Outtake\n"
     ]
    }
   ],
   "source": [
    "rec_matrix = mf.full_matrix()\n",
    "playlist = 0  # choose which playlist to look at\n",
    "playlist_vals = rec_matrix[playlist]  # all predicted values for the first playlist\n",
    "diff_vals = playlist_vals - 1  # subtract 1 from each value to get difference to 1\n",
    "\n",
    "k=5  # find the k smallest values\n",
    "smallest_k_indexes = np.argpartition(diff_vals, k)  # get list of indexes ordered according to descending order of values\n",
    "\n",
    "i = 0  # record how many songs were output\n",
    "for idx in np.flip(smallest_k_indexes):  # look at which song corresponds to found indexes\n",
    "    if one_hot_playlists[playlist][idx] == 0:  # song was not in playlist already\n",
    "        print(unique_songs[idx])  # use index to recover name of song\n",
    "        i += 1\n",
    "    if i == k:\n",
    "        break"
   ]
  },
  {
   "cell_type": "markdown",
   "source": [
    "We can store our Matrix to make predictions in the future."
   ],
   "metadata": {
    "collapsed": false
   },
   "id": "13a7d24b7a52f516"
  },
  {
   "cell_type": "code",
   "execution_count": 12,
   "outputs": [],
   "source": [
    "with open('data/matrix.npy', 'wb') as f:\n",
    "    np.save(f, mf.full_matrix())"
   ],
   "metadata": {
    "collapsed": false,
    "ExecuteTime": {
     "end_time": "2023-12-01T19:21:42.970669Z",
     "start_time": "2023-12-01T19:21:42.572642900Z"
    }
   },
   "id": "af90f7eea4847d0"
  },
  {
   "cell_type": "code",
   "execution_count": 17,
   "outputs": [
    {
     "data": {
      "text/plain": "['4nMlau89VAjmV7agkl7OY3',\n '7vRriwrloYVaoAe3a9wJHe',\n '152lZdxL1OR0ZMW6KquMif',\n '3eze1OsZ1rqeXkKStNfTmi',\n '2QbFClFyhMMtiurUjuQlAe',\n '04DwTuZ2VBdJCCC5TROn7L',\n '6j328qpqI6nScYgOTW5rBl',\n '5uKryGXlPNcs1hqq7nCbVe',\n '3xgK660fsZH7ZDcOMfIdfB',\n '5uDASfU19gDxSjW8cnCaBp',\n '6DNtNfH8hXkqOX1sjqmI7p',\n '3pndPhlQWjuSoXhcIIdBjv',\n '1wZqJM5FGDEl3FjHDxDyQd',\n '4vNeJ6DoAlTPzoYO9W4mJH',\n '68EMU2RD1ECNeOeJ5qAXCV',\n '5dKyZWlgjWw1oJgLa4GCZD',\n '5xV0Czdqefft6sPDqjmFBu',\n '2BrzlUj1u1CtvaJDGIKpsP',\n '4F7A0DXBrmUAkp32uenhZt',\n '78rIJddV4X0HkNAInEcYde',\n '3aJkV6DUTSCqOwVwaBDG9B',\n '0KdczQzjtSU7PnVx792TAl',\n '1SN5BiwLs8hIVlyetAfirB',\n '3LwmXEZGgMUdkCgHbz7tBr',\n '43HHWK1V3YvvCsG9WstCob',\n '2xTeBEE0wJ14jjsDp6Aw6C',\n '0fwPpZRks3445e4Gq0s0n1',\n '4WOSnPruog3605oiLpZAqx',\n '5DRuqedbCnIskJqp7mQMPZ',\n '7HXMQ2jWI2de8iZaLCM98N',\n '2vVQHScO9IkSgmofSIjYEx',\n '2HIK7ZGx4PvFD89vd9wxxq',\n '10HbvFUtf6Yo0VtFTRcRvF',\n '5Clxl180dvIgvHZsJaPRT0',\n '5tam15sgdLxoxcwuSeyvim',\n '5q9k7uDMyVrLe1C23f1bwy',\n '2ybG7j6iMJ6cbbDwqKyvc1',\n '3GTEubHBid4BiAAjcRbyMC',\n '16B444Uk3QW6B1ikqbQZ2I',\n '70b5Sq3ePOu3Gqg0hjlOtR',\n '4C463MZrXGxq3t7A3wlGuV',\n '0qcr5FMsEO85NAQjrlDRKo',\n '3xDVJcvcKedshWlT3qGSHk',\n '2TsXkrYL2F5XbFCJztLCF9',\n '3T1SnpyLk328tKCV6qsnmX',\n '3h4hTUf64pVgBYufYdeeht',\n '18Tt0eJMSIwvSFjasjZfYZ',\n '5covTs92HnHJwAWrXF7l14',\n '2yi7HZrBOC4bMUSTcs4VK6',\n '5Jwu3ATeTtXbb2pkk6GETD',\n '7bG6SQBGZthPDG5QJL5Gf7',\n '7tHKjzBYfMZvprnfyHcOK0',\n '5mTIzzIv60E2B034cZs70l',\n '12RONGiPBjbbg78T4c43JY',\n '1nm4vrhyOvwJX5MJRlLAps',\n '38J7vmkCIvTtnP6Zd5bnuU',\n '0MQcZFYpZkH7TEN5WAKa6S',\n '0gPhwEnxp6WXpSOBH56Y5W',\n '6vWKjAekeMqQIRFnZsTQlS',\n '6LfdZ5mKEHqnX0gUnMD11w',\n '4hJfmMjy3wFIOknfYwhouY',\n '2gDMbg0vLQk48Vg6savgpk',\n '4vmcA4Gia58BX51G9adnEG',\n '0bYojQ73mBhvScDnWcJj5l',\n '0VEJcJRJEAhkqIFYjslfwZ',\n '276G3dXIJtxQ0tNHl7A78P',\n '2ujRfDgnCGtLxwblTwMM7C',\n '38MhIOO3qwOntKURknLyfV',\n '7BRXdKc4n4tXkKaqawOYnc',\n '4zN4PyENpPmJzRgrnu5vJf',\n '7CtSnl58GyX2X287Q2Il0L',\n '3jJErCGUo7tYc3h9CqJ9Nm',\n '5qbabyunovjoQbeYgpHAF7',\n '3IPnBzGRMg6BfViFxxa0Gq',\n '6SGpAGiFOd0eivyQ1enoTP',\n '0FmMxiHSHWT7J15PxHHplH',\n '01CJDcOSteNT93CgfgsajY',\n '4NOTBhpdI36x2S7q3kAPif',\n '65GjU6KDPzF5IO143vvTgn',\n '3tWidwEontsUJ67RSHxPgS',\n '2Pdo1VvYDB9FqeuNx8D1FW',\n '2aW9GjctURzw8Yt7BC3wJY',\n '5KWV7S3osWbeOMPHCeWVyK',\n '0YZGwrTenyJCBvQ64MKqY4',\n '3relJ5bU3ZnhrakliYT4fj',\n '3P4skIO0EF1c3C93GNwQpa',\n '6K5GAopLZzzg0ZX8k5GWwh',\n '4XPWKmy05Rcff6TLHNoNF8',\n '3AA8xNhDC0MpqwkGX3EP5V',\n '7BgUcOjSOlKJXASLgJ6bx1',\n '0tNuJpBgtE65diL6Q8Q7fI',\n '6iWs0J0CnadMMbxLQtZrCG',\n '3HoyAX58MUIBFCNmhMliHy',\n '0r5u9i2GzrqzU2Pv0eIvVq',\n '0NWJPV3utX0J4tfwzyotNB',\n '3XVBdLihbNbxUwZosxcGuJ',\n '5dxHF4lrDimKqnI3GaZUmC',\n '1MCem6JigI6jgQPMgriKbU',\n '7hYvzrvc725M046i7a1C6y',\n '2sNAjuCXxyj8jHt93t9IJ9',\n '2fE4MbwX3QGMzNaMjGVhtw',\n '2XCTU3DJ9W6glWSkM2uQTS',\n '4LOoPg7TavHtNmCTOfd9XQ',\n '0JEqGkvUiMTQmFY6sgL9kg',\n '6mZI2vbLv1UvlclwDQ4uvc',\n '0EWT5JnKOf6saRn4ASff3j',\n '1V2VKI1jmkpdwkLeBgwQhN',\n '2qxagPKgS2Wc05MLmJucBE',\n '4oPNN7syJYSjzDhRerF966',\n '6iFP92AND2nfZrEQyY0mN8',\n '0KQx6HOpJueiSkztcS0r7D',\n '0xiuSFBOEHWaJ6rSuUbJWc',\n '6LGwYMXXgURfaequXipzHx',\n '4bnMhJXL7reFRHMs5Pjjof',\n '3FWR4iiUUPHIK7OpiEgh8J',\n '3FFuQ5eoLNQU3IgbZP6F13',\n '6otqZiIqqzzzggZdd1rKgO',\n '5gl5lAiWZkHcXONWqmXGHj',\n '3xhXKRGahWzcXF8rD5gUvd',\n '09RS0QfhJVmx1zwwEGtMQu',\n '1VdKRU5fVwDVJTNv13Lddk',\n '6sHCAxqF7Z9nBjTtrDfeJ6',\n '6sIMSl1n3KDPr03Fw8mujd',\n '3ekAN7Ijl9vIemCaDbh29K',\n '7rha7gubXd3NJmBYGOAkeO',\n '6aWdmyIRRnxB6SicO6VFuJ',\n '5KIfOGEy5DM2TaT0ph5nYM',\n '4QKhhlgwDnXBwk23S0dzJd',\n '4ZzbcSm6MxnC15BcDqEYyK',\n '5g15o2Sm55Hn9ShK5yEXgp',\n '6RcQOut9fWL6FSqeIr5M1r',\n '4w7yrP4RAeeyhfG9nJqQvS',\n '0PDUDa38GO8lMxLCRc4lL1',\n '722tgOgdIbNe3BEyLnejw4',\n '6eYYm2xwrvdav2yakF3cqg',\n '5jzX4dWVQeBTtfBaXnMRt5',\n '3IJCSQoLF4YzPAKaxq2JLb',\n '7s0lDK7y3XLmI7tcsRAbW0',\n '2TJ5ei0GrErhEdAwWITbgd',\n '2RUuKIHFHjk41E7YsJ9HNP',\n '5HGibWoxnkYSkl6mHmAlOE',\n '5masKPHeAOVNgxdLebIcK7',\n '17Fd6Yb7mSbinKG8LoWfFl',\n '13VDHbpoKlRhtgUaWTE2Ld',\n '0CyLQDWS3ZF3eX4qQYcfXN',\n '7IAa7vUJ11STN7le8XaxsH',\n '0cOyO6VSiOdVms21hSHHEL',\n '0xrdZMsJIaxoTHAB4bvGnu',\n '2gZUPNdnz5Y45eiGxpHGSc',\n '6S5hhnRh9GQjGqticzvEzW',\n '2BPzAJ7bphennLbLoyPaGX',\n '4zTHYH48021nSS4boLgVUG',\n '7ADy9yJrXpirn1IrWo6jBq',\n '5BbYPT6ehZf0hSv2su6JAl',\n '3iEfyoDVRp3kyoKb6Tl6DR',\n '1RuyGO0kmkNkfixUFKkjuC',\n '6BVBkKpZK09NmifUMZqj1z',\n '1dXYBALYTj3AMxa8hgiQhA',\n '5pfJsMwoRYKampPay8amX0',\n '2cb076qjdgBcDmF38jmDXs',\n '6rbjfKEtCwEYuhiQVDSkFF',\n '2fh3bZ8jZhMxOcfESE9nQY',\n '3f9DeMtU3Sifmf5dqs2Ava',\n '4X5f3vT8MRuXF68pfjNte5',\n '5ybydtBlJJL82AprlvN7Lg',\n '4IL47uKMBf2ZA3Z6t0sRN0',\n '381YDF7J4RWDn4wdLE9ilk',\n '5znFetnJFcs6NwKo67xlcK',\n '1LjHre9uHSLMuUrKsl6ppX',\n '1QQfaiXS55IQt0kojVUvTP',\n '3Of77FYMTeIucSWOnOvAkH',\n '3hZTUqso4G9zicauTFR6zU',\n '3403qFGo7u2ptUyJbdEkjI',\n '6MWfLm5mekBlDaWUzUJvhU',\n '4HRvBs7EOlUGcOdtXSiRCq',\n '0NEBjIdTbeIdEmbrqFqIZR',\n '1mXJP9Fl3lRMxSgbjS4tUd',\n '3GSYWQNnSdovwC2H8HpziA',\n '3qAc2QEhxnUuiEHGVllBWq',\n '601zxWQ3WNJFnIOSrTiEkH',\n '6ZCZ7goVTV5zDRS8VPD4qe',\n '0CETmgFGt8Ne8vLnaLcduU',\n '7cGFbx7MP0H23iHZTZpqMM',\n '2CzWeyC9zlDpIOZPUUKrBW',\n '0XyeD5XgusMHQlEVlUfxSn',\n '7b0kVC0ikTPWDPEX5T04cT',\n '6h7ozUeJofRa3KxNaPWd9T',\n '6j52D48v4l1hjWOP8cHhIA',\n '3S0OXQeoh0w6AY8WQVckRW',\n '29HdGh6ggvlRydO2d4XWlk',\n '5RcXcDHzZeWdOFRWsRwzha',\n '6MGrXTz0TZaO6sbHZhOq61',\n '03kCR9HZpX5muU7D8xYPOL',\n '3wt8T97kzE7WsjwMcLkJvR',\n '2qLMf6TuEC3ruGJg4SMMN6',\n '1UOuZs8BPGMM6Ls0jP6BjQ',\n '2nbClS09zsIAqNkshg6jnp',\n '3I09LQbHS3NSU46Ly3tPpR',\n '5xJrAqkBlOyXzNe5QMMT1K',\n '1ihXpbFeeGkKmg85tzr4Ce',\n '3KuYxGg4s4FcrgFkwC9aVa',\n '4iOoHmJJiqyTxsXSa5uELv',\n '4JWZTNlLBlNoa5t7qn1M8i',\n '2ccUQnjjNWT0rsNnsBpsCA',\n '6dSMuejN1LbxkXDLC6T1Oi',\n '1gGY6qfslDtJ4OoWQGKtkE',\n '2QDx0OJsKHrrjkHbfyP3pv',\n '3n69hLUdIsSa1WlRmjMZlW',\n '6ECp64rv50XVz93WvxXMGF',\n '5mkGfmJGFZpwK9nA5amOhv',\n '5EA06TsQmqmQXZiEhr1AaM',\n '4LkYErZ63mSuUNFKuwblN2',\n '22RxilGS5NSRe2ELlyKeTi',\n '1FsH6OZCKLWbBgqj8JcCvO',\n '1WP1r7fuvRqZRnUaTi2I1Q',\n '6nLvaCZFR1wEzW3sIKpsnr',\n '2csEzCyoNhUXsPnZUeKa4t',\n '12jjuxN1gxlm29cqL5M6MW',\n '2iXdwVdzA0KrI2Q0iZNJbX',\n '6ZixfeFT8V0Nle1rMZAekY',\n '3yrSvpt2l1xhsV9Em88Pul',\n '17VegeBoHvMlIByrdu64KR',\n '1UcLCFiXKtolPWqIvukr9W',\n '2MLHyLy5z5l5YRp7momlgw',\n '2ihCaVdNZmnHZWt0fvAM7B',\n '69j0KoPJuwpnbGWrfn7Yll',\n '1ahAuX3F6tDdNRfMdiLsv6',\n '6si71supnBUhddjR2FJc2L',\n '7pudclCl5P99Me3P5F9hPC',\n '0fioLzGM8ngbD1w6fMmm45',\n '53Pgsvu3qSYO2aXt5J2vcL',\n '7yq4Qj7cqayVTp3FF9CWbm',\n '5Db9VIdDsN5yu3Eu7CT0i4',\n '5imShWWzwqfAJ9gXFpGAQh',\n '7DfFc7a6Rwfi3YQMRbDMau',\n '2aViS10Ts2T2kAo7G3fh7D',\n '1Slwb6dOYkBlWal1PGtnNg',\n '2FFOQpNyN4us5DaVaf6Qcc',\n '5ZsPy9wHH733NlU6c4v2Hi',\n '4d75stQ2jRfq8lzaqhFFKs',\n '3uXgvfwG946EZG9N0NkhgR',\n '64wR8Jdm7ikY3IbJOt5F9Z',\n '7uQztXdiRLRu4YSviPqfD9',\n '2Qf9SQ83Gmf9GQSxPjQh1O',\n '3UfCFlGruX0DRPCpD1V3pU',\n '64GRDrL1efgXclrhVCeuA0',\n '7xLhousIHDxoGgeJNhO4Ye',\n '5rwq6R0Uq0BngM3rdmCeNg',\n '2FgkwIXC52sHCbqVL8jE41',\n '6Qyc6fS4DsZjB2mRW9DsQs',\n '3AJwUDP919kvQ9QcozQPxg',\n '6u9cWDkxbTXaqf4GZP5MHh',\n '3cOO5IQtOYs7huq4Z6lYfr',\n '0BgbobvykXxEvxo2HhCuvM',\n '5RBx3tM9hmVJAOnSUHIWkn',\n '1dnXuEuApvuVqQCn0v9McL',\n '3uhBIQ7tv8j1FME8cFGEfG',\n '51gKblRBT6tEF9lCB2vL8s',\n '1G391cbiT3v3Cywg8T7DM1',\n '67wABU4SjBlnDHB0KiU3HL',\n '0ydsi4UHPiwLQWZKTlkcaP',\n '0tBBihoEWiWKqsO5ZlCbwS',\n '3WKg25vrbjJlkhsgl2W4p3',\n '3hB5DgAiMAQ4DzYbsMq1IT',\n '1B3jkf6CyuiF8CQcKlUx9y',\n '3pXF1nA74528Edde4of9CC',\n '6RJK553YhstRzyKA4mug09',\n '5erTWXdADowSkh825UUOho',\n '0p1BcEcYVO3uk4KDf3gzkY',\n '0PJIbOdMs3bd5AT8liULMQ',\n '0prR8J5ZG73jzlSQKYVJOH',\n '4kRMsLX7bJqjIfK44qJ9h6',\n '18z6OV5lknJmKnZi7aA1zH',\n '6T4DF3oagaZ24jCNW4OQLJ',\n '6mzaCRuLTRiz1caGOum3zT',\n '6p8bTieniQK872wBbRtpEP',\n '1gHtbcRP4tz1O1NsxPpBea',\n '5otjGJlO7jcsorvffThpGY',\n '23zykvOc3kJKObhUMC64EV',\n '4RSYgNxty83tnXcexSdgVA',\n '3PFaFVWq5wucLu6s4baj9D',\n '5pwRmAXcvH3yFIi6arUr3i',\n '389hKTL3ZBPPWP3VuXfEyv',\n '5dKy6Cgv6xwiRY3j3AJ7Uq',\n '0dYDmow4l5hbPs5E6QLMSC',\n '1qC0pi9ZH47XDjvaNbg8ch',\n '7ulFRg2aPxGDA4G5YPFm5Y',\n '6wU4RQqze2oRuwRaLFaFQD',\n '4vhe5edCxubpuNkSxrQXka',\n '2Jkr2MhFQEiJypWARvxvFQ',\n '6PZDPg3dZgJkNL6nVMUB4b',\n '4YtpfpP8pL8hVQ1LICpYDX',\n '7B5ROOzOCAu3R9Mxv8wYlt',\n '5TNspX9swzjDYuWlE9LzFe',\n '43PuMrRfbyyuz4QpZ3oAwN',\n '73C4vh7W8u41Vll5HvBqv7',\n '3cQmqM0awej9iAESjhKrI9',\n '28GUjBGqZVcAV4PHSYzkj2',\n '0J9yIH0Fm2IZvhsMPP4d4N',\n '2nZKShIb4aex7YWX0HLzEn',\n '0y60itmpH0aPKsFiGxmtnh',\n '4u8031pTkTODbRaDCbx8Yv',\n '3ASt4jBSatnN4RGMlym74h',\n '45tORLTHGyzygZNVnAhYnf',\n '37PW5zbkDIya8arHEHEo6q',\n '3DtMcYnhKFFpIMTKLNwYb5',\n '5Gfi5kRTnxm0FaQLN1nzxA',\n '0EXdB7xUEp2sxWHmofyi0n',\n '4BHSjbYylfOH5WAGusDyni',\n '53pBFnEZ5zVNnwKc2HviB3',\n '3z3YSdB9436faVTBSsw2kW',\n '6KuXb26rHuRy3ZDse1VRmx',\n '2KsGvh6TqO6AxvTlN2ENeg',\n '1Yxbxg5R6dQcYmOdjvlXP0',\n '5W4vPDfwFNQqt7frRjL41t',\n '5KboIqx30dztT6wmEVFn17',\n '4E92bmgFiHxvy2SNjXjC3b',\n '6byH2KwTyfq76lucjvwX2I',\n '2r0lAM25q5tJE1H4SesviY',\n '4jOnuuH978bGvGA8m8KB58',\n '5XK1xClRUXSwCUu4I0E1RV',\n '01BCcxcNobPWN2sijlxBrA',\n '5T3JxG8cWXvHZiENvVYgg2',\n '59rJ98XzTQ1ci15ldU26sg',\n '6YD9XQ6woFtacq7kPCfEGL',\n '5hta2od3e6jW2U4eenUFFB',\n '5QmEPEwd71aQWYRnnF1Tin',\n '6s4xndGKUhW0xXPYvFlwcL',\n '0EUWH2R8S6uRIapGQxBcOk',\n '2UAMy9T8jWOjRVlQvHOmsn',\n '5oeOWXjH8NZFOWP0SpSXqV',\n '18LgnmZIds56d00L53aauA',\n '2ZWlPOoWh0626oTaHrnl2a',\n '7l9CE3wmEGOUYw1j4ETjnL',\n '0jeJR3LdrC2QJNviq7wjzp',\n '6oo0HD3mrcYtzApYeYsS4L',\n '1x1BKrrpq7CfOZPBeUsx16',\n '3ak6Fscs4qMoVsIwaDLgZv',\n '5g2J8zkYoREF1NOJuCuXGc',\n '5p3NP9mQblDsVJLdfNZJ3I',\n '705u4LfXcTBuDOB8UCy0A7',\n '6PGoSes0D9eUDeeAafB2As',\n '6SwRhMLwNqEi6alNPVG00n',\n '52ojopYMUzeNcudsoz7O9D',\n '0BOoLANQBD95YUz21DVbRH',\n '2C0KFbb4v9CNWR5c9jWcKC',\n '0XTOkFhWdcAZy51dnOf6uQ',\n '3iDK8BAaBUatPR84gdfa9g',\n '1GJNXjCzhaqivYTKVvm5lh',\n '4g3Ax56IslQkI6XVfYKVc5',\n '11KJSRSgaDxqydKYiD2Jew',\n '1zayuwd1YLZsYDArkruHdL',\n '0d28khcov6AiegSCpG5TuT',\n '3kxfsdsCpFgN412fpnW85Y',\n '4L7jMAP8UcIe309yQmkdcO',\n '4k6ktr10Hczmh55NY3LfJy',\n '0v9Wz8o0BT8DU38R4ddjeH',\n '6HZILIRieu8S0iqY8kIKhj',\n '343YBumqHu19cGoGARUTsd',\n '2cbWaw8K4fKvR9kgBg3ugq',\n '7oSUp4yZ0FbuSvVmCxH2ty',\n '3eFepXGITXNDXXHUNqouxi',\n '0sqE6XPi9VAaWl5NxDyMQK',\n '73gASYnzwZAzq5IYQf4Hff',\n '1CLmFKW99S8eJrebO3GB04',\n '6fkL9CjWmjeV6vfDxTp9OZ',\n '7F25roCtYi55JouckaayPC',\n '2qGzBSMUdm8gQ3TtXJc5jy',\n '0725YWm6Z0TpZ6wrNk64Eb',\n '1JxkQAXBMLhuplAo9wCONR',\n '62vpWI1CHwFy7tMIcSStl8',\n '3C57ewlHARCVqeH3KiYkma',\n '3utIAb67sOu0QHxBE88P1M',\n '4Rb1u2S1MAaEeTKTOy8B7F',\n '7tr2za8SQg2CI8EDgrdtNl',\n '2xhYJsedez063Zck7450eQ',\n '6Nle9hKrkL1wQpwNfEkxjh',\n '5n0CTysih20NYdT2S0Wpe8',\n '7hDc8b7IXETo14hHIHdnhd',\n '48q0vSHcJdhK3IiXH8C5WJ',\n '1DrlLvlYd1FIjNavRm6NdX',\n '2m6knc5tEfzVYwGY6GlCPm',\n '7Kq16WtEJzdRSNQgdXsn7Y',\n '1aQZKoiKKH8Y7bz0C18BGv',\n '6MU3ZTQNkV9mUcTSHgoxjr',\n '4sPmO7WMQUAf45kwMOtONw',\n '5SQNDwOrrGsZ6OM3PK8B3Z',\n '3QVIMAZ1Q9a4SzYiZlMjiM',\n '4AV4RaqSoYnX2GfukdskGi',\n '7HVXADgT97OT4QTI54QDuu',\n '5bk6hidunWPAZBerZ4vZJN',\n '75iIalBlg6g7krYDWAfFUT',\n '5zLvo9lek82KN9QKRpJojD',\n '7HHhRo8HZMDTENX2mJWbnv',\n '3HEn14GqygLCNfroOnYiZb',\n '0uNQegBj46nOOav7afDsTI',\n '6FP1Eh4MuOVvc772uUXnQr',\n '1z0fe3VowqMMSsh8Rr2BrI',\n '60ZZNXIdwgUGkVGRt7foLT',\n '3h1t0qCNmhzdlgXoEzPbCT',\n '0Z7cJizY93V2SGCpNKYV2j',\n '28kyjZIBkJrxCwckuCQgzy',\n '3GtyifgP2JMGVz2VFm5III',\n '0U7gBQyN6wG1TwdkhDNNll',\n '1BaOhe084eXesllCBZXHYn',\n '4C9c580uQLtuiGb7tp5Ssy',\n '7G7zCzvyqz39BFE7TqPM3O',\n '29HSkfe5ITejb0MXhroHtG',\n '5HxfLkSX2Nl7BErO1q15sa',\n '6qoH2pKeEibNUG1pnJIjmZ',\n '5hTpBe8h35rJ67eAWHQsJx',\n '6EErYXgsGBMkwpITHuKuCI',\n '5O3RkxV98C4scNgom1Eaue',\n '4gV209d7WZmbrIZ5jgu30A',\n '7k3YrlUP1DxGe802jjuT1L',\n '6UJThOHpnTSWu583jJ4dbo',\n '4JYYh3rdLw8zpbkBgl4Dww',\n '4gFxywaJejXWxo0NjlWzgg',\n '6KRpHi3wIj5obPdhy8VZyM',\n '2kbbvppgJd9rz18gfsofRI',\n '2afYi5gkO2frFoi1aXpckY',\n '0QdyqVGmNIEqxIMTFXvvO3',\n '59PL9AwYjIrIpP04n9gmMR',\n '5bgFKHB5Y9OqyjHaC1OhVq',\n '0Ws8D3EWUDgY962Xftb0h5',\n '1bXLpqe49cqEpj88uPR4pu',\n '7GdwIsiVLKrsvwFsdBK9Cy',\n '7ELEbHcqSgthu1Nqp9RgUR',\n '2p980qlVXYLh3HdHusbhfa',\n '1aS1uzcAC14lduwuNJZjqE',\n '13eIqQ8l5LxzfZEXo3zUhz',\n '5X2ETPyXrgOne1hLVIw4vy',\n '6wRMQZQp9uLkl4JZ8CXf45',\n '0HC0DQfCneEYFMRYCG9m4s',\n '7vhOZ7D4z03Y0tYkxFAG15',\n '2vKLkZVcwldjR4lFWVEVmm',\n '1DnJlbiELCQcZJwywwBOKC',\n '6X3km3A3Wc5o1mQ6gRdSmo',\n '1pnR28aySSHxrjoMvZA8Oj',\n '7ed489vsqZ0zImoUnLuyVS',\n '4bEEnNjno6EL9S4MkiYBSz',\n '4QbPrLWca2IT0X2eG1b82Q',\n '7xSIYgB6KVCQNmKVVFwSkM',\n '2faSzprTWJ7L1EkZNko4ww',\n '1vcAHEXL5Cl9TUk0ESvWnN',\n '4bMIRaesSZwIldFWCGs96S',\n '6ReKt5x6FVUXTMdWNC6GAQ',\n '5twaePekbwfkX2suUaS5CM',\n '1qAdXsZFUTZgtewuzlMLnx',\n '0RweUCzWNmSfyozSbyKz88',\n '2208Pkqr9zSappQMfKfJKk',\n '63hOJX2jdHeRRXQlCKh6gQ',\n '5Ak1WawJtN2sTijFZoKQEJ',\n '6GyDY0yE47rfk8pcuKhioh',\n '0JEbonaxAPspOEnt1GdtqJ',\n '5N0l6rPFbUsi3JyHBFE25z',\n '3YC49IfQ0MYue5m8KHt7Qx',\n '3XXO8o0P48IxMf2y0kTJhh',\n '3khGLOwYCqu4IRNRd0vosw',\n '5UZNhm49B9ZrunnSf96Nkc',\n '3h4fDEtFWgLNFDLBzYq0IO',\n '1Zqy9bervYUomy12Pbm3rP',\n '6tuZKBiS1p6Ig0UtC0ii0Y',\n '0OTpz9cTT3BUCilO5XTs7c',\n '2Th9BGKvfZG8bKQSACitwG',\n '20s34XSPIiYMGSFDRSs24t',\n '6E1dxU9KL2FYgjv8hM54Dx',\n '3bPlMzfHJMYqdAC80NLPTb',\n '2lrRWbiHPdBicufAqrGN3r',\n '2tznHmp70DxMyr2XhWLOW0',\n '4sebUbjqbcgDSwG6PbSGI0',\n '4h4qZgzHongzXzxyhCPKtt',\n '7qoevFlh0HPPt3mJXoTJoZ',\n '7L9g4cPfohScjJ8mGwLQWr',\n '2Nh2cMryoXl7BrZoIeN2Pr',\n '1dXCXb006YbPSAajh6qhaF',\n '39rHfrVqCX6A55GF7uOZSC',\n '2gJx8ohUZPcfDbvH1OgY3o',\n '6ipPdKoiZz0dEB7eGj55oR',\n '4QRWA5UqYU1st9aO0UfxOj',\n '4TGjzXm4Mpo4zScpdqBkMf',\n '5yyJr6cv3cObSAioXR8h8X',\n '7kFxZ5ckpMi2RhN1WH8cn2',\n '6qcuRcbz8DCLG6nG4or8Uo',\n '4BdGO1CaObRD4La9l5Zanz',\n '0lMbuWUpfTWhEmOKxppEau',\n '5v0C3nNNDMhZ3nWzzP0W4T',\n '6aLLeJkRBXCekXntRY3tMC',\n '4HW5kSQ8M2IQWZhSxERvla',\n '45GTuMUP3lNuZcw7MGKfhx',\n '4fVqQKbROkz8Z9FFJS7vls',\n '4Pwjz3DfvfQWV0rO2V8jyh',\n '1SnpbRuM74XlUujYFvqWR3',\n '6EzPSB7qmHou5LrCZmXOzx',\n '4o9wvGpLZi4pla9CxvDsHb',\n '1I7XCtIe49rcEzcmdu8AnD',\n '0rlwXmsvGIE3l8qEoM2PlJ',\n '0BW2dDMThgAUzWTySIZdDm',\n '0UVkeeh91kqgf3JuWVrBuT',\n '1IKKZJovte5PkKt4aCzNLY',\n '3cCxoOgfi6hgt8MNteuiiD',\n '2HcXLdZxCmtGuMfQ3A8bhk',\n '6rhFQMrr2BWrnLewzBh0Wq',\n '0OdgyUig3oQTf96PcKJDZG',\n '6oUxfy9C4uDiR8kAQUZb0C',\n '135EP4qT9Eo0Uu0fMIln2c',\n '45yEy5WJywhJ3sDI28ajTm',\n '1W7Pqllthmsm4JropRBVFp',\n '5xZjfKSfTooDP2rcAgjxlH',\n '4mT5mVFaU7trA3UdbGqfB9',\n '46GGxd8TVRt6FjUBfCavVT',\n '0sgpDWD8lFKaJNSFuhULyq',\n '161DnLWsx1i3u1JT05lzqU',\n '6f49kbOuQSOsStBpyGvQfA',\n '7t8BYlMLFD69KP6pXgA5Aa',\n '3Lfiu5sZ4M4B6JaKMBc0FU',\n '5COPw6K4B6PPpeUXIE2Ry5',\n '3Izr0NYJm5Hp4hwCgtZbDJ',\n '4I7VRMbaqi6GdSkaSxe1he',\n '5AWQnmcrXODkY1MrqEOji1',\n '5QfjjXpqTmWjzm9auqzQSJ',\n '6vt0I1cw1YmAIKDJvHVIM5',\n '4YR6Dextuoc3I8nJ0XgzKI',\n '3D0b0441vvXFJvgbaiDyp3',\n '6N1EjQjnvhOjFrF6oUmGPa',\n '7tGlzXJv6GD5e5qlu5YmDg',\n '0wm2hhtpRDtidodGobkttG',\n '3rq5w4bQGigXOfdN30ATJt',\n '5WObuDOxPHlQaoYUf2W4lh',\n '4WiiRw2PHMNQE0ad6y6GdD',\n '3JxaZPq4UjkOaxnpyMUtAC',\n '135SEcW19xWXM3WghwdUBa',\n '5j9iuo3tMmQIfnEEQOOjxh',\n '72FdcAg79So8xaAHs2mbrB',\n '3dDGmTHmzYpfZivVzd7W0d',\n '0Gi17qCJh9e9RJxLaYkm9l',\n '6WhzFzROw3aq3rPWjgYlxr',\n '4ybyq1pLxA7PnbbCp6sNu7',\n '1AhDOtG9vPSOmsWgNW0BEY',\n '1jdNcAD8Ir58RlsdGjJJdx',\n '46dszOgLrnBSqbo6Vkc91Q',\n '04Jdmzb6gfuSZxGfAFc2NH',\n '7fvgzmfXxrdTcrL3xh2cBD',\n '2t1fTBad9HcM52Zb8MYql4',\n '3BVfLmBuTVRSHQSNFLk827',\n '7wwifjNAb172PtDpKK3CoR',\n '4bHsxqR3GMrXTxEPLuK5ue',\n '2NtAwdkesWt1QkcMTe4IjN',\n '5rgy6ghBq1eRApCkeUdJXf',\n '5rJDpFuffh8UFEKqvzCAZP',\n '6Fha6tXHkL3r9m9nNqQG8p',\n '310epXrlbXmfGcD1qSdgVV',\n '6pAH9ilo8UkRIraNc8YVkR',\n '6ZYS6QQxTLsQ6IFXdVx1r4',\n '7tmtOEDxPN7CWaQWBsG1DY',\n '4ol9WoZzEvvldE5Ttal1DK',\n '2H6dHxAxGq5oQ9EiinNpXT',\n '4OsBjrJQbPSMAqdjLBaGOt',\n '6RsWqX8zABZLhZydXxEFOm',\n '0SuG9kyzGRpDqrCWtgD6Lq',\n '16pwlVsypm4aDKMhXdOuXg',\n '4RnCPWlBsY7oUDdyruod7Y',\n '1Ujrbg6RNkyazJ6DbRAutG',\n '29tzJGvqJPTAFs6LXmsHoA',\n '6Rxnq6T6b89rgQaDmzBF0l',\n '3e0yTP5trHBBVvV32jwXqF',\n '6Z9FNZ414aQrT7k5zSTIKY',\n '4moXVLw4YS7tVNmjs8v60A',\n '6vSwxzO2Qf4BinHSXRwZJe',\n '2iUmqdfGZcHIhS3b9E9EWq',\n '7BVwi9cIzSc6tpyxsp47vJ',\n '1mqlc0vEP9mU1kZgTi6LIQ',\n '5g7rJvWYVrloJZwKiShqlS',\n '0IqKeD8ZSP72KbGYyzEcAs',\n '2goLsvvODILDzeeiT4dAoR',\n '6M23RkYPbVR91c4iWVNkcl',\n '0qt5f5EL92o8Snzopsv0en',\n '0FDzzruyVECATHXKHFs9eJ',\n '0Zrug5Ry3x6x60lohpEU0C',\n '0EMmVUYs9ZZRHtlADB88uz',\n '2d9totnSVmmczPtHFl8Ys6',\n '4zweVv3Wa6XgexhoUOzkYs',\n '7m47Go71qTMBs4kTH7U8F8',\n '7pzdiluN2tVrxsFGyM2Asc',\n '7l1qvxWjxcKpB9PCtBuTbU',\n '0j6YwWZVHsIFKr5FDEu68o',\n '1V4jC0vJ5525lEF1bFgPX2',\n '6JV2JOEocMgcZxYSZelKcc',\n '4kbj5MwxO1bq9wjT5g9HaA',\n '25khomWgBVamSdKw7hzm3l',\n '1fLdeDTrJWNkwOeFyAVLvF',\n '7GJClzimvMSghjcrKxuf1M',\n '6b5rA9rthDbZDOQp9UbOgl',\n '15DrrIod12Tc2IoMaHiwlQ',\n '4eLSCSELtKxZwXnFbNLXT5',\n '5edBgVtRD0fvWk140Sl21T',\n '15twB7zTglmu0Bg8gW4Mrm',\n '6V9kwssTrwkKT72imgowj9',\n '7wMq5n8mYSKlQIGECKUgTX',\n '71O1jD7bF3cdMPvPi186V6',\n '07BAaeVwEwkzQrE3qJxJ5S',\n '1UqhkbzB1kuFwt2iy4h29Q',\n '5j6ZZwA9BnxZi5Bk0Ng4jB',\n '7w87IxuO7BDcJ3YUqCyMTT',\n '6lpWMtQoGqQyEZuyIwhbkO',\n '57i3M29DWoo7RDk0Tf0LZG',\n '3xqF04FdMK7gpIPG3SPFpY',\n '2Kgjd9G808FhUDRhS2gidG',\n '6jrMVRReY24qzCfe1BRrww',\n '3lSDIJ2abCrOdDJ6pshUap',\n '50fCm9Wuerl1Ram0FUDEaL',\n '286bpRdcpueYPc7gLIvrzU',\n '4rD6ZUmIKanxgxuFumAHP1',\n '6miFQ5ev2eTrEBJVFNRVcF',\n '6tP1NaAIoxSTzeFgCUO66V',\n '5CeL9C3bsoe4yzYS1Qz8cw',\n '2aksifNn5ph8igDOkPBA02',\n '2KGyzDarkQlaiJMhpDK84b',\n '4BNhasx75KbS10jHq3VZTz',\n '7CfwMm7x2HLQ1bllMosD9k',\n '4wYFAS2o03xNCN12Yi69Gu',\n '7s5UpEtsbTnIwhRNw5G2sK',\n '5206FzVYsszAtY0PfLm9dp',\n '20XdEFyaUR9C7aDIdq2OAd',\n '2nMeu6UenVvwUktBCpLMK9',\n '6bZBHeQVOVGLvAwnQKb6rC',\n '2UyWClHKt6fut3IpS2tJiR',\n '2qTy3hGSbxoSenKmlKGHFw',\n '5r011NB07RHjABbuVGVIbd',\n '0ug5NqcwcFR2xrfTkc7k8e',\n '4ELvEIXSuvEEnq0ngsyzQs',\n '1qT4WewpOkOepuHixR5KzA',\n '7d23MhPFE9eB3U8DPRirnL',\n '5al9is1AQnaI3lTi20DUG6',\n '4uGOdAFauRDbSy1lImngox',\n '1hQ7QP3sFDVCJQEK3ul4ci',\n '5Hp3iE6mv7aqfOOojBqUwi',\n '6kUs2GCl1LaGdkoBkzeKbR',\n '5aAx2yezTd8zXrkmtKl66Z',\n '6dfhF1BDGmhM69fnCb6wSC',\n '5ChkMS8OtdzJeqyybCc9R5',\n '2kJqNHHGOzLNahukdvlDWN',\n '2Eg8N0qgB1wQ64TexXSOCu',\n '0LtVx5vsq9nfpGsWgjUin6',\n '4VrWlk8IQxevMvERoX08iC',\n '7nayEFikyMxUhuDQnqD7X8',\n '4GKk1uNzpxIptBuaY97Dkj',\n '6a930x0L0PmYQIu5itOU82',\n '51QEyJI5M7uyd8DOh9tqQY',\n '4h3mvydH0AX4z3MHxIWRJU',\n '7oK9VyNzrYvRFo7nQEYkWN',\n '3CBWtVFHhxeaHVm4VverBG',\n '27SdWb2rFzO6GWiYDBTD9j',\n '1m4dXbkplvaOO4Wbdjbwxs',\n '5hgnY0mVcVetszbb85qeDg',\n '2Gyc6e2cLxA5hoX1NOvYnU',\n '7yHEDfrJNd0zWOfXwydNH0',\n '7Ezwtgfw7khBrpvaNPtMoT',\n '14WWzenpaEgQZlqPq2nk4v',\n '1rIKgCH4H52lrvDcz50hS8',\n '3CJvmtWw2bJsudbAC5uCQk',\n '4qqArAiTPueDxIp7cf87h7',\n '4BHzQ9C00ceJxfG16AlNWb',\n '1uXbwHHfgsXcUKfSZw5ZJ0',\n '6Sm2YzLtL8FcyTMONOkiFw',\n '0zVMzJ37VQNFUNvdxxat2E',\n '1klGbW5a9qTBFUjFfddbmU',\n '4xjkURdXzlD9v41aqxKj14',\n '0Z0iYAtKYswMYXL3kJtdO4',\n '4FmxP236eZunoF0n4NEGml',\n '0R4rGtHysL0KXVpy3rWY7t',\n '0vuVujlG8OFyLhi8iCUiwC',\n '7KsZHCfOitA5V9oQYVdltG',\n '2PlP2rRrgSz8lC7MpH3e4e',\n '5eLpZ8zv4yncE0RFZlRpD2',\n '1qwnPVOIJjAFfCc40Etb1D',\n '1K13OsIMc0HLgEJHZoWH78',\n '6prvUr8l3t7x5GY7heQb5w',\n '2PtBhfoPZ6VYtXkrE5FrCH',\n '6ZrlXT6mUMEgomN128iekU',\n '6vTtMyCg96xwpoIBws9K0Q',\n '75jHGZkVYcbLDlS1SQkWgz',\n '0aersVHlGGXcHeRvHtuaSt',\n '2fZZPs9gwlUoAMJRayBWMk',\n '2eQOMQkStoRUQyq6HGh1iG',\n '72zmwnbXjx9fMUjw3mbDSs',\n '2w7O4XCRoIJrwF1NqKL9TM',\n '6gLQrU5bvwPf6BTlCSO6x2',\n '6qewYf1Su9xeaAp9iEQpUw',\n '6Vas6h9lB5mmeVDXdFqlQA',\n '2pAgTgf9xMnI8pGANiLRO0',\n '7f4WCVcAM8m3B7ThYYjeYu',\n '0dPBlz8N0veeceejtuvpPz',\n '1tTV7mRV9uB2Nr9VcwkuFX',\n '5H2cgEPEJxA72Bqb4cLvrj',\n '6NNQNJ8cfTGSS54h9Y2UJM',\n '28khdnxEpIAjkp730IxOIf',\n '2eoZr92GWsqCaYkkCGWuxl',\n '1RZol1Tb9jdUWZo09RVlnn',\n '08ks6P9JP6uG9CCsySfnZq',\n '7H8fBamGUheu0DSpp3pj03',\n '4C1Smq2t3MVOPzsUPWW0oX',\n '3yMfLvCSYdEiy6Ejw23V8U',\n '74vYfMULltZonBbcRGjNXy',\n '0tKcYR2II1VCQWT79i5NrW',\n '7EoSDrwBPUBeBEORrpvgko',\n '3ySU5vwQB33iGulwcUL9qQ',\n '3ysiD7ZgsPc3xgGJ59DpS7',\n '4Sfa7hdVkqlM8UW5LsSY3F',\n '17aDyX39gb1iV1ZWvD1ffE',\n '1wC93sZRGcTgKLN2UWRSwW',\n '6iOQIQleZKnvWbPu9LZLnY',\n '28eTONaWJyd0Jbnkb7xaDO',\n '69bp2EbF7Q2rqc5N3ylezZ',\n '4djIFfof5TpbSGRZUpsTXq',\n '30lgD1UuHczwlxa7NZFeSQ',\n '2GiJYvgVaD2HtM8GqD9EgQ',\n '6IY3cC281mz9q0bViUEldz',\n '4lrJ8Q1byY29tFK7tdDUun',\n '6Mw8emdPHjhXbWdQ62O1QU',\n '5iusTRtwefmITJ5XypGDkh',\n '0zdJ4mbyGwViAZUcD8p4I5',\n '3JS6IcNjhDD3ctMiajPmUG',\n '02mVOumORPap7T7vXQVsnk',\n '3tSw3g3x1NABEeXTyyHpBH',\n '4eo94bSYxu6DpHNFy5t5Nx',\n '0gmeEAGM037Vi9JHiMi0mz',\n '6qU1goSyF3QBqi88DwvUHp',\n '6cRCpgttJwiCeEP6RyfXnd',\n '1g25u4zwr8grnAgsHuy1jE',\n '78p2lUWUPABqD9dpteOp2e',\n '7HCUuV3auBHAC3LkZnkwnp',\n '408W2a51nGfAzY4AmWbt2H',\n '66GErA9dli1Ot69LDxY2TC',\n '5E6dDfNA1zpnRlENsFGxMN',\n '3KLz2jVYxEvFOXXf3mkUry',\n '4NuWipK2IoWVkatkNIYvTP',\n '4uErsVfX56dvv9Sfggj6MF',\n '7uj6s6UffjBA4FQlOBLboG',\n '5y4iu0nMND7zo9RrC3DyUI',\n '35reG60ct9bR0gaTbyPhia',\n '6HiCuhOMT1Z4HAWfpu64kR',\n '717bUJgd8ooNLjwNFSSSJP',\n '6Gz5BU2LKbb8fSUQyHmm8S',\n '47wbbr8ySrG84ZKgk1iIzv',\n '78FeposMYbkB47EalBwkUg',\n '29MdKI3n6qm3BFNhqHi4Dc',\n '5sbnIf8UZTGmo5GB62EcSD',\n '29xU1MrjeHkk1JrM24ZLtx',\n '59ySDZq9gWEfULZ7vd8wSp',\n '1hhGXcIjFaKiq8lJmzDmxw',\n '7IWzzk1tAwE47qIAQEc4Mf',\n '1ffRRgFiA0uVMHsjR8Ksuf',\n '5lbI9jER0f7unshWM3V4Fz',\n '6NgMUHtxy8N83QJOvmBBCp',\n '5jwAgfXjZ4tm1f3IRpWH0Y',\n '2KlVbBHVDyXJQJbQxHXkAK',\n '5Lf5qXU6WAntwF6QZv5PiZ',\n '3k1FL0wLrpcE0USiC3N7Uh',\n '3cC4wta3eB0zfOidugpFSc',\n '5ti1nvaDCCVCfXgGjmr0Lg',\n '5YVWbcHtp8MBSTM4ZOAGvM',\n '07IYom3ORpuD9uMlAtUHFQ',\n '3yRsxoLfd5UBLb6TLsSMaU',\n '0tyMPv98vI7JDMV90Lr9Jy',\n '6yb2NwnQKrKPUBzdTCsrIo',\n '4XXxODo8FaQdRwH0oQIglo',\n '49TOJQPrJvBjk588YJozEB',\n '1Q4iJhYRPgIH6DAkXJ2mDs',\n '3NK5ac9dl9nqvMN9LggwX3',\n '54vPpXqfxOuFq9tAwrOq16',\n '6NcRe5fJM5vqy9IjbSz6vl',\n '1RJEvXmSJA0etum39ZTr2D',\n '1gfDBEx1iPQoP5XuaffpfP',\n '3dzCxdYjKm6ryLoZsRhpJS',\n '3kBKe2i29ZZzpDaxFo1oou',\n '76q1CG9jI1aNJ23nE6TV9f',\n '64kdhP66AYQNMIliCF1fZl',\n '0EdYabNlaGu7UhzESy22yJ',\n '6VYeC4SqVZ73LtHgQ5dR6l',\n '5sHde7fFQ5TthEulnBllhi',\n '5N2PSiyIJWZBxKeSQ1bU6w',\n '53znNLtAB37eBOiCZ0pHTh',\n '6GeFEV4u94uXiWa3b00lar',\n '6l5jJJ69RftlJCnYTJZ2uM',\n '7o9ZrcvgUx1mN38Mi4UVhg',\n '1pNlpisHyqBfLStgeQV79t',\n '3WtHBnBuphGybc4ZbOkfBf',\n '5npWL5tfuLH1Oye7K0gLMK',\n '4erwLrK34oGEj8GaaKwPF9',\n '6lJMZcq11Q46Vyh6QpluEV',\n '2vVEVRbicYiwMhJcSosYiG',\n '0WWje51aWKEuCXsBwHGO5J',\n '7sT3Gh4fkXvsRcSeyLaGoD',\n '2LfPioczcmsxdTpl0P0l1o',\n '7qNnzncPrl6osHxzeTYbg8',\n '44qxyhBDugx50HsLJZ90qA',\n '0iUqUXOK4Fu7PS0JouR1h5',\n '1TLwpNJJ7r55IlNQxdCHju',\n '4Wdd0VzjgGsb0iCje6wOVf',\n '4gjxpC3s09YsoOjZFelhZq',\n '35RHPSPtgfRzRUyzJoEK0m',\n '47gT4PQzZ8vyL6WPOsF5pc',\n '6Eatm588l4FkO2qChOAVIA',\n '5pybSRL3TtPznqNsw55oRL',\n '7qfDbuvLJuIM48kBAbT3jg',\n '4PUdr69uSB2gRTAFKckIqz',\n '5Y2Ka0oeyGO1H2jTqI2ERs',\n '66OdinUIBbGYVNtjW3S5WQ',\n '1VD0X6ymgYc4bvYUHDfVuT',\n '2Nn0llDEauSVLkBkxV7SVb',\n '0DQzFXzf7J3kzVTnegMjeE',\n '25GUBLsPdrxVrVkJYmsYRq',\n '438pDeitzDDEtunOhnmDEp',\n '4ps6pYyPRyYFwuL7gkZFQ7',\n '5YgneDKJXyjL35WQ60LoXt',\n '2im92XQTgsTlkg1nA4J24B',\n '2MNhHpqoL4GGDpH0zqc59n',\n '0MuQ36mi4TGzASG4mqkG3H',\n '4gAduVa6KjfXdVNBlcTpvk',\n '66t1u4HwUcx8VuMqLHBWby',\n '10Vd9XfmKhtu2cxFTyCnFO',\n '0kW9JFF0P9omIuQflSwmkk',\n '0wmlo7aL8mlGRzLuC10rhb',\n '0dr0lfwrUjGwyHeQ04KUhX',\n '5X07UeVjfoYJWiwsNYs15y',\n '78NoFzoarfGghgX1ONqrhE',\n '58ITgmXtA0jshJCn6h0Rgy',\n '1jMp4hooxTlZFnRegBShOr',\n '1I2P96M4RU8DBJUVYCsGqD',\n '3ZD5EEWmD4Hn0DUkd8j8dm',\n '3h9OxvHWsKFspA5sqY6VmQ',\n '2mt69OC90bvW7y5fM9wYXO',\n '54bwNZee2aXYU3IhmqnrTi',\n '0SmQlXJaggMxGS7oQSIKgV',\n '7zz1drChhd4hQBiGSnLRBZ',\n '55F3PibHgY3QfvOLK9Ya5v',\n '74w6ussB9QVgQaoMYiZ0ak',\n '4X3qGigyU6ARi3HP4lWD95',\n '0MiX0DUvJlnUr9l4rT9REC',\n '7KGoCQTPqna684xgd2D9Th',\n '5pi4fQgSo7EoFSUqciEUbT',\n '0hCS0joLwNPEGQY7x2Szsr',\n '4cWwkJxCz6Xu0gOkvbTadt',\n '41IShViF79gmulEkIHAjcb',\n '2vy6wlsw73kL7eLz7nVo0u',\n '3MjUtNVVq3C8Fn0MP3zhXa',\n '59FYUvlodY7NCZGHk7yJt1',\n '5z7mYFfhw6N6f23VwrokJD',\n '5o4yGlG0PfeVUa6ClIyOxq',\n '2ZQ4Q9xL7W8FEgO1d4o7YH',\n '7C86DVl6REN8VPeGEMOf9q',\n '4LXDHgBC1mbz3uoehYxH9b',\n '5vEE1d5gkv3pgfZyppLeX8',\n '4nthV2eZAXnt4yiJMocLkG',\n '1xg1yGPy1Y3YUf44s6TB1o',\n '04KTF78FFg8sOHC1BADqbY',\n '0J1Wfjo9H3R62yaCuuNDZX',\n '5KY7zgFeH2GWoL1zP9mME6',\n '6tBdTwcyyGq1HU3PXgZK82',\n '6W2Ef5Ph6ILTUAedoQ3QIv',\n '3jagJCUbdqhDSPuxP8cAqF',\n '6dViIgkYIRccNImPln58rS',\n '2PpruBYCo4H7WOBJ7Q2EwM',\n '0l3GEbH3CviUytD6iX4wzg',\n '5DCA1FOUDBURlRTNg4ganf',\n '28IvFkxf9TBHdCIe3n1JWm',\n '4omisSlTk6Dsq2iQD7MA07',\n '5ZKVNTG7yu7gbX4vryqS2X',\n '6C7RJEIUDqKkJRZVWdkfkH',\n '0uqPG793dkDDN7sCUJJIVC',\n '29LHe8kG3PraghUZOZYsw4',\n '75DjPjiIp2fvJDjtt41Jfs',\n '2hKdd3qO7cWr2Jo0Bcs0MA',\n '6ldwfK0yWgTAlmIfuQkTYN',\n '60a0Rd6pjrkxjPbaKzXjfq',\n '6dnvLAxaPQRTb5ANxImp8Q',\n '73AElRO42LtQlBId3tA2Oh',\n '0I3q5fE6wg7LIfHGngUTnV',\n '4tgeQrPu5xkrnwErym2JsJ',\n '6Z7i5PyIWZQt3pTmULwYS7',\n '06iMqWThw4w8fTFyccvOwr',\n '0Ph6L4l8dYUuXFmb71Ajnd',\n '7kpafSrf0xBPFSyR1AziSO',\n '0rimetBQIYXE3uMCbuXBUa',\n '7qtAgn9mwxygsPOsUDVRRt',\n '2Lg4kvhOrPhpGEZmSe7VAN',\n '5p0KCAuu5nrHpTuAIhHdLw',\n '2Aebl2cIDLjPUvOJPH8xyH',\n '2N3JVnB85hqJl6SzTlZOxv',\n '0v1XpBHnsbkCn7iJ9Ucr1l',\n '2gocMpiwnMRLDejlcSJt7J',\n '4Ctmbw1hJks6cPrr6x8FbC',\n '2IiNA0s5eQBSjwK4iNeUvW',\n '4bk78jvK8Fe9YHqruOJW0v',\n '0WqIKmW4BTrj3eJFmnCKMv',\n '3pRjpQahpix0exFO8Y3CNH',\n '5QpaGzWp0hwB5faV8dkbAz',\n '6PJx7Jurx7OKFyZpPE59c2',\n '21CCDnq8ROJEnQ7CL72xFA',\n '7w9bgPAmPTtrkt2v16QWvQ',\n '734xplxSpoW22U5OeeZcr8',\n '6NSJOIyKYcRZh28Kf0URTw',\n '31CsLSgn0HdZEVC8Bnnmvr',\n '3CpoeW0cZSDzIRv5z34F87',\n '2cMTIlktg3M9mXYqCPqw1J',\n '4zYTZvtcww7OWKie7fxA9E',\n '1qi8VATu50jHUn7ckSWh3S',\n '0jG92AlXau21qgCQRxGLic',\n '34ceTg8ChN5HjrqiIYCn9Q',\n '1HaZ5x3c3HXRrLLHfsjO5p',\n '4c9VuqkKaey9u0IihbUKTt',\n '2xlnEhQjSCqNPIJX42ARej',\n '3aw9iWUQ3VrPQltgwvN9Xu',\n '0q3lwFiwQYQynThTulLKGN',\n '0it4iEbCYlWUfSM2LEy1gh',\n '0kr6d8wHDQPlzuET33NVn6',\n '5y69gQtK33qxb8a24ACkCy',\n '68pN2UQYhwQgPy7VrCFKuV',\n '3XplJgPz8VjbDzbGwGgZdq',\n '7mS8RbJji2UZAaguRGsOCH',\n '2tP7ZekzXfduShx8C6cbll',\n '5jaOa7ybiQjBdhoouGuNjH',\n '6RxuvJUAE6SrLtinV1Ebaj',\n '0cv1Mnb47oMvjVKMc2cyZw',\n '4YP5IwwbQEDUgDCG5jNmDq',\n '62A1DpyagGOZ56048rg2aV',\n '6mPpHS9ocuKjsehu8NgD7r',\n '7GPbLkRMgFuU4WtTYYFmeW',\n '5I1RLZDjJhUzYH5GrzSoKa',\n '4BOHngI1gLDA5OZFTZVAHl',\n '18J5HylXTteQJC00iwdgFf',\n '7BoWuTVwBzhc0xeNNH3LWC',\n '6INCY99c7qXPWEmjFIaK9O',\n '2nvZv4qatgsDIbEqqbQLUT',\n '1jaeMuWDRTOchy12L2tYYw',\n '0eKRwDBVWxCXWpLYFYrbd1',\n '228GdlTUI3OwzAe0b80PNe',\n '45p0MAVey0dnjZXo8kMUzh',\n '3fA1qoN0JeNjAMc09VZvSf',\n '0LOcXq48Q660WIRrMlhEDP',\n '2O9qT4CD0VyqAnmlCXkhPG',\n '6JKoTnberZoBgUuxa6l4Kh',\n '5hoIHhznbiKYv9sIpZzuR6',\n '7JIng8f1mUfmjjrl9SuSeM',\n '60Ih7J2Q1o9shvMC2OAALu',\n '4tmwiN9YU7xMjh2hoqcVuI',\n '7I47HANN2FITxyANkTtPLd',\n '5y1iInKBJiE9Qfi4eKOal9',\n '0r7ENzd68eR1P6gMlMRz60',\n '38oKdgvtkrumcKgctNh4UG',\n '2MYl0er3UZ1RlKwRb5LODh',\n '2IWtloZYQDcP8Ashwx8QEF',\n '1ajMtpXxmsezJwEUJ25cGs',\n '3BxWKCI06eQ5Od8TY2JBeA',\n '2bhc6XrBDzSNaSObCbGmmo',\n '6eKEJZFWllRX4UALhPU967',\n '3Y8WRvVlQHMvtBwaV4TGlJ',\n '6fOh11kHHoQiwSNA5ybRA9',\n '2eJ8ij1T3cNUKiGdcUvKhy',\n '6QHGyXR0m3PDStlyHN8dYK',\n '4WUduEPZZG6wiE9B5IklnY',\n '5Hbjtizef0CjwiaWeJCwEm',\n '7ygPFpVr47AGcIjza9XHRA',\n '4CcO3NC6KqgpRivEsi96T7',\n '2R0y7UJEqS7ltOC2LZAGKj',\n '2ADjph0wc7zfGzrIgM5lWr',\n '3WtB2who5tPeyzpe2rAoPk',\n '558BHSecDFS85E2L2aKzP8',\n '6bRjYP2M9N0vpsBBXFZSH1',\n '1kAZE1Wtwg8sd7lCyLUweb',\n '3mxMrdo3fJjDbb64nagoXR',\n '3ebrniHtOzNWigJhEkWguR',\n '44jJCNW8frQLEWpYuAQz47',\n '2qppEPX84bYQmgBjCeF8FO',\n '371oFaGHOqCmqRwx0XxEpo',\n '3kb38wezoUA8ki5jPYy3t5',\n '5AZof20SHZrZ3ea7rESo1y',\n '2CdNHP8DJ5tfbRoIRdcTeE',\n '4VbDJMkAX3dWNBdn3KH6Wx',\n '4LgIcna8LRrR3DOomihYMY',\n '3nAq2hCr1oWsIU54tS98pL',\n '4iEOVEULZRvmzYSZY2ViKN',\n '0asgUXlUG3DCI7MrUNYjC0',\n '26ZTwQyRVbec9wQ0OaihjE',\n '43O3Iu8mDJy10i6k8SVRXX',\n '2kZeHILwAVbKbvnfXd4mut',\n '6vECYJHxYmm3Ydt3fF01pE',\n '7xVLFuuYdAvcTfcP3IG3dS',\n '3x2YIvkLcxvZQsA5x6xyIR',\n '3MkcVmqLSxHTkTFgczctbQ',\n '4yTLzGr4hPiNWR8L88wTo6',\n '0UPsdEgJx6ypkfFUxD3ZHh',\n '5PtEpuVX03k9bOUwilL5EO',\n '7e8utCy2JlSB8dRHKi49xM',\n '2MvvoeRt8NcOXWESkxWn3g',\n '3Kj2EWpIBnvETsYq4cq0IH',\n '3b00LSFIRqnHvkoDEs5fkg',\n '5HF5PRNJ8KGtbzNPPc93tG',\n '0wDEiGfq4pw7FAkYKpkwMo',\n ...]"
     },
     "execution_count": 17,
     "metadata": {},
     "output_type": "execute_result"
    }
   ],
   "source": [
    "unique_songs_uris"
   ],
   "metadata": {
    "collapsed": false,
    "ExecuteTime": {
     "end_time": "2023-12-01T19:30:25.010633600Z",
     "start_time": "2023-12-01T19:30:24.990993200Z"
    }
   },
   "id": "db2b55cf5e2fc96d"
  },
  {
   "cell_type": "markdown",
   "source": [
    "Save track IDs and playlist names in order to be able to reconstruct the information."
   ],
   "metadata": {
    "collapsed": false
   },
   "id": "4f2dc6c3649ab4f4"
  },
  {
   "cell_type": "code",
   "execution_count": 19,
   "outputs": [],
   "source": [
    "track_name_to_uri = dict(zip(df.track_name, df.track_uri))\n",
    "unique_songs_uris = [track_name_to_uri[x] for x in unique_songs]\n",
    "\n",
    "with open('data/unique_songs_uris.txt', 'w') as f:\n",
    "\tf.write('\\n'.join(unique_songs_uris))\n",
    "    \n",
    "with open('data/playlists.txt', 'w', encoding=\"utf-8\") as f:\n",
    "\tf.write('\\n'.join(list(playlists.index)))"
   ],
   "metadata": {
    "collapsed": false,
    "ExecuteTime": {
     "end_time": "2023-12-01T19:30:56.350153900Z",
     "start_time": "2023-12-01T19:30:56.314881900Z"
    }
   },
   "id": "46e29676bc31e529"
  }
 ],
 "metadata": {
  "kernelspec": {
   "display_name": "Python 3 (ipykernel)",
   "language": "python",
   "name": "python3"
  },
  "language_info": {
   "codemirror_mode": {
    "name": "ipython",
    "version": 3
   },
   "file_extension": ".py",
   "mimetype": "text/x-python",
   "name": "python",
   "nbconvert_exporter": "python",
   "pygments_lexer": "ipython3",
   "version": "3.12.0"
  }
 },
 "nbformat": 4,
 "nbformat_minor": 5
}
