{
 "cells": [
  {
   "cell_type": "markdown",
   "id": "a02efc9d-19b7-4ca6-9700-0511dd3f804c",
   "metadata": {},
   "source": [
    "# Collaborative Filtering"
   ]
  },
  {
   "cell_type": "markdown",
   "id": "e7583ba8-331c-4238-a061-1ea5b6b35c26",
   "metadata": {},
   "source": [
    "Collaborative Filtering means that interests of other users are taking into account for making a playlist prediction. Spotify uses a matrix where each row is a user and each column is a song, each entry therefore resembles how often a user has listened to a song. Since this data is not publicly available, we will try the same approach, but with a different matrix. The matrix will have one row for each playlist and each column will be a song. The entries of the matrix are going to be 1 if the song is in the playlist and 0 if not. Read more about collaborative filtering [here](TODO)."
   ]
  },
  {
   "cell_type": "markdown",
   "id": "b58a8742-d41c-44e6-902a-54b44fe3acf6",
   "metadata": {},
   "source": [
    "Let's first import all important libraries. pandas DataFrames are used to store the data and numpy arrays for matrix computations."
   ]
  },
  {
   "cell_type": "code",
   "execution_count": 13,
   "id": "1c95d708-54b8-46b5-aba1-4d67ee2ceb6d",
   "metadata": {
    "ExecuteTime": {
     "end_time": "2023-12-04T00:47:45.452007400Z",
     "start_time": "2023-12-04T00:47:45.369897400Z"
    }
   },
   "outputs": [],
   "source": [
    "import warnings\n",
    "import numpy as np\n",
    "import pandas as pd\n",
    "\n",
    "from scripts.matrix_factorization import MF  # for matrix factorization"
   ]
  },
  {
   "cell_type": "markdown",
   "id": "9cd66f9e-d69d-45df-9bea-7313a2c8478b",
   "metadata": {},
   "source": [
    "Load the raw data."
   ]
  },
  {
   "cell_type": "code",
   "execution_count": 14,
   "id": "afcfff27-de33-4652-921b-b54ea63ef93a",
   "metadata": {
    "ExecuteTime": {
     "end_time": "2023-12-04T00:47:45.751209600Z",
     "start_time": "2023-12-04T00:47:45.378287Z"
    }
   },
   "outputs": [
    {
     "name": "stdout",
     "output_type": "stream",
     "text": [
      "We have a dataset of 60732 entries\n"
     ]
    }
   ],
   "source": [
    "df = pd.read_csv(\"data/processed_data_train.csv\")\n",
    "print(f\"We have a dataset of {len(df)} entries\")"
   ]
  },
  {
   "cell_type": "markdown",
   "id": "98caa4d1-e629-4226-9411-2daca9d4d2f4",
   "metadata": {},
   "source": [
    "We want to build a matrix where each row is a playlist, and each column resembles a song. The dimensions of our matrix resemble those of the playlist number and track number."
   ]
  },
  {
   "cell_type": "code",
   "execution_count": 15,
   "id": "342b3e17-8e31-4e01-bd64-93c6f340b46b",
   "metadata": {
    "ExecuteTime": {
     "end_time": "2023-12-04T00:47:45.767039400Z",
     "start_time": "2023-12-04T00:47:45.751209600Z"
    }
   },
   "outputs": [
    {
     "name": "stdout",
     "output_type": "stream",
     "text": [
      "Playlists: 779 \n",
      "Tracks: 27902\n"
     ]
    }
   ],
   "source": [
    "num_playlists = df[\"name\"].nunique()  # count distinct values, this is the number of playlists\n",
    "num_tracks = df[\"track_name\"].nunique()  # count distinct values, this is the number of tracks\n",
    "print(f\"Playlists: {num_playlists} \\nTracks: {num_tracks}\")"
   ]
  },
  {
   "cell_type": "markdown",
   "id": "05cedca0-becd-4437-be08-16dc9453a4ea",
   "metadata": {},
   "source": [
    "Group the data by the playlist name. This results in a Series."
   ]
  },
  {
   "cell_type": "code",
   "execution_count": 16,
   "id": "3d330301-389c-42e0-823d-a97311de9288",
   "metadata": {
    "ExecuteTime": {
     "end_time": "2023-12-04T00:47:45.837470800Z",
     "start_time": "2023-12-04T00:47:45.767039400Z"
    }
   },
   "outputs": [
    {
     "data": {
      "text/plain": "name\n CHiLl         [Fresh Eyes, i hate u, i love u (feat. olivia ...\n Frozen        [Queen Elsa of Arendelle - Score Demo, Reindee...\n indie rock    [Back In Your Head, Be Good (RAC Remix), Bambi...\n#Relaxed       [Bag Lady, On & On, I Can't Stop Loving You, L...\n#Workout       [Can't Feel My Face - Martin Garrix Remix, Ign...\nName: track_name, dtype: object"
     },
     "execution_count": 16,
     "metadata": {},
     "output_type": "execute_result"
    }
   ],
   "source": [
    "playlists = df.groupby('name')[\"track_name\"].apply(list)\n",
    "playlists.head()"
   ]
  },
  {
   "cell_type": "markdown",
   "id": "5b8ad424-cc62-4e46-9ff6-48c9d3ce57d2",
   "metadata": {},
   "source": [
    "We need a list of the unique songs to create each playlist vector."
   ]
  },
  {
   "cell_type": "code",
   "execution_count": 17,
   "id": "0fefb3df-470d-4f25-ad97-b48066dc215b",
   "metadata": {
    "ExecuteTime": {
     "end_time": "2023-12-04T00:47:45.837470800Z",
     "start_time": "2023-12-04T00:47:45.790183900Z"
    }
   },
   "outputs": [
    {
     "name": "stdout",
     "output_type": "stream",
     "text": [
      "Number of unique songs: 27902\n"
     ]
    }
   ],
   "source": [
    "unique_songs = list(df[\"track_name\"].unique())  # list of unique songs, maps each song to an index\n",
    "print(f\"Number of unique songs: {len(unique_songs)}\")"
   ]
  },
  {
   "cell_type": "markdown",
   "id": "86f1ccdb-ef56-4194-af5e-c76992c670f2",
   "metadata": {},
   "source": [
    "We can now iteratively build our matrix by creating each playlist in a vector of its songs. This is done by one-hot encoding, meaning every column is a song, and every row a playlist, and the row-column combination is one if the song was added to the playlist. "
   ]
  },
  {
   "cell_type": "code",
   "execution_count": 18,
   "id": "a951f61b-4e6f-4b76-85ba-b7fbf9b3d1c3",
   "metadata": {
    "ExecuteTime": {
     "end_time": "2023-12-04T00:47:49.186559200Z",
     "start_time": "2023-12-04T00:47:45.800708300Z"
    }
   },
   "outputs": [],
   "source": [
    "one_hot_playlists = list()\n",
    "for playlist in playlists:\n",
    "    playlist_array = np.zeros(num_tracks)\n",
    "    for song in playlist:\n",
    "        playlist_array[unique_songs.index(song)] = 1  # set array to 1 at index of the song\n",
    "    one_hot_playlists.append(playlist_array)\n",
    "one_hot_playlists = np.array(one_hot_playlists)  # convert to one numpy array (matrix)"
   ]
  },
  {
   "cell_type": "markdown",
   "id": "d29018e9-801a-44a2-9418-ab7c3b6311d9",
   "metadata": {},
   "source": [
    "For example, the first playlist \"CHiLl\" includes the song \"Make Me (Cry)\" and does not include \"Mr. Brightside\". Check if the value is one and zero respectively at the corresponding positions."
   ]
  },
  {
   "cell_type": "code",
   "execution_count": 19,
   "id": "59f6585c-4e8b-4b17-8127-ddc24ae7a9c3",
   "metadata": {
    "ExecuteTime": {
     "end_time": "2023-12-04T00:47:49.186559200Z",
     "start_time": "2023-12-04T00:47:49.182928100Z"
    }
   },
   "outputs": [
    {
     "name": "stdout",
     "output_type": "stream",
     "text": [
      "True\n",
      "True\n"
     ]
    }
   ],
   "source": [
    "print(one_hot_playlists[0][unique_songs.index(\"Make Me (Cry)\")] == 1.0)\n",
    "print(one_hot_playlists[0][unique_songs.index(\"Mr. Brightside\")] == 0.0)"
   ]
  },
  {
   "cell_type": "markdown",
   "id": "957ca396-6acf-4a39-9527-2dee2b5b7471",
   "metadata": {},
   "source": [
    "The shape of our playlists should be playlist number times distinct track number."
   ]
  },
  {
   "cell_type": "code",
   "execution_count": 20,
   "id": "275e7098-446a-4799-afd2-43be31d0b27e",
   "metadata": {
    "ExecuteTime": {
     "end_time": "2023-12-04T00:47:49.195017200Z",
     "start_time": "2023-12-04T00:47:49.186559200Z"
    }
   },
   "outputs": [
    {
     "data": {
      "text/plain": "(779, 27902)"
     },
     "execution_count": 20,
     "metadata": {},
     "output_type": "execute_result"
    }
   ],
   "source": [
    "one_hot_playlists.shape"
   ]
  },
  {
   "cell_type": "markdown",
   "id": "ad9cba86-6cda-4456-a0ae-a66b423ffe87",
   "metadata": {},
   "source": [
    "We now apply matrix factorization on our data. This means, we try to find two matrices, which multiplied are as close to the original matrix as possible. We train using gradient descent, meaning we try to minimize the error in each iteration."
   ]
  },
  {
   "cell_type": "code",
   "execution_count": 21,
   "id": "3c3a9b53-ce9b-48f2-946e-e8a69a3389d5",
   "metadata": {
    "ExecuteTime": {
     "end_time": "2023-12-04T00:49:16.125526200Z",
     "start_time": "2023-12-04T00:47:49.214684400Z"
    }
   },
   "outputs": [
    {
     "name": "stdout",
     "output_type": "stream",
     "text": [
      "Iteration: 10 ; error = 2.0281\n",
      "Iteration: 20 ; error = 1.1173\n",
      "Iteration: 30 ; error = 0.7482\n",
      "Iteration: 40 ; error = 0.5483\n",
      "Iteration: 50 ; error = 0.4339\n",
      "Iteration: 60 ; error = 0.3413\n",
      "Iteration: 70 ; error = 0.2817\n",
      "Iteration: 80 ; error = 0.2381\n",
      "Iteration: 90 ; error = 0.2051\n",
      "Iteration: 100 ; error = 0.1777\n"
     ]
    },
    {
     "data": {
      "text/plain": "[(0, 14.950884613801279),\n (1, 8.106850615677738),\n (2, 5.6156187089921605),\n (3, 4.34589675812203),\n (4, 3.6369515615855916),\n (5, 3.0704483719141593),\n (6, 2.721259858534696),\n (7, 2.426036324221732),\n (8, 2.21713954013998),\n (9, 2.028119560985024),\n (10, 1.8767216549766619),\n (11, 1.7429925483038409),\n (12, 1.6443373719828338),\n (13, 1.5337784269549746),\n (14, 1.4577419774451954),\n (15, 1.3697593945867361),\n (16, 1.302472751841376),\n (17, 1.2284534027093708),\n (18, 1.167544730299626),\n (19, 1.117332974074874),\n (20, 1.0781493639897863),\n (21, 1.0201660153555974),\n (22, 0.9864622149518064),\n (23, 0.9393765836974682),\n (24, 0.9017368970492708),\n (25, 0.8657816130041736),\n (26, 0.8313908622980881),\n (27, 0.812399769339396),\n (28, 0.773426103795423),\n (29, 0.7481871056269123),\n (30, 0.7210426180393957),\n (31, 0.6962544019272964),\n (32, 0.6749146914219895),\n (33, 0.659488473004516),\n (34, 0.634691653091266),\n (35, 0.6152434789410065),\n (36, 0.595898701434051),\n (37, 0.5801295108936905),\n (38, 0.5622674823500659),\n (39, 0.5483052126520594),\n (40, 0.5316945520170684),\n (41, 0.5183210865262289),\n (42, 0.5051908830212561),\n (43, 0.49347162958334034),\n (44, 0.480257576434533),\n (45, 0.46716811253107493),\n (46, 0.45661329245404075),\n (47, 0.44451926289733806),\n (48, 0.4365933204472248),\n (49, 0.4339011315196454),\n (50, 0.41316900820619135),\n (51, 0.40461763891051933),\n (52, 0.4002104938379465),\n (53, 0.38683352076923405),\n (54, 0.3790853174307318),\n (55, 0.37117409199128104),\n (56, 0.362599941095258),\n (57, 0.35504540057226003),\n (58, 0.3496680364344725),\n (59, 0.34128939688928095),\n (60, 0.3356412422624143),\n (61, 0.3273134719974285),\n (62, 0.32107645017535413),\n (63, 0.3157489402274721),\n (64, 0.30990734292703553),\n (65, 0.303480704501488),\n (66, 0.2982955638441857),\n (67, 0.2930284405039658),\n (68, 0.2872478554040681),\n (69, 0.28171311175529373),\n (70, 0.27755493726912733),\n (71, 0.27277998813252957),\n (72, 0.2685117243115174),\n (73, 0.2638197818092396),\n (74, 0.2592620485460349),\n (75, 0.2533676776550013),\n (76, 0.24984929883951065),\n (77, 0.245287637248556),\n (78, 0.24228742601103634),\n (79, 0.23806886860093762),\n (80, 0.23526443814347378),\n (81, 0.23211887417307445),\n (82, 0.23075221719223263),\n (83, 0.22534482460505506),\n (84, 0.22025349349915896),\n (85, 0.21858323808792207),\n (86, 0.21388390105104169),\n (87, 0.2109018051189238),\n (88, 0.2090560722116071),\n (89, 0.20508532347187639),\n (90, 0.20168840149652087),\n (91, 0.19855696291848118),\n (92, 0.19618153750847755),\n (93, 0.19308583049241398),\n (94, 0.1918381367269508),\n (95, 0.18767382368684205),\n (96, 0.1848275790838066),\n (97, 0.18293887268437356),\n (98, 0.18516855189128395),\n (99, 0.1777078913978389)]"
     },
     "execution_count": 21,
     "metadata": {},
     "output_type": "execute_result"
    }
   ],
   "source": [
    "mf = MF(one_hot_playlists, K=2, alpha=0.1, beta=0.01, iterations=100)\n",
    "mf.train()"
   ]
  },
  {
   "cell_type": "markdown",
   "id": "cb05f028-ab55-424c-b3a2-6c3e58ec4853",
   "metadata": {},
   "source": [
    "As a result, we get a matrix where values should be close to their original values, but unknown values, in our case songs that are not in the playlist, are approximated by the matrix factorization. For example, if we look at the same song from earlier, the value is close to 1. Looking in at a song that has not been added to the playlist, the value is now approximated to how likely it should be added to the playlist."
   ]
  },
  {
   "cell_type": "code",
   "execution_count": 22,
   "id": "ff6b9be8-66fb-4bb3-9baf-88720a57938f",
   "metadata": {
    "ExecuteTime": {
     "end_time": "2023-12-04T00:49:16.469552500Z",
     "start_time": "2023-12-04T00:49:16.125526200Z"
    }
   },
   "outputs": [
    {
     "name": "stdout",
     "output_type": "stream",
     "text": [
      "0.9998369191681457\n",
      "1.0001460949905643\n"
     ]
    }
   ],
   "source": [
    "print(mf.full_matrix()[0][unique_songs.index(\"Make Me (Cry)\")])\n",
    "print(mf.full_matrix()[0][unique_songs.index(\"Mr. Brightside\")])"
   ]
  },
  {
   "cell_type": "markdown",
   "source": [
    "We can store our Matrix and use it in the [evaluation notebook](evaluation.ipynb) for making recommendations."
   ],
   "metadata": {
    "collapsed": false
   },
   "id": "13a7d24b7a52f516"
  },
  {
   "cell_type": "code",
   "execution_count": 23,
   "outputs": [],
   "source": [
    "with open('data/matrix.npy', 'wb') as f:\n",
    "    np.save(f, mf.full_matrix())"
   ],
   "metadata": {
    "collapsed": false,
    "ExecuteTime": {
     "end_time": "2023-12-04T00:49:17.010583600Z",
     "start_time": "2023-12-04T00:49:16.469552500Z"
    }
   },
   "id": "af90f7eea4847d0"
  },
  {
   "cell_type": "markdown",
   "source": [
    "Save track IDs and playlist names in order to be able to reconstruct the information."
   ],
   "metadata": {
    "collapsed": false
   },
   "id": "4f2dc6c3649ab4f4"
  },
  {
   "cell_type": "code",
   "execution_count": 24,
   "outputs": [],
   "source": [
    "track_name_to_uri = dict(zip(df.track_name, df.track_uri))\n",
    "unique_songs_uris = [track_name_to_uri[x] for x in unique_songs]\n",
    "\n",
    "with open('data/unique_songs_uris.txt', 'w') as f:\n",
    "\tf.write('\\n'.join(unique_songs_uris))\n",
    "    \n",
    "with open('data/playlists.txt', 'w', encoding=\"utf-8\") as f:\n",
    "\tf.write('\\n'.join(list(playlists.index)))"
   ],
   "metadata": {
    "collapsed": false,
    "ExecuteTime": {
     "end_time": "2023-12-04T00:49:17.042091200Z",
     "start_time": "2023-12-04T00:49:17.010583600Z"
    }
   },
   "id": "46e29676bc31e529"
  }
 ],
 "metadata": {
  "kernelspec": {
   "display_name": "Python 3 (ipykernel)",
   "language": "python",
   "name": "python3"
  },
  "language_info": {
   "codemirror_mode": {
    "name": "ipython",
    "version": 3
   },
   "file_extension": ".py",
   "mimetype": "text/x-python",
   "name": "python",
   "nbconvert_exporter": "python",
   "pygments_lexer": "ipython3",
   "version": "3.12.0"
  }
 },
 "nbformat": 4,
 "nbformat_minor": 5
}
