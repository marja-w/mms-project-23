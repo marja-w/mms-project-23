{
 "cells": [
  {
   "cell_type": "markdown",
   "id": "a02efc9d-19b7-4ca6-9700-0511dd3f804c",
   "metadata": {},
   "source": [
    "# Collaborative Filtering"
   ]
  },
  {
   "cell_type": "markdown",
   "id": "e7583ba8-331c-4238-a061-1ea5b6b35c26",
   "metadata": {},
   "source": [
    "Collaborative Filtering means that interests of other users are taking into account for making a playlist prediction. Spotify uses a matrix where each row is a user and each column is a song, each entry therefore resembles how often a user has listened to a song. Since this data is not publicly available, we will try the same approach, but with a different matrix. The matrix will have one row for each playlist and each column will be a song. The entries of the matrix are going to be 1 if the song is in the playlist and 0 if not. Read more about collaborative filtering [here](TODO)."
   ]
  },
  {
   "cell_type": "markdown",
   "id": "b58a8742-d41c-44e6-902a-54b44fe3acf6",
   "metadata": {},
   "source": [
    "Let's first import all importan libraries. pandas DataFrames are used to store the data and numpy arrays for matrix computations."
   ]
  },
  {
   "cell_type": "code",
   "execution_count": 15,
   "id": "1c95d708-54b8-46b5-aba1-4d67ee2ceb6d",
   "metadata": {
    "is_executing": true
   },
   "outputs": [],
   "source": [
    "import warnings\n",
    "import numpy as np\n",
    "import pandas as pd\n",
    "from tqdm import tqdm\n",
    "\n",
    "from scripts.matrix_factorization import MF  # for matrix factorization"
   ]
  },
  {
   "cell_type": "markdown",
   "id": "9cd66f9e-d69d-45df-9bea-7313a2c8478b",
   "metadata": {},
   "source": [
    "Load the raw data."
   ]
  },
  {
   "cell_type": "code",
   "execution_count": 2,
   "id": "afcfff27-de33-4652-921b-b54ea63ef93a",
   "metadata": {},
   "outputs": [
    {
     "name": "stdout",
     "output_type": "stream",
     "text": [
      "We have a dataset of 67503 entries\n"
     ]
    }
   ],
   "source": [
    "df = pd.read_csv(\"data/raw_data.csv\")\n",
    "print(f\"We have a dataset of {len(df)} entries\")"
   ]
  },
  {
   "cell_type": "markdown",
   "id": "98caa4d1-e629-4226-9411-2daca9d4d2f4",
   "metadata": {},
   "source": [
    "We want to build a matrix where each row is a playlist, and each column resembles a song. The dimensions of our matrix resemble those of the playlist number and track number."
   ]
  },
  {
   "cell_type": "code",
   "execution_count": 3,
   "id": "342b3e17-8e31-4e01-bd64-93c6f340b46b",
   "metadata": {},
   "outputs": [
    {
     "name": "stdout",
     "output_type": "stream",
     "text": [
      "Playlists: 869 \n",
      "Tracks: 30049\n"
     ]
    }
   ],
   "source": [
    "num_playlists = df[\"name\"].nunique()  # count distinct values, this is the number of playlists\n",
    "num_tracks = df[\"track_name\"].nunique()  # count distinct values, this is the number of tracks\n",
    "print(f\"Playlists: {num_playlists} \\nTracks: {num_tracks}\")"
   ]
  },
  {
   "cell_type": "markdown",
   "id": "05cedca0-becd-4437-be08-16dc9453a4ea",
   "metadata": {},
   "source": [
    "Group the data by the playlist name. This results in a Series."
   ]
  },
  {
   "cell_type": "code",
   "execution_count": 4,
   "id": "3d330301-389c-42e0-823d-a97311de9288",
   "metadata": {},
   "outputs": [
    {
     "data": {
      "text/plain": [
       "name\n",
       " CHiLl         [Make Me (Cry), Party Monster, Don't Wanna Kno...\n",
       " Frozen        [Frozen Heart, Do You Want to Build a Snowman?...\n",
       " indie rock    [Be Good (RAC Remix), Bambi, Your English Is G...\n",
       "#Relaxed       [All That I Can Say, Reminisce, Butterfly, Cha...\n",
       "#Workout       [Can't Feel My Face - Martin Garrix Remix, Ign...\n",
       "Name: track_name, dtype: object"
      ]
     },
     "execution_count": 4,
     "metadata": {},
     "output_type": "execute_result"
    }
   ],
   "source": [
    "playlists = df.groupby('name')[\"track_name\"].apply(list)\n",
    "playlists.head()"
   ]
  },
  {
   "cell_type": "markdown",
   "id": "5b8ad424-cc62-4e46-9ff6-48c9d3ce57d2",
   "metadata": {},
   "source": [
    "We need a list of the unique songs to create each playlist vector."
   ]
  },
  {
   "cell_type": "code",
   "execution_count": 13,
   "id": "0fefb3df-470d-4f25-ad97-b48066dc215b",
   "metadata": {},
   "outputs": [
    {
     "name": "stdout",
     "output_type": "stream",
     "text": [
      "Number of unique songs: 30049\n"
     ]
    }
   ],
   "source": [
    "unique_songs = list(df[\"track_name\"].unique())\n",
    "print(f\"Number of unique songs: {len(unique_songs)}\")"
   ]
  },
  {
   "cell_type": "markdown",
   "id": "86f1ccdb-ef56-4194-af5e-c76992c670f2",
   "metadata": {},
   "source": [
    "We can now iteratively build our matrix by creating each playlist in a vector of its songs. This is done by one-hot encoding, meaning every column is a song, and every row a playlist, and the row-column combination is one if the song was added to the playlist. "
   ]
  },
  {
   "cell_type": "code",
   "execution_count": 6,
   "id": "a951f61b-4e6f-4b76-85ba-b7fbf9b3d1c3",
   "metadata": {},
   "outputs": [],
   "source": [
    "one_hot_playlists = list()\n",
    "for playlist in playlists:\n",
    "    playlist_array = np.zeros(num_tracks)\n",
    "    for song in playlist:\n",
    "        playlist_array[unique_songs.index(song)] = 1  # set array to 1 at index of the song\n",
    "    one_hot_playlists.append(playlist_array)\n",
    "one_hot_playlists = np.array(one_hot_playlists)  # convert to one numpy array (matrix)"
   ]
  },
  {
   "cell_type": "markdown",
   "id": "d29018e9-801a-44a2-9418-ab7c3b6311d9",
   "metadata": {},
   "source": [
    "For example, the first playlist \"CHiLl\" includes the song \"Make Me (Cry)\" and does not include \"Mr. Brightside\". Check if the value is one and zero respectively at the corresponding positions."
   ]
  },
  {
   "cell_type": "code",
   "execution_count": 7,
   "id": "59f6585c-4e8b-4b17-8127-ddc24ae7a9c3",
   "metadata": {},
   "outputs": [
    {
     "name": "stdout",
     "output_type": "stream",
     "text": [
      "True\n",
      "True\n"
     ]
    }
   ],
   "source": [
    "print(one_hot_playlists[0][unique_songs.index(\"Make Me (Cry)\")] == 1.0)\n",
    "print(one_hot_playlists[0][unique_songs.index(\"Mr. Brightside\")] == 0.0)"
   ]
  },
  {
   "cell_type": "markdown",
   "id": "957ca396-6acf-4a39-9527-2dee2b5b7471",
   "metadata": {},
   "source": [
    "The shape of our playlists should be playlist number times distinct track number."
   ]
  },
  {
   "cell_type": "code",
   "execution_count": 8,
   "id": "275e7098-446a-4799-afd2-43be31d0b27e",
   "metadata": {},
   "outputs": [
    {
     "data": {
      "text/plain": [
       "(869, 30049)"
      ]
     },
     "execution_count": 8,
     "metadata": {},
     "output_type": "execute_result"
    }
   ],
   "source": [
    "one_hot_playlists.shape"
   ]
  },
  {
   "cell_type": "markdown",
   "id": "ad9cba86-6cda-4456-a0ae-a66b423ffe87",
   "metadata": {},
   "source": [
    "We now apply matrix factorization on our data. This means, we try to find two matrices, which multiplied are as close to the original matrix as possible. We train using gradient descent, meaning we try to minimize the error in each iteration."
   ]
  },
  {
   "cell_type": "code",
   "execution_count": 10,
   "id": "3c3a9b53-ce9b-48f2-946e-e8a69a3389d5",
   "metadata": {},
   "outputs": [
    {
     "name": "stdout",
     "output_type": "stream",
     "text": [
      "Iteration: 10 ; error = 2.1933\n",
      "Iteration: 20 ; error = 1.1882\n",
      "Iteration: 30 ; error = 0.7869\n",
      "Iteration: 40 ; error = 0.5708\n",
      "Iteration: 50 ; error = 0.4376\n",
      "Iteration: 60 ; error = 0.3490\n",
      "Iteration: 70 ; error = 0.2851\n",
      "Iteration: 80 ; error = 0.2394\n",
      "Iteration: 90 ; error = 0.2034\n",
      "Iteration: 100 ; error = 0.1756\n"
     ]
    },
    {
     "data": {
      "text/plain": [
       "[(0, 15.169171582728703),\n",
       " (1, 8.436861549375065),\n",
       " (2, 5.928733198897154),\n",
       " (3, 4.618687998363574),\n",
       " (4, 3.840796404704238),\n",
       " (5, 3.298640036942886),\n",
       " (6, 2.9205146740147545),\n",
       " (7, 2.6083174687270576),\n",
       " (8, 2.370648468564867),\n",
       " (9, 2.193254449675297),\n",
       " (10, 2.011621812287397),\n",
       " (11, 1.8653862665428302),\n",
       " (12, 1.7490904693645717),\n",
       " (13, 1.6359577290150913),\n",
       " (14, 1.542211557321664),\n",
       " (15, 1.4525396757193663),\n",
       " (16, 1.3860796270519946),\n",
       " (17, 1.3053195552218728),\n",
       " (18, 1.2470859696591141),\n",
       " (19, 1.1881813523809308),\n",
       " (20, 1.1267613455694327),\n",
       " (21, 1.0786249879839842),\n",
       " (22, 1.0301422453595313),\n",
       " (23, 0.9917154623291724),\n",
       " (24, 0.9507833855453965),\n",
       " (25, 0.9124269911379166),\n",
       " (26, 0.8774356896802425),\n",
       " (27, 0.8452000859598309),\n",
       " (28, 0.8134168358983895),\n",
       " (29, 0.7868838548031866),\n",
       " (30, 0.7622983149255489),\n",
       " (31, 0.7323430956886005),\n",
       " (32, 0.708089943487124),\n",
       " (33, 0.685645216908021),\n",
       " (34, 0.6636301226149542),\n",
       " (35, 0.6427883373542986),\n",
       " (36, 0.6237155899630551),\n",
       " (37, 0.6041452784255553),\n",
       " (38, 0.5902211517721799),\n",
       " (39, 0.5708160816950912),\n",
       " (40, 0.5536524947550849),\n",
       " (41, 0.5397749115842885),\n",
       " (42, 0.5244506328098532),\n",
       " (43, 0.5109219895854681),\n",
       " (44, 0.4970041974801068),\n",
       " (45, 0.48280242972442566),\n",
       " (46, 0.47141090654126205),\n",
       " (47, 0.462697577080679),\n",
       " (48, 0.4490194409290941),\n",
       " (49, 0.4375580282590881),\n",
       " (50, 0.426998164385648),\n",
       " (51, 0.41581250203221765),\n",
       " (52, 0.4090468247974463),\n",
       " (53, 0.3979665935363502),\n",
       " (54, 0.3893356215408966),\n",
       " (55, 0.3801523734970153),\n",
       " (56, 0.37200806962894745),\n",
       " (57, 0.3635589600816378),\n",
       " (58, 0.35724523117790996),\n",
       " (59, 0.3490491178463955),\n",
       " (60, 0.34196568475593225),\n",
       " (61, 0.3484166519733679),\n",
       " (62, 0.32717456575935827),\n",
       " (63, 0.32291035403913115),\n",
       " (64, 0.3157955813061686),\n",
       " (65, 0.30865701771562387),\n",
       " (66, 0.30215708027295),\n",
       " (67, 0.29716247556726744),\n",
       " (68, 0.2913862760459091),\n",
       " (69, 0.28509512454708813),\n",
       " (70, 0.28226149292409886),\n",
       " (71, 0.2755582098728072),\n",
       " (72, 0.270575195650853),\n",
       " (73, 0.26621578671417107),\n",
       " (74, 0.2602220786630877),\n",
       " (75, 0.25899400200482675),\n",
       " (76, 0.2540017422014247),\n",
       " (77, 0.24764970414583784),\n",
       " (78, 0.24386057138100198),\n",
       " (79, 0.23937528138184674),\n",
       " (80, 0.23538876054055324),\n",
       " (81, 0.2323068903699381),\n",
       " (82, 0.2281721566629701),\n",
       " (83, 0.2246175550602105),\n",
       " (84, 0.22077797953334555),\n",
       " (85, 0.21735905702168945),\n",
       " (86, 0.21340250395428748),\n",
       " (87, 0.2098525913945032),\n",
       " (88, 0.2071974518170953),\n",
       " (89, 0.2034049861833832),\n",
       " (90, 0.20060079911278705),\n",
       " (91, 0.19820068981401456),\n",
       " (92, 0.19472389953623193),\n",
       " (93, 0.1919435294231189),\n",
       " (94, 0.189062498070719),\n",
       " (95, 0.18623731493889462),\n",
       " (96, 0.18353494166504314),\n",
       " (97, 0.18133590279090384),\n",
       " (98, 0.17865860147323057),\n",
       " (99, 0.17560716695992493)]"
      ]
     },
     "execution_count": 10,
     "metadata": {},
     "output_type": "execute_result"
    }
   ],
   "source": [
    "mf = MF(one_hot_playlists, K=2, alpha=0.1, beta=0.01, iterations=100)\n",
    "mf.train()"
   ]
  },
  {
   "cell_type": "markdown",
   "id": "cb05f028-ab55-424c-b3a2-6c3e58ec4853",
   "metadata": {},
   "source": [
    "As a result, we get a matrix where values should be close to their original values, but unknown values, in our case songs that are not in the playlist, are approximated by the matrix factorization. For example, if we look at the same song from earlier, the value is close to 1. Looking in at a song that has not been added to the playlist, the value is now approximated to how likely it should be added to the playlist."
   ]
  },
  {
   "cell_type": "code",
   "execution_count": 11,
   "id": "ff6b9be8-66fb-4bb3-9baf-88720a57938f",
   "metadata": {},
   "outputs": [
    {
     "name": "stdout",
     "output_type": "stream",
     "text": [
      "0.999370629663436\n",
      "1.0001387417379277\n"
     ]
    }
   ],
   "source": [
    "print(mf.full_matrix()[0][unique_songs.index(\"Make Me (Cry)\")])\n",
    "print(mf.full_matrix()[0][unique_songs.index(\"Mr. Brightside\")])"
   ]
  },
  {
   "cell_type": "markdown",
   "id": "6c6e116b-a423-4e7b-8598-03c839968744",
   "metadata": {},
   "source": [
    "We use this matrix for making our recommendation. We do so by looking for the songs with the least difference to the number 1, since this number was given to songs that were in the playlist. Let's predict 5 more songs for our first playlist \"ChiLl\"."
   ]
  },
  {
   "cell_type": "code",
   "execution_count": 45,
   "id": "daa2707b-c9b3-4c4e-89ee-c6ab24f565a2",
   "metadata": {},
   "outputs": [
    {
     "name": "stdout",
     "output_type": "stream",
     "text": [
      "Cosmic Angel - Acoustic From Capitol Studios\n",
      "Crazy In Love\n",
      "The Answer\n",
      "Rock Your Body\n",
      "It Wasn't Me\n"
     ]
    }
   ],
   "source": [
    "rec_matrix = mf.full_matrix()\n",
    "playlist = 0  # choose which playlist to look at\n",
    "playlist_vals = rec_matrix[playlist]  # all predicted values for the first playlist\n",
    "diff_vals = playlist_vals - 1  # subtract 1 from each value to get difference to 1\n",
    "\n",
    "k=5  # find the k smallest values\n",
    "smallest_k_indexes = np.argpartition(diff_vals, k)  # get list of indexes ordered according to descending order of values\n",
    "\n",
    "i = 0  # record how many songs were output\n",
    "for idx in np.flip(smallest_k_indexes):  # look at which song corresponds to found indexes\n",
    "    if one_hot_playlists[playlist][idx] == 0:  # song was not in playlist already\n",
    "        print(unique_songs[idx])\n",
    "        i += 1\n",
    "    if i == k:\n",
    "        break"
   ]
  }
 ],
 "metadata": {
  "kernelspec": {
   "display_name": "Python 3 (ipykernel)",
   "language": "python",
   "name": "python3"
  },
  "language_info": {
   "codemirror_mode": {
    "name": "ipython",
    "version": 3
   },
   "file_extension": ".py",
   "mimetype": "text/x-python",
   "name": "python",
   "nbconvert_exporter": "python",
   "pygments_lexer": "ipython3",
   "version": "3.12.0"
  }
 },
 "nbformat": 4,
 "nbformat_minor": 5
}
