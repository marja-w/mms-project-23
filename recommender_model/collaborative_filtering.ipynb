{
 "cells": [
  {
   "cell_type": "markdown",
   "id": "a02efc9d-19b7-4ca6-9700-0511dd3f804c",
   "metadata": {},
   "source": [
    "# Collaborative Filtering"
   ]
  },
  {
   "cell_type": "markdown",
   "id": "e7583ba8-331c-4238-a061-1ea5b6b35c26",
   "metadata": {},
   "source": [
    "Collaborative Filtering means that interests of other users are taking into account for making a playlist prediction. Spotify uses a matrix where each row is a user and each column is a song, each entry therefore resembles how often a user has listened to a song. Since this data is not publicly available, we will try the same approach, but with a different matrix. The matrix will have one row for each playlist and each column will be a song. The entries of the matrix are going to be 1 if the song is in the playlist and 0 if not. Read more about collaborative filtering [here](TODO)."
   ]
  },
  {
   "cell_type": "markdown",
   "id": "b58a8742-d41c-44e6-902a-54b44fe3acf6",
   "metadata": {},
   "source": [
    "Let's first import all important libraries. pandas DataFrames are used to store the data and numpy arrays for matrix computations."
   ]
  },
  {
   "cell_type": "code",
   "execution_count": 1,
   "id": "1c95d708-54b8-46b5-aba1-4d67ee2ceb6d",
   "metadata": {
    "ExecuteTime": {
     "end_time": "2023-12-09T04:51:34.264481800Z",
     "start_time": "2023-12-09T04:51:33.946472500Z"
    }
   },
   "outputs": [],
   "source": [
    "import warnings\n",
    "import numpy as np\n",
    "import pandas as pd\n",
    "\n",
    "from scripts.matrix_factorization import MF  # for matrix factorization"
   ]
  },
  {
   "cell_type": "markdown",
   "id": "9cd66f9e-d69d-45df-9bea-7313a2c8478b",
   "metadata": {},
   "source": [
    "Load the raw data."
   ]
  },
  {
   "cell_type": "code",
   "execution_count": 2,
   "id": "afcfff27-de33-4652-921b-b54ea63ef93a",
   "metadata": {
    "ExecuteTime": {
     "end_time": "2023-12-09T04:51:34.697218900Z",
     "start_time": "2023-12-09T04:51:34.265448200Z"
    }
   },
   "outputs": [
    {
     "name": "stdout",
     "output_type": "stream",
     "text": [
      "We have a dataset of 60732 entries\n"
     ]
    }
   ],
   "source": [
    "df = pd.read_csv(\"data/processed_data_train.csv\")\n",
    "print(f\"We have a dataset of {len(df)} entries\")"
   ]
  },
  {
   "cell_type": "markdown",
   "id": "98caa4d1-e629-4226-9411-2daca9d4d2f4",
   "metadata": {},
   "source": [
    "We want to build a matrix where each row is a playlist, and each column resembles a song. The dimensions of our matrix resemble those of the playlist number and track number."
   ]
  },
  {
   "cell_type": "code",
   "execution_count": 3,
   "id": "342b3e17-8e31-4e01-bd64-93c6f340b46b",
   "metadata": {
    "ExecuteTime": {
     "end_time": "2023-12-09T04:51:34.785745600Z",
     "start_time": "2023-12-09T04:51:34.698759600Z"
    }
   },
   "outputs": [
    {
     "name": "stdout",
     "output_type": "stream",
     "text": [
      "Playlists: 779 \n",
      "Tracks: 27902\n"
     ]
    }
   ],
   "source": [
    "num_playlists = df[\"name\"].nunique()  # count distinct values, this is the number of playlists\n",
    "num_tracks = df[\"track_name\"].nunique()  # count distinct values, this is the number of tracks\n",
    "print(f\"Playlists: {num_playlists} \\nTracks: {num_tracks}\")"
   ]
  },
  {
   "cell_type": "markdown",
   "id": "05cedca0-becd-4437-be08-16dc9453a4ea",
   "metadata": {},
   "source": [
    "Group the data by the playlist name. This results in a Series."
   ]
  },
  {
   "cell_type": "code",
   "execution_count": 4,
   "id": "3d330301-389c-42e0-823d-a97311de9288",
   "metadata": {
    "ExecuteTime": {
     "end_time": "2023-12-09T04:51:34.805231300Z",
     "start_time": "2023-12-09T04:51:34.736260400Z"
    }
   },
   "outputs": [
    {
     "data": {
      "text/plain": "name\n CHiLl         [Fresh Eyes, i hate u, i love u (feat. olivia ...\n Frozen        [Queen Elsa of Arendelle - Score Demo, Reindee...\n indie rock    [Back In Your Head, Be Good (RAC Remix), Bambi...\n#Relaxed       [Bag Lady, On & On, I Can't Stop Loving You, L...\n#Workout       [Can't Feel My Face - Martin Garrix Remix, Ign...\nName: track_name, dtype: object"
     },
     "execution_count": 4,
     "metadata": {},
     "output_type": "execute_result"
    }
   ],
   "source": [
    "playlists = df.groupby('name')[\"track_name\"].apply(list)\n",
    "playlists.head()"
   ]
  },
  {
   "cell_type": "markdown",
   "id": "5b8ad424-cc62-4e46-9ff6-48c9d3ce57d2",
   "metadata": {},
   "source": [
    "We need a list of the unique songs to create each playlist vector."
   ]
  },
  {
   "cell_type": "code",
   "execution_count": 5,
   "id": "0fefb3df-470d-4f25-ad97-b48066dc215b",
   "metadata": {
    "ExecuteTime": {
     "end_time": "2023-12-09T04:51:34.807229700Z",
     "start_time": "2023-12-09T04:51:34.777977600Z"
    }
   },
   "outputs": [
    {
     "name": "stdout",
     "output_type": "stream",
     "text": [
      "Number of unique songs: 27902\n"
     ]
    }
   ],
   "source": [
    "unique_songs = list(df[\"track_name\"].unique())  # list of unique songs, maps each song to an index\n",
    "print(f\"Number of unique songs: {len(unique_songs)}\")"
   ]
  },
  {
   "cell_type": "markdown",
   "id": "86f1ccdb-ef56-4194-af5e-c76992c670f2",
   "metadata": {},
   "source": [
    "We can now iteratively build our matrix by creating each playlist in a vector of its songs. This is done by one-hot encoding, meaning every column is a song, and every row a playlist, and the row-column combination is one if the song was added to the playlist. "
   ]
  },
  {
   "cell_type": "code",
   "execution_count": 6,
   "id": "a951f61b-4e6f-4b76-85ba-b7fbf9b3d1c3",
   "metadata": {
    "ExecuteTime": {
     "end_time": "2023-12-09T04:51:38.695196600Z",
     "start_time": "2023-12-09T04:51:34.790698500Z"
    }
   },
   "outputs": [],
   "source": [
    "one_hot_playlists = list()\n",
    "for playlist in playlists:\n",
    "    playlist_array = np.zeros(num_tracks)\n",
    "    for song in playlist:\n",
    "        playlist_array[unique_songs.index(song)] = 1  # set array to 1 at index of the song\n",
    "    one_hot_playlists.append(playlist_array)\n",
    "one_hot_playlists = np.array(one_hot_playlists)  # convert to one numpy array (matrix)"
   ]
  },
  {
   "cell_type": "markdown",
   "id": "d29018e9-801a-44a2-9418-ab7c3b6311d9",
   "metadata": {},
   "source": [
    "For example, the first playlist \"CHiLl\" includes the song \"Make Me (Cry)\" and does not include \"Mr. Brightside\". Check if the value is one and zero respectively at the corresponding positions."
   ]
  },
  {
   "cell_type": "code",
   "execution_count": 7,
   "id": "59f6585c-4e8b-4b17-8127-ddc24ae7a9c3",
   "metadata": {
    "ExecuteTime": {
     "end_time": "2023-12-09T04:51:38.703599300Z",
     "start_time": "2023-12-09T04:51:38.697439200Z"
    }
   },
   "outputs": [
    {
     "name": "stdout",
     "output_type": "stream",
     "text": [
      "True\n",
      "True\n"
     ]
    }
   ],
   "source": [
    "print(one_hot_playlists[0][unique_songs.index(\"Make Me (Cry)\")] == 1.0)\n",
    "print(one_hot_playlists[0][unique_songs.index(\"Mr. Brightside\")] == 0.0)"
   ]
  },
  {
   "cell_type": "markdown",
   "id": "957ca396-6acf-4a39-9527-2dee2b5b7471",
   "metadata": {},
   "source": [
    "The shape of our playlists should be playlist number times distinct track number."
   ]
  },
  {
   "cell_type": "code",
   "execution_count": 8,
   "id": "275e7098-446a-4799-afd2-43be31d0b27e",
   "metadata": {
    "ExecuteTime": {
     "end_time": "2023-12-09T04:51:38.712083100Z",
     "start_time": "2023-12-09T04:51:38.701960500Z"
    }
   },
   "outputs": [
    {
     "data": {
      "text/plain": "(779, 27902)"
     },
     "execution_count": 8,
     "metadata": {},
     "output_type": "execute_result"
    }
   ],
   "source": [
    "one_hot_playlists.shape"
   ]
  },
  {
   "cell_type": "markdown",
   "id": "ad9cba86-6cda-4456-a0ae-a66b423ffe87",
   "metadata": {},
   "source": [
    "We now apply matrix factorization on our data. This means, we try to find two matrices, which multiplied are as close to the original matrix as possible. We train using gradient descent, meaning we try to minimize the error in each iteration. The implementation for the training can be found [here](https://albertauyeung.github.io/2017/04/23/python-matrix-factorization.html/#a-simple-implementation-in-python)."
   ]
  },
  {
   "cell_type": "code",
   "execution_count": 9,
   "id": "3c3a9b53-ce9b-48f2-946e-e8a69a3389d5",
   "metadata": {
    "ExecuteTime": {
     "end_time": "2023-12-09T04:53:16.159793500Z",
     "start_time": "2023-12-09T04:51:38.715585200Z"
    }
   },
   "outputs": [
    {
     "name": "stdout",
     "output_type": "stream",
     "text": [
      "Iteration: 10 ; error = 2.1337\n",
      "Iteration: 20 ; error = 1.1777\n",
      "Iteration: 30 ; error = 0.7843\n",
      "Iteration: 40 ; error = 0.5694\n",
      "Iteration: 50 ; error = 0.4353\n",
      "Iteration: 60 ; error = 0.3460\n",
      "Iteration: 70 ; error = 0.2824\n",
      "Iteration: 80 ; error = 0.2342\n",
      "Iteration: 90 ; error = 0.1972\n",
      "Iteration: 100 ; error = 0.1687\n"
     ]
    },
    {
     "data": {
      "text/plain": "[(0, 15.137104681795547),\n (1, 8.395923543172806),\n (2, 5.905774329275563),\n (3, 4.589205610552773),\n (4, 3.7920265661266224),\n (5, 3.2604174176844274),\n (6, 2.8554104196691426),\n (7, 2.5697030001588086),\n (8, 2.332888275194447),\n (9, 2.1336808713877056),\n (10, 1.9775644845700677),\n (11, 1.8391702320970116),\n (12, 1.7228683193246555),\n (13, 1.620158779541546),\n (14, 1.5192618845276225),\n (15, 1.4358603341320344),\n (16, 1.364015615028337),\n (17, 1.295442136923394),\n (18, 1.2320106213865727),\n (19, 1.177677485889524),\n (20, 1.126242367235167),\n (21, 1.0779138481992756),\n (22, 1.0318510297308876),\n (23, 0.9830203439235599),\n (24, 0.9456917266809035),\n (25, 0.9125149857658436),\n (26, 0.8748441184023356),\n (27, 0.8421250134574092),\n (28, 0.8179708755395345),\n (29, 0.784317598906995),\n (30, 0.7565387196532855),\n (31, 0.7322976335835992),\n (32, 0.7052414052611392),\n (33, 0.6848554393884322),\n (34, 0.6712571454995647),\n (35, 0.6467243020136767),\n (36, 0.6207174500668287),\n (37, 0.6032783117007511),\n (38, 0.5858428311021576),\n (39, 0.5693704256971089),\n (40, 0.5530972531319034),\n (41, 0.5385924501657873),\n (42, 0.5280269977047011),\n (43, 0.5083891113111672),\n (44, 0.4972004155769932),\n (45, 0.48427100854696975),\n (46, 0.4720969107613046),\n (47, 0.4582232578771797),\n (48, 0.4483261104980364),\n (49, 0.4352942689291903),\n (50, 0.4253592831659176),\n (51, 0.4146560948581994),\n (52, 0.42163375631610034),\n (53, 0.39538683096857374),\n (54, 0.38805559366066184),\n (55, 0.3783432552144016),\n (56, 0.3724705748711966),\n (57, 0.3625282978460705),\n (58, 0.35395176093279923),\n (59, 0.3460340293211813),\n (60, 0.33913694357585467),\n (61, 0.33216605608291944),\n (62, 0.32536987650957494),\n (63, 0.3184152178014251),\n (64, 0.3112977884861788),\n (65, 0.304833146823859),\n (66, 0.30564198019431155),\n (67, 0.29390720848043506),\n (68, 0.28781483985810513),\n (69, 0.2823593531954885),\n (70, 0.27594033346904495),\n (71, 0.2710528132687891),\n (72, 0.2665394408990229),\n (73, 0.26132461923602796),\n (74, 0.2567333337024913),\n (75, 0.25338446662539793),\n (76, 0.24693105328929305),\n (77, 0.24391868817581422),\n (78, 0.24188269199758525),\n (79, 0.23416466163078703),\n (80, 0.22970009795993823),\n (81, 0.22600491982412116),\n (82, 0.22197747098061524),\n (83, 0.21780779571328862),\n (84, 0.21660745799768116),\n (85, 0.21048939160951924),\n (86, 0.20740043454344653),\n (87, 0.20388570747423324),\n (88, 0.20014019411009026),\n (89, 0.19718624025768797),\n (90, 0.19450184349988678),\n (91, 0.19093000952798939),\n (92, 0.18806900121704462),\n (93, 0.18520911026393871),\n (94, 0.18183199226579339),\n (95, 0.1797424528595514),\n (96, 0.1762024667365384),\n (97, 0.1729840812519711),\n (98, 0.17130886952536784),\n (99, 0.1686748297645945)]"
     },
     "execution_count": 9,
     "metadata": {},
     "output_type": "execute_result"
    }
   ],
   "source": [
    "mf = MF(one_hot_playlists, K=2, alpha=0.1, beta=0.01, iterations=100)\n",
    "mf.train()"
   ]
  },
  {
   "cell_type": "markdown",
   "id": "cb05f028-ab55-424c-b3a2-6c3e58ec4853",
   "metadata": {},
   "source": [
    "As a result, we get a matrix where values should be close to their original values, but unknown values, in our case songs that are not in the playlist, are approximated by the matrix factorization. For example, if we look at the same song from earlier, the value is close to 1. Looking in at a song that has not been added to the playlist, the value is now approximated to how likely it should be added to the playlist."
   ]
  },
  {
   "cell_type": "code",
   "execution_count": 10,
   "id": "ff6b9be8-66fb-4bb3-9baf-88720a57938f",
   "metadata": {
    "ExecuteTime": {
     "end_time": "2023-12-09T04:53:16.480887300Z",
     "start_time": "2023-12-09T04:53:16.159793500Z"
    }
   },
   "outputs": [
    {
     "name": "stdout",
     "output_type": "stream",
     "text": [
      "0.9961668579089007\n",
      "1.000924550402289\n"
     ]
    }
   ],
   "source": [
    "print(mf.full_matrix()[0][unique_songs.index(\"Make Me (Cry)\")])\n",
    "print(mf.full_matrix()[0][unique_songs.index(\"Mr. Brightside\")])"
   ]
  },
  {
   "cell_type": "markdown",
   "source": [
    "We can store our Matrix and use it in the [evaluation notebook](evaluation.ipynb) for making recommendations."
   ],
   "metadata": {
    "collapsed": false
   },
   "id": "13a7d24b7a52f516"
  },
  {
   "cell_type": "code",
   "execution_count": 11,
   "outputs": [],
   "source": [
    "with open('data/matrix.npy', 'wb') as f:\n",
    "    np.save(f, mf.full_matrix())"
   ],
   "metadata": {
    "collapsed": false,
    "ExecuteTime": {
     "end_time": "2023-12-09T04:53:16.926809100Z",
     "start_time": "2023-12-09T04:53:16.482383700Z"
    }
   },
   "id": "af90f7eea4847d0"
  },
  {
   "cell_type": "markdown",
   "source": [
    "Save track IDs and playlist names in order to be able to reconstruct the information."
   ],
   "metadata": {
    "collapsed": false
   },
   "id": "4f2dc6c3649ab4f4"
  },
  {
   "cell_type": "code",
   "execution_count": 12,
   "outputs": [],
   "source": [
    "track_name_to_uri = dict(zip(df.track_name, df.track_uri))\n",
    "unique_songs_uris = [track_name_to_uri[x] for x in unique_songs]\n",
    "\n",
    "with open('data/unique_songs_uris.txt', 'w') as f:\n",
    "\tf.write('\\n'.join(unique_songs_uris))\n",
    "    \n",
    "with open('data/playlists.txt', 'w', encoding=\"utf-8\") as f:\n",
    "\tf.write('\\n'.join(list(playlists.index)))"
   ],
   "metadata": {
    "collapsed": false,
    "ExecuteTime": {
     "end_time": "2023-12-09T04:53:16.955012800Z",
     "start_time": "2023-12-09T04:53:16.927810900Z"
    }
   },
   "id": "46e29676bc31e529"
  }
 ],
 "metadata": {
  "kernelspec": {
   "display_name": "Python 3 (ipykernel)",
   "language": "python",
   "name": "python3"
  },
  "language_info": {
   "codemirror_mode": {
    "name": "ipython",
    "version": 3
   },
   "file_extension": ".py",
   "mimetype": "text/x-python",
   "name": "python",
   "nbconvert_exporter": "python",
   "pygments_lexer": "ipython3",
   "version": "3.12.0"
  }
 },
 "nbformat": 4,
 "nbformat_minor": 5
}
