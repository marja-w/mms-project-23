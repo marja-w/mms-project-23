{
 "cells": [
  {
   "cell_type": "markdown",
   "source": [
    "# Evaluation of Collaborative vs. Content-Based Method\n",
    "\n",
    "It is now time to evaluate both methods against each other. Here, we will use a test set, which I separated before training, which is a part of the dataset I used for training."
   ],
   "metadata": {
    "collapsed": false
   },
   "id": "b3df600377bbceca"
  },
  {
   "cell_type": "markdown",
   "source": [
    "First, we need to load the playlist-song matrix created in the [collaborative filtering notebook](collaborative_filtering.ipynb), and the features we extracted in the [content-based recommendation system notebook](content_based_recsys.ipynb), which is essentially a matrix too."
   ],
   "metadata": {
    "collapsed": false
   },
   "id": "e2fcc7b992a4e259"
  },
  {
   "cell_type": "code",
   "execution_count": 1,
   "outputs": [],
   "source": [
    "import numpy as np\n",
    "import pandas as pd\n",
    "\n",
    "from sklearn.metrics.pairwise import cosine_similarity\n",
    "import random"
   ],
   "metadata": {
    "collapsed": false,
    "ExecuteTime": {
     "end_time": "2023-12-02T02:41:22.586204900Z",
     "start_time": "2023-12-02T02:41:20.809391800Z"
    }
   },
   "id": "9a3274ec4e68efc8"
  },
  {
   "cell_type": "code",
   "execution_count": 72,
   "outputs": [],
   "source": [
    "# define file paths\n",
    "content_matrix_file = 'data/complete_feature.csv'  # all features for train set file\n",
    "\n",
    "# all these files are created with notebook collaborative_filtering.ipynb\n",
    "collaborative_matrix_file = 'data/matrix.npy'  # modified playlist-song vector \n",
    "playlists_file = 'data/playlists.txt'  # all playlists for collaborative matrix row header\n",
    "unique_songs_uris_file = 'data/unique_songs_uris.txt'  # all uris for collaborative matrix column header\n",
    "\n",
    "# load the files into data structures\n",
    "with open(collaborative_matrix_file, 'rb') as f:\n",
    "    coll_matrix = np.load(f)\n",
    "\n",
    "with open(content_matrix_file, 'rb') as f:\n",
    "    cont_matrix = pd.read_csv(f)\n",
    "\n",
    "with open(playlists_file, 'r', encoding='utf-8') as f:\n",
    "    playlists = f.read().splitlines()\n",
    "\n",
    "with open(unique_songs_uris_file, 'r') as f:\n",
    "    unique_songs_uris = f.read().splitlines()"
   ],
   "metadata": {
    "collapsed": false,
    "ExecuteTime": {
     "end_time": "2023-12-02T05:01:34.966048300Z",
     "start_time": "2023-12-02T05:01:30.204215200Z"
    }
   },
   "id": "7f2dece3fd72407b"
  },
  {
   "cell_type": "markdown",
   "source": [
    "Now we need to load our test data set. The following cells illustrate the data."
   ],
   "metadata": {
    "collapsed": false
   },
   "id": "47a4d7d153ee34b1"
  },
  {
   "cell_type": "code",
   "execution_count": 3,
   "outputs": [
    {
     "data": {
      "text/plain": "   Unnamed: 0.2  Unnamed: 0.1  Unnamed: 0  pos  artist_name  \\\n0         13103         13103       10884    4        Migos   \n1          9173          9173       10920   40   Snoop Dogg   \n2         13686         13686       10922   42      Dr. Dre   \n3         13475         13475       10912   32  Chris Brown   \n4          8962          8962       10889    9        Drake   \n\n                track_uri                             artist_uri  \\\n0  4Km5HrUvYTaSUfiSGPJeQR  spotify:artist:6oMuImdp5ZcFhWP0ESe6mG   \n1  2NBQmPrOEEjA8VbeWOQGxO  spotify:artist:7hJcb9fa4alzcOq3EaNPoG   \n2  6ltPEsP4edATzvinHOzvk2  spotify:artist:6DPYiyq5kWVQS4RGwxzPC7   \n3  0LWQWOFoz5GJLqcHk1fRO2  spotify:artist:7bXgB6jMjp9ATFy66eO08Z   \n4  27GmP9AWRs744SzKcpJsTZ  spotify:artist:3TVXtAsR1Inumwj472S9r4   \n\n                            track_name                             album_uri  \\\n0  Bad and Boujee (feat. Lil Uzi Vert)  spotify:album:2AvupjUeMnSffKEV05x222   \n1                Drop It Like It's Hot  spotify:album:797fkvAtk0iZvP1HHPCWbp   \n2                         Still D.R.E.  spotify:album:5csXMdS69VOvh8MjyfwkjB   \n3                       Look At Me Now  spotify:album:6rEm9wAyZP79RFa2qW2bf7   \n4                              Jumpman  spotify:album:1ozpmkWcCHwsQ4QTnxOOdT   \n\n   duration_ms_x  ...            type                      id  \\\n0         343150  ...  audio_features  4Km5HrUvYTaSUfiSGPJeQR   \n1         266066  ...  audio_features  2NBQmPrOEEjA8VbeWOQGxO   \n2         268004  ...  audio_features  6ltPEsP4edATzvinHOzvk2   \n3         222586  ...  audio_features  0LWQWOFoz5GJLqcHk1fRO2   \n4         205879  ...  audio_features  27GmP9AWRs744SzKcpJsTZ   \n\n                                    uri  \\\n0  spotify:track:4Km5HrUvYTaSUfiSGPJeQR   \n1  spotify:track:2NBQmPrOEEjA8VbeWOQGxO   \n2  spotify:track:6ltPEsP4edATzvinHOzvk2   \n3  spotify:track:0LWQWOFoz5GJLqcHk1fRO2   \n4  spotify:track:27GmP9AWRs744SzKcpJsTZ   \n\n                                          track_href  \\\n0  https://api.spotify.com/v1/tracks/4Km5HrUvYTaS...   \n1  https://api.spotify.com/v1/tracks/2NBQmPrOEEjA...   \n2  https://api.spotify.com/v1/tracks/6ltPEsP4edAT...   \n3  https://api.spotify.com/v1/tracks/0LWQWOFoz5GJ...   \n4  https://api.spotify.com/v1/tracks/27GmP9AWRs74...   \n\n                                        analysis_url  duration_ms_y  \\\n0  https://api.spotify.com/v1/audio-analysis/4Km5...         343150   \n1  https://api.spotify.com/v1/audio-analysis/2NBQ...         266067   \n2  https://api.spotify.com/v1/audio-analysis/6ltP...         268005   \n3  https://api.spotify.com/v1/audio-analysis/0LWQ...         222587   \n4  https://api.spotify.com/v1/audio-analysis/27Gm...         205879   \n\n   time_signature  artist_pop  \\\n0               4          82   \n1               4          85   \n2               4          81   \n3               4          90   \n4               4          98   \n\n                                              genres  track_pop  \n0                       atl_hip_hop pop_rap rap trap         76  \n1  g_funk gangster_rap hip_hop pop_rap rap west_c...         69  \n2     g_funk gangster_rap hip_hop rap west_coast_rap          0  \n3                      dance_pop pop pop_rap r&b rap          0  \n4  canadian_hip_hop canadian_pop hip_hop rap toro...         75  \n\n[5 rows x 33 columns]",
      "text/html": "<div>\n<style scoped>\n    .dataframe tbody tr th:only-of-type {\n        vertical-align: middle;\n    }\n\n    .dataframe tbody tr th {\n        vertical-align: top;\n    }\n\n    .dataframe thead th {\n        text-align: right;\n    }\n</style>\n<table border=\"1\" class=\"dataframe\">\n  <thead>\n    <tr style=\"text-align: right;\">\n      <th></th>\n      <th>Unnamed: 0.2</th>\n      <th>Unnamed: 0.1</th>\n      <th>Unnamed: 0</th>\n      <th>pos</th>\n      <th>artist_name</th>\n      <th>track_uri</th>\n      <th>artist_uri</th>\n      <th>track_name</th>\n      <th>album_uri</th>\n      <th>duration_ms_x</th>\n      <th>...</th>\n      <th>type</th>\n      <th>id</th>\n      <th>uri</th>\n      <th>track_href</th>\n      <th>analysis_url</th>\n      <th>duration_ms_y</th>\n      <th>time_signature</th>\n      <th>artist_pop</th>\n      <th>genres</th>\n      <th>track_pop</th>\n    </tr>\n  </thead>\n  <tbody>\n    <tr>\n      <th>0</th>\n      <td>13103</td>\n      <td>13103</td>\n      <td>10884</td>\n      <td>4</td>\n      <td>Migos</td>\n      <td>4Km5HrUvYTaSUfiSGPJeQR</td>\n      <td>spotify:artist:6oMuImdp5ZcFhWP0ESe6mG</td>\n      <td>Bad and Boujee (feat. Lil Uzi Vert)</td>\n      <td>spotify:album:2AvupjUeMnSffKEV05x222</td>\n      <td>343150</td>\n      <td>...</td>\n      <td>audio_features</td>\n      <td>4Km5HrUvYTaSUfiSGPJeQR</td>\n      <td>spotify:track:4Km5HrUvYTaSUfiSGPJeQR</td>\n      <td>https://api.spotify.com/v1/tracks/4Km5HrUvYTaS...</td>\n      <td>https://api.spotify.com/v1/audio-analysis/4Km5...</td>\n      <td>343150</td>\n      <td>4</td>\n      <td>82</td>\n      <td>atl_hip_hop pop_rap rap trap</td>\n      <td>76</td>\n    </tr>\n    <tr>\n      <th>1</th>\n      <td>9173</td>\n      <td>9173</td>\n      <td>10920</td>\n      <td>40</td>\n      <td>Snoop Dogg</td>\n      <td>2NBQmPrOEEjA8VbeWOQGxO</td>\n      <td>spotify:artist:7hJcb9fa4alzcOq3EaNPoG</td>\n      <td>Drop It Like It's Hot</td>\n      <td>spotify:album:797fkvAtk0iZvP1HHPCWbp</td>\n      <td>266066</td>\n      <td>...</td>\n      <td>audio_features</td>\n      <td>2NBQmPrOEEjA8VbeWOQGxO</td>\n      <td>spotify:track:2NBQmPrOEEjA8VbeWOQGxO</td>\n      <td>https://api.spotify.com/v1/tracks/2NBQmPrOEEjA...</td>\n      <td>https://api.spotify.com/v1/audio-analysis/2NBQ...</td>\n      <td>266067</td>\n      <td>4</td>\n      <td>85</td>\n      <td>g_funk gangster_rap hip_hop pop_rap rap west_c...</td>\n      <td>69</td>\n    </tr>\n    <tr>\n      <th>2</th>\n      <td>13686</td>\n      <td>13686</td>\n      <td>10922</td>\n      <td>42</td>\n      <td>Dr. Dre</td>\n      <td>6ltPEsP4edATzvinHOzvk2</td>\n      <td>spotify:artist:6DPYiyq5kWVQS4RGwxzPC7</td>\n      <td>Still D.R.E.</td>\n      <td>spotify:album:5csXMdS69VOvh8MjyfwkjB</td>\n      <td>268004</td>\n      <td>...</td>\n      <td>audio_features</td>\n      <td>6ltPEsP4edATzvinHOzvk2</td>\n      <td>spotify:track:6ltPEsP4edATzvinHOzvk2</td>\n      <td>https://api.spotify.com/v1/tracks/6ltPEsP4edAT...</td>\n      <td>https://api.spotify.com/v1/audio-analysis/6ltP...</td>\n      <td>268005</td>\n      <td>4</td>\n      <td>81</td>\n      <td>g_funk gangster_rap hip_hop rap west_coast_rap</td>\n      <td>0</td>\n    </tr>\n    <tr>\n      <th>3</th>\n      <td>13475</td>\n      <td>13475</td>\n      <td>10912</td>\n      <td>32</td>\n      <td>Chris Brown</td>\n      <td>0LWQWOFoz5GJLqcHk1fRO2</td>\n      <td>spotify:artist:7bXgB6jMjp9ATFy66eO08Z</td>\n      <td>Look At Me Now</td>\n      <td>spotify:album:6rEm9wAyZP79RFa2qW2bf7</td>\n      <td>222586</td>\n      <td>...</td>\n      <td>audio_features</td>\n      <td>0LWQWOFoz5GJLqcHk1fRO2</td>\n      <td>spotify:track:0LWQWOFoz5GJLqcHk1fRO2</td>\n      <td>https://api.spotify.com/v1/tracks/0LWQWOFoz5GJ...</td>\n      <td>https://api.spotify.com/v1/audio-analysis/0LWQ...</td>\n      <td>222587</td>\n      <td>4</td>\n      <td>90</td>\n      <td>dance_pop pop pop_rap r&amp;b rap</td>\n      <td>0</td>\n    </tr>\n    <tr>\n      <th>4</th>\n      <td>8962</td>\n      <td>8962</td>\n      <td>10889</td>\n      <td>9</td>\n      <td>Drake</td>\n      <td>27GmP9AWRs744SzKcpJsTZ</td>\n      <td>spotify:artist:3TVXtAsR1Inumwj472S9r4</td>\n      <td>Jumpman</td>\n      <td>spotify:album:1ozpmkWcCHwsQ4QTnxOOdT</td>\n      <td>205879</td>\n      <td>...</td>\n      <td>audio_features</td>\n      <td>27GmP9AWRs744SzKcpJsTZ</td>\n      <td>spotify:track:27GmP9AWRs744SzKcpJsTZ</td>\n      <td>https://api.spotify.com/v1/tracks/27GmP9AWRs74...</td>\n      <td>https://api.spotify.com/v1/audio-analysis/27Gm...</td>\n      <td>205879</td>\n      <td>4</td>\n      <td>98</td>\n      <td>canadian_hip_hop canadian_pop hip_hop rap toro...</td>\n      <td>75</td>\n    </tr>\n  </tbody>\n</table>\n<p>5 rows × 33 columns</p>\n</div>"
     },
     "execution_count": 3,
     "metadata": {},
     "output_type": "execute_result"
    }
   ],
   "source": [
    "df = pd.read_csv(\"data/sorted_processed_data_test.csv\")\n",
    "df.head()"
   ],
   "metadata": {
    "collapsed": false,
    "ExecuteTime": {
     "end_time": "2023-12-02T02:41:27.036094400Z",
     "start_time": "2023-12-02T02:41:26.960737800Z"
    }
   },
   "id": "a0a817489feffa4d"
  },
  {
   "cell_type": "code",
   "execution_count": 4,
   "outputs": [
    {
     "name": "stdout",
     "output_type": "stream",
     "text": [
      "Playlists: 36 \n",
      "Tracks: 2427\n"
     ]
    }
   ],
   "source": [
    "num_playlists = df[\"name\"].nunique()  # count distinct values, this is the number of playlists\n",
    "num_tracks = df[\"track_name\"].nunique()  # count distinct values, this is the number of tracks\n",
    "print(f\"Playlists: {num_playlists} \\nTracks: {num_tracks}\")"
   ],
   "metadata": {
    "collapsed": false,
    "ExecuteTime": {
     "end_time": "2023-12-02T02:41:27.040224200Z",
     "start_time": "2023-12-02T02:41:27.029295100Z"
    }
   },
   "id": "d087c0a615f6a0dd"
  },
  {
   "cell_type": "code",
   "execution_count": 5,
   "outputs": [
    {
     "data": {
      "text/plain": "name\nvolleyball playlist     [Bad and Boujee (feat. Lil Uzi Vert), Drop It ...\nw o r k o u t           [Remember The Name (feat. Styles Of Beyond), N...\nwake up                 [Young Dumb & Broke, Clouds, D.A.N.C.E., Rearv...\nwhatever                [The Wild Life, Come On! Feel the Illinoise! P...\nwill                    [Good Times Roll, Fortunate Son, Fly Like An E...\nName: track_name, dtype: object"
     },
     "execution_count": 5,
     "metadata": {},
     "output_type": "execute_result"
    }
   ],
   "source": [
    "playlists_test = df.groupby('name')[\"track_name\"].apply(list)\n",
    "playlists_test.head()"
   ],
   "metadata": {
    "collapsed": false,
    "ExecuteTime": {
     "end_time": "2023-12-02T02:41:27.055391Z",
     "start_time": "2023-12-02T02:41:27.036094400Z"
    }
   },
   "id": "eb0376b094aed80b"
  },
  {
   "cell_type": "markdown",
   "source": [
    "## Evaluation Method\n",
    "\n",
    "We will evaluate our approaches based on the R-Precision metric. This metric is also used as an evaluation metric for the official Million Playlist Dataset. It describes the number of relevant retrieved tracks, divided by the number of relevant tracks. In our case, this is the percentage of recommended songs, which are in the test set."
   ],
   "metadata": {
    "collapsed": false
   },
   "id": "4a985a503917a0"
  },
  {
   "cell_type": "markdown",
   "source": [
    "# Collaborative Filtering\n",
    "\n",
    "We have the matrix we created with our training data. Now we want to see what this matrix computes for a new playlist vector."
   ],
   "metadata": {
    "collapsed": false
   },
   "id": "d270e2cbd153e9ae"
  },
  {
   "cell_type": "code",
   "execution_count": 71,
   "outputs": [
    {
     "data": {
      "text/plain": "0.0024509803921568627"
     },
     "execution_count": 71,
     "metadata": {},
     "output_type": "execute_result"
    }
   ],
   "source": [
    "test_per = 0.2\n",
    "num_tracks = len(unique_songs_uris)  # number of unique songs is length of row in matrix\n",
    "score = 0\n",
    "\n",
    "for playlist_name in list(playlists_test.index):  # loop over all playlists in test set\n",
    "    pl = df[df['name'] == playlist_name]\n",
    "    \n",
    "    # select random tracks to withhold for testing\n",
    "    n = int(len(pl) * test_per)\n",
    "    test_data = random.sample(list(pl.index), k=n)\n",
    "    test_df = pl.drop([i for i in list(pl.index) if i not in test_data])\n",
    "    train_df = pl.drop([i for i in list(pl.index) if i in test_data])\n",
    "    \n",
    "    # create playlist vector\n",
    "    playlist_array = np.zeros(num_tracks)  # this array represents the new playlist\n",
    "    for song_id in train_df[\"id\"]:  # set array 1 if song in this playlist\n",
    "        try:\n",
    "            playlist_array[unique_songs_uris.index(song_id)] = 1  # set array to 1 at index of the song\n",
    "        except ValueError:\n",
    "            continue  # this song has not been seen yet, it can not be added to vector\n",
    "    \n",
    "    # compute cosine similarity to all other playlists\n",
    "    pl_sim = cosine_similarity(coll_matrix, playlist_array.reshape(1, -1))\n",
    "    \n",
    "    # find the most similar songs according to most similar playlist\n",
    "    diff_vals = coll_matrix[pl_sim.argmax(), :] - 1  # subtract 1 from each value to get difference to 1\n",
    "    smallest_n_indexes = np.argpartition(diff_vals, n)  # get list of indexes ordered according to descending order of values\n",
    "\n",
    "    i = 0  # record how many songs were output\n",
    "    recommendations = list()\n",
    "    for idx in np.flip(smallest_n_indexes):  # look at which song corresponds to found indexes\n",
    "        if playlist_array[idx] == 0:  # song was not in playlist already\n",
    "            recommendations.append(unique_songs_uris[idx])  # use index to recover uri of song\n",
    "        i += 1\n",
    "        if i == n:\n",
    "            break\n",
    "            \n",
    "    # compute R-precision\n",
    "    retrieved_rel = set(recommendations).intersection(test_df['id'])  # how many songs retrieved were relevant\n",
    "    score += len(retrieved_rel)/n  # sum score and divide afterwards\n",
    "\n",
    "score = score/len(list(playlists_test.index))  # divide by number of playlists\n",
    "score    "
   ],
   "metadata": {
    "collapsed": false,
    "ExecuteTime": {
     "end_time": "2023-12-02T04:29:49.769301Z",
     "start_time": "2023-12-02T04:29:44.210522100Z"
    }
   },
   "id": "71a7cb90689f3777"
  },
  {
   "cell_type": "markdown",
   "source": [
    "As we can see, the score is almost 0, with 0.2% R-Precision. This low score can be tracked back to many of our limitations. First of all, we do not own the data Spotify has, which is a matrix with playcounts for each song in a playlist, instead of the binary matrix we used. Also, the evaluation method does not fully represent the reality of users, as users might have liked those songs as well, either though they are not in their playlist yet."
   ],
   "metadata": {
    "collapsed": false
   },
   "id": "3b6fa79aea55f6a5"
  },
  {
   "cell_type": "markdown",
   "source": [
    "# Content Based Recommendation\n",
    "\n",
    "Get all the data created with the notebook [content_based_recsys](content_based_recsys.ipynb) and import functions from there."
   ],
   "metadata": {
    "collapsed": false
   },
   "id": "e4fc7e48d87bc4f"
  },
  {
   "cell_type": "code",
   "execution_count": 16,
   "outputs": [],
   "source": [
    "from scripts.data_handling import generate_playlist_feature\n",
    "from scripts.data_handling import generate_playlist_recos\n",
    "\n",
    "song_df = pd.read_csv(\"data/allsong_data_test.csv\")\n",
    "complete_feature_set = pd.read_csv(\"data/complete_feature_test.csv\")  # all the features for the allsong_data_test set"
   ],
   "metadata": {
    "collapsed": false,
    "ExecuteTime": {
     "end_time": "2023-12-02T02:44:47.071368600Z",
     "start_time": "2023-12-02T02:44:46.957678800Z"
    }
   },
   "id": "e7c17bd33510818c"
  },
  {
   "cell_type": "markdown",
   "source": [
    "Now we go through every test playlist and withhold 20% of the playlist songs, in order to test the recommendation. After making as many recommendations as withheld songs, we compute the percentage of songs that were recommended \"right\". In this case a song was retrieved right, if it was in the top n recommendations and in the withheld test set. We average the so called R-Precision over all the playlists, which results in our final score."
   ],
   "metadata": {
    "collapsed": false
   },
   "id": "8d1fc6eb9e7b6bf4"
  },
  {
   "cell_type": "code",
   "execution_count": 38,
   "outputs": [
    {
     "name": "stderr",
     "output_type": "stream",
     "text": [
      "C:\\Users\\Marja\\PycharmProjects\\mms-project-23\\recommender_model\\scripts\\data_handling.py:46: SettingWithCopyWarning: \n",
      "A value is trying to be set on a copy of a slice from a DataFrame.\n",
      "Try using .loc[row_indexer,col_indexer] = value instead\n",
      "\n",
      "See the caveats in the documentation: https://pandas.pydata.org/pandas-docs/stable/user_guide/indexing.html#returning-a-view-versus-a-copy\n",
      "  non_playlist_df['sim'] = cosine_similarity(nonplaylist_features.drop('id', axis=1).values,\n",
      "C:\\Users\\Marja\\PycharmProjects\\mms-project-23\\recommender_model\\scripts\\data_handling.py:46: SettingWithCopyWarning: \n",
      "A value is trying to be set on a copy of a slice from a DataFrame.\n",
      "Try using .loc[row_indexer,col_indexer] = value instead\n",
      "\n",
      "See the caveats in the documentation: https://pandas.pydata.org/pandas-docs/stable/user_guide/indexing.html#returning-a-view-versus-a-copy\n",
      "  non_playlist_df['sim'] = cosine_similarity(nonplaylist_features.drop('id', axis=1).values,\n",
      "C:\\Users\\Marja\\PycharmProjects\\mms-project-23\\recommender_model\\scripts\\data_handling.py:46: SettingWithCopyWarning: \n",
      "A value is trying to be set on a copy of a slice from a DataFrame.\n",
      "Try using .loc[row_indexer,col_indexer] = value instead\n",
      "\n",
      "See the caveats in the documentation: https://pandas.pydata.org/pandas-docs/stable/user_guide/indexing.html#returning-a-view-versus-a-copy\n",
      "  non_playlist_df['sim'] = cosine_similarity(nonplaylist_features.drop('id', axis=1).values,\n",
      "C:\\Users\\Marja\\PycharmProjects\\mms-project-23\\recommender_model\\scripts\\data_handling.py:46: SettingWithCopyWarning: \n",
      "A value is trying to be set on a copy of a slice from a DataFrame.\n",
      "Try using .loc[row_indexer,col_indexer] = value instead\n",
      "\n",
      "See the caveats in the documentation: https://pandas.pydata.org/pandas-docs/stable/user_guide/indexing.html#returning-a-view-versus-a-copy\n",
      "  non_playlist_df['sim'] = cosine_similarity(nonplaylist_features.drop('id', axis=1).values,\n",
      "C:\\Users\\Marja\\PycharmProjects\\mms-project-23\\recommender_model\\scripts\\data_handling.py:46: SettingWithCopyWarning: \n",
      "A value is trying to be set on a copy of a slice from a DataFrame.\n",
      "Try using .loc[row_indexer,col_indexer] = value instead\n",
      "\n",
      "See the caveats in the documentation: https://pandas.pydata.org/pandas-docs/stable/user_guide/indexing.html#returning-a-view-versus-a-copy\n",
      "  non_playlist_df['sim'] = cosine_similarity(nonplaylist_features.drop('id', axis=1).values,\n",
      "C:\\Users\\Marja\\PycharmProjects\\mms-project-23\\recommender_model\\scripts\\data_handling.py:46: SettingWithCopyWarning: \n",
      "A value is trying to be set on a copy of a slice from a DataFrame.\n",
      "Try using .loc[row_indexer,col_indexer] = value instead\n",
      "\n",
      "See the caveats in the documentation: https://pandas.pydata.org/pandas-docs/stable/user_guide/indexing.html#returning-a-view-versus-a-copy\n",
      "  non_playlist_df['sim'] = cosine_similarity(nonplaylist_features.drop('id', axis=1).values,\n",
      "C:\\Users\\Marja\\PycharmProjects\\mms-project-23\\recommender_model\\scripts\\data_handling.py:46: SettingWithCopyWarning: \n",
      "A value is trying to be set on a copy of a slice from a DataFrame.\n",
      "Try using .loc[row_indexer,col_indexer] = value instead\n",
      "\n",
      "See the caveats in the documentation: https://pandas.pydata.org/pandas-docs/stable/user_guide/indexing.html#returning-a-view-versus-a-copy\n",
      "  non_playlist_df['sim'] = cosine_similarity(nonplaylist_features.drop('id', axis=1).values,\n",
      "C:\\Users\\Marja\\PycharmProjects\\mms-project-23\\recommender_model\\scripts\\data_handling.py:46: SettingWithCopyWarning: \n",
      "A value is trying to be set on a copy of a slice from a DataFrame.\n",
      "Try using .loc[row_indexer,col_indexer] = value instead\n",
      "\n",
      "See the caveats in the documentation: https://pandas.pydata.org/pandas-docs/stable/user_guide/indexing.html#returning-a-view-versus-a-copy\n",
      "  non_playlist_df['sim'] = cosine_similarity(nonplaylist_features.drop('id', axis=1).values,\n",
      "C:\\Users\\Marja\\PycharmProjects\\mms-project-23\\recommender_model\\scripts\\data_handling.py:46: SettingWithCopyWarning: \n",
      "A value is trying to be set on a copy of a slice from a DataFrame.\n",
      "Try using .loc[row_indexer,col_indexer] = value instead\n",
      "\n",
      "See the caveats in the documentation: https://pandas.pydata.org/pandas-docs/stable/user_guide/indexing.html#returning-a-view-versus-a-copy\n",
      "  non_playlist_df['sim'] = cosine_similarity(nonplaylist_features.drop('id', axis=1).values,\n",
      "C:\\Users\\Marja\\PycharmProjects\\mms-project-23\\recommender_model\\scripts\\data_handling.py:46: SettingWithCopyWarning: \n",
      "A value is trying to be set on a copy of a slice from a DataFrame.\n",
      "Try using .loc[row_indexer,col_indexer] = value instead\n",
      "\n",
      "See the caveats in the documentation: https://pandas.pydata.org/pandas-docs/stable/user_guide/indexing.html#returning-a-view-versus-a-copy\n",
      "  non_playlist_df['sim'] = cosine_similarity(nonplaylist_features.drop('id', axis=1).values,\n",
      "C:\\Users\\Marja\\PycharmProjects\\mms-project-23\\recommender_model\\scripts\\data_handling.py:46: SettingWithCopyWarning: \n",
      "A value is trying to be set on a copy of a slice from a DataFrame.\n",
      "Try using .loc[row_indexer,col_indexer] = value instead\n",
      "\n",
      "See the caveats in the documentation: https://pandas.pydata.org/pandas-docs/stable/user_guide/indexing.html#returning-a-view-versus-a-copy\n",
      "  non_playlist_df['sim'] = cosine_similarity(nonplaylist_features.drop('id', axis=1).values,\n",
      "C:\\Users\\Marja\\PycharmProjects\\mms-project-23\\recommender_model\\scripts\\data_handling.py:46: SettingWithCopyWarning: \n",
      "A value is trying to be set on a copy of a slice from a DataFrame.\n",
      "Try using .loc[row_indexer,col_indexer] = value instead\n",
      "\n",
      "See the caveats in the documentation: https://pandas.pydata.org/pandas-docs/stable/user_guide/indexing.html#returning-a-view-versus-a-copy\n",
      "  non_playlist_df['sim'] = cosine_similarity(nonplaylist_features.drop('id', axis=1).values,\n",
      "C:\\Users\\Marja\\PycharmProjects\\mms-project-23\\recommender_model\\scripts\\data_handling.py:46: SettingWithCopyWarning: \n",
      "A value is trying to be set on a copy of a slice from a DataFrame.\n",
      "Try using .loc[row_indexer,col_indexer] = value instead\n",
      "\n",
      "See the caveats in the documentation: https://pandas.pydata.org/pandas-docs/stable/user_guide/indexing.html#returning-a-view-versus-a-copy\n",
      "  non_playlist_df['sim'] = cosine_similarity(nonplaylist_features.drop('id', axis=1).values,\n",
      "C:\\Users\\Marja\\PycharmProjects\\mms-project-23\\recommender_model\\scripts\\data_handling.py:46: SettingWithCopyWarning: \n",
      "A value is trying to be set on a copy of a slice from a DataFrame.\n",
      "Try using .loc[row_indexer,col_indexer] = value instead\n",
      "\n",
      "See the caveats in the documentation: https://pandas.pydata.org/pandas-docs/stable/user_guide/indexing.html#returning-a-view-versus-a-copy\n",
      "  non_playlist_df['sim'] = cosine_similarity(nonplaylist_features.drop('id', axis=1).values,\n",
      "C:\\Users\\Marja\\PycharmProjects\\mms-project-23\\recommender_model\\scripts\\data_handling.py:46: SettingWithCopyWarning: \n",
      "A value is trying to be set on a copy of a slice from a DataFrame.\n",
      "Try using .loc[row_indexer,col_indexer] = value instead\n",
      "\n",
      "See the caveats in the documentation: https://pandas.pydata.org/pandas-docs/stable/user_guide/indexing.html#returning-a-view-versus-a-copy\n",
      "  non_playlist_df['sim'] = cosine_similarity(nonplaylist_features.drop('id', axis=1).values,\n",
      "C:\\Users\\Marja\\PycharmProjects\\mms-project-23\\recommender_model\\scripts\\data_handling.py:46: SettingWithCopyWarning: \n",
      "A value is trying to be set on a copy of a slice from a DataFrame.\n",
      "Try using .loc[row_indexer,col_indexer] = value instead\n",
      "\n",
      "See the caveats in the documentation: https://pandas.pydata.org/pandas-docs/stable/user_guide/indexing.html#returning-a-view-versus-a-copy\n",
      "  non_playlist_df['sim'] = cosine_similarity(nonplaylist_features.drop('id', axis=1).values,\n",
      "C:\\Users\\Marja\\PycharmProjects\\mms-project-23\\recommender_model\\scripts\\data_handling.py:46: SettingWithCopyWarning: \n",
      "A value is trying to be set on a copy of a slice from a DataFrame.\n",
      "Try using .loc[row_indexer,col_indexer] = value instead\n",
      "\n",
      "See the caveats in the documentation: https://pandas.pydata.org/pandas-docs/stable/user_guide/indexing.html#returning-a-view-versus-a-copy\n",
      "  non_playlist_df['sim'] = cosine_similarity(nonplaylist_features.drop('id', axis=1).values,\n",
      "C:\\Users\\Marja\\PycharmProjects\\mms-project-23\\recommender_model\\scripts\\data_handling.py:46: SettingWithCopyWarning: \n",
      "A value is trying to be set on a copy of a slice from a DataFrame.\n",
      "Try using .loc[row_indexer,col_indexer] = value instead\n",
      "\n",
      "See the caveats in the documentation: https://pandas.pydata.org/pandas-docs/stable/user_guide/indexing.html#returning-a-view-versus-a-copy\n",
      "  non_playlist_df['sim'] = cosine_similarity(nonplaylist_features.drop('id', axis=1).values,\n",
      "C:\\Users\\Marja\\PycharmProjects\\mms-project-23\\recommender_model\\scripts\\data_handling.py:46: SettingWithCopyWarning: \n",
      "A value is trying to be set on a copy of a slice from a DataFrame.\n",
      "Try using .loc[row_indexer,col_indexer] = value instead\n",
      "\n",
      "See the caveats in the documentation: https://pandas.pydata.org/pandas-docs/stable/user_guide/indexing.html#returning-a-view-versus-a-copy\n",
      "  non_playlist_df['sim'] = cosine_similarity(nonplaylist_features.drop('id', axis=1).values,\n",
      "C:\\Users\\Marja\\PycharmProjects\\mms-project-23\\recommender_model\\scripts\\data_handling.py:46: SettingWithCopyWarning: \n",
      "A value is trying to be set on a copy of a slice from a DataFrame.\n",
      "Try using .loc[row_indexer,col_indexer] = value instead\n",
      "\n",
      "See the caveats in the documentation: https://pandas.pydata.org/pandas-docs/stable/user_guide/indexing.html#returning-a-view-versus-a-copy\n",
      "  non_playlist_df['sim'] = cosine_similarity(nonplaylist_features.drop('id', axis=1).values,\n",
      "C:\\Users\\Marja\\PycharmProjects\\mms-project-23\\recommender_model\\scripts\\data_handling.py:46: SettingWithCopyWarning: \n",
      "A value is trying to be set on a copy of a slice from a DataFrame.\n",
      "Try using .loc[row_indexer,col_indexer] = value instead\n",
      "\n",
      "See the caveats in the documentation: https://pandas.pydata.org/pandas-docs/stable/user_guide/indexing.html#returning-a-view-versus-a-copy\n",
      "  non_playlist_df['sim'] = cosine_similarity(nonplaylist_features.drop('id', axis=1).values,\n",
      "C:\\Users\\Marja\\PycharmProjects\\mms-project-23\\recommender_model\\scripts\\data_handling.py:46: SettingWithCopyWarning: \n",
      "A value is trying to be set on a copy of a slice from a DataFrame.\n",
      "Try using .loc[row_indexer,col_indexer] = value instead\n",
      "\n",
      "See the caveats in the documentation: https://pandas.pydata.org/pandas-docs/stable/user_guide/indexing.html#returning-a-view-versus-a-copy\n",
      "  non_playlist_df['sim'] = cosine_similarity(nonplaylist_features.drop('id', axis=1).values,\n",
      "C:\\Users\\Marja\\PycharmProjects\\mms-project-23\\recommender_model\\scripts\\data_handling.py:46: SettingWithCopyWarning: \n",
      "A value is trying to be set on a copy of a slice from a DataFrame.\n",
      "Try using .loc[row_indexer,col_indexer] = value instead\n",
      "\n",
      "See the caveats in the documentation: https://pandas.pydata.org/pandas-docs/stable/user_guide/indexing.html#returning-a-view-versus-a-copy\n",
      "  non_playlist_df['sim'] = cosine_similarity(nonplaylist_features.drop('id', axis=1).values,\n",
      "C:\\Users\\Marja\\PycharmProjects\\mms-project-23\\recommender_model\\scripts\\data_handling.py:46: SettingWithCopyWarning: \n",
      "A value is trying to be set on a copy of a slice from a DataFrame.\n",
      "Try using .loc[row_indexer,col_indexer] = value instead\n",
      "\n",
      "See the caveats in the documentation: https://pandas.pydata.org/pandas-docs/stable/user_guide/indexing.html#returning-a-view-versus-a-copy\n",
      "  non_playlist_df['sim'] = cosine_similarity(nonplaylist_features.drop('id', axis=1).values,\n",
      "C:\\Users\\Marja\\PycharmProjects\\mms-project-23\\recommender_model\\scripts\\data_handling.py:46: SettingWithCopyWarning: \n",
      "A value is trying to be set on a copy of a slice from a DataFrame.\n",
      "Try using .loc[row_indexer,col_indexer] = value instead\n",
      "\n",
      "See the caveats in the documentation: https://pandas.pydata.org/pandas-docs/stable/user_guide/indexing.html#returning-a-view-versus-a-copy\n",
      "  non_playlist_df['sim'] = cosine_similarity(nonplaylist_features.drop('id', axis=1).values,\n",
      "C:\\Users\\Marja\\PycharmProjects\\mms-project-23\\recommender_model\\scripts\\data_handling.py:46: SettingWithCopyWarning: \n",
      "A value is trying to be set on a copy of a slice from a DataFrame.\n",
      "Try using .loc[row_indexer,col_indexer] = value instead\n",
      "\n",
      "See the caveats in the documentation: https://pandas.pydata.org/pandas-docs/stable/user_guide/indexing.html#returning-a-view-versus-a-copy\n",
      "  non_playlist_df['sim'] = cosine_similarity(nonplaylist_features.drop('id', axis=1).values,\n",
      "C:\\Users\\Marja\\PycharmProjects\\mms-project-23\\recommender_model\\scripts\\data_handling.py:46: SettingWithCopyWarning: \n",
      "A value is trying to be set on a copy of a slice from a DataFrame.\n",
      "Try using .loc[row_indexer,col_indexer] = value instead\n",
      "\n",
      "See the caveats in the documentation: https://pandas.pydata.org/pandas-docs/stable/user_guide/indexing.html#returning-a-view-versus-a-copy\n",
      "  non_playlist_df['sim'] = cosine_similarity(nonplaylist_features.drop('id', axis=1).values,\n",
      "C:\\Users\\Marja\\PycharmProjects\\mms-project-23\\recommender_model\\scripts\\data_handling.py:46: SettingWithCopyWarning: \n",
      "A value is trying to be set on a copy of a slice from a DataFrame.\n",
      "Try using .loc[row_indexer,col_indexer] = value instead\n",
      "\n",
      "See the caveats in the documentation: https://pandas.pydata.org/pandas-docs/stable/user_guide/indexing.html#returning-a-view-versus-a-copy\n",
      "  non_playlist_df['sim'] = cosine_similarity(nonplaylist_features.drop('id', axis=1).values,\n",
      "C:\\Users\\Marja\\PycharmProjects\\mms-project-23\\recommender_model\\scripts\\data_handling.py:46: SettingWithCopyWarning: \n",
      "A value is trying to be set on a copy of a slice from a DataFrame.\n",
      "Try using .loc[row_indexer,col_indexer] = value instead\n",
      "\n",
      "See the caveats in the documentation: https://pandas.pydata.org/pandas-docs/stable/user_guide/indexing.html#returning-a-view-versus-a-copy\n",
      "  non_playlist_df['sim'] = cosine_similarity(nonplaylist_features.drop('id', axis=1).values,\n",
      "C:\\Users\\Marja\\PycharmProjects\\mms-project-23\\recommender_model\\scripts\\data_handling.py:46: SettingWithCopyWarning: \n",
      "A value is trying to be set on a copy of a slice from a DataFrame.\n",
      "Try using .loc[row_indexer,col_indexer] = value instead\n",
      "\n",
      "See the caveats in the documentation: https://pandas.pydata.org/pandas-docs/stable/user_guide/indexing.html#returning-a-view-versus-a-copy\n",
      "  non_playlist_df['sim'] = cosine_similarity(nonplaylist_features.drop('id', axis=1).values,\n",
      "C:\\Users\\Marja\\PycharmProjects\\mms-project-23\\recommender_model\\scripts\\data_handling.py:46: SettingWithCopyWarning: \n",
      "A value is trying to be set on a copy of a slice from a DataFrame.\n",
      "Try using .loc[row_indexer,col_indexer] = value instead\n",
      "\n",
      "See the caveats in the documentation: https://pandas.pydata.org/pandas-docs/stable/user_guide/indexing.html#returning-a-view-versus-a-copy\n",
      "  non_playlist_df['sim'] = cosine_similarity(nonplaylist_features.drop('id', axis=1).values,\n",
      "C:\\Users\\Marja\\PycharmProjects\\mms-project-23\\recommender_model\\scripts\\data_handling.py:46: SettingWithCopyWarning: \n",
      "A value is trying to be set on a copy of a slice from a DataFrame.\n",
      "Try using .loc[row_indexer,col_indexer] = value instead\n",
      "\n",
      "See the caveats in the documentation: https://pandas.pydata.org/pandas-docs/stable/user_guide/indexing.html#returning-a-view-versus-a-copy\n",
      "  non_playlist_df['sim'] = cosine_similarity(nonplaylist_features.drop('id', axis=1).values,\n",
      "C:\\Users\\Marja\\PycharmProjects\\mms-project-23\\recommender_model\\scripts\\data_handling.py:46: SettingWithCopyWarning: \n",
      "A value is trying to be set on a copy of a slice from a DataFrame.\n",
      "Try using .loc[row_indexer,col_indexer] = value instead\n",
      "\n",
      "See the caveats in the documentation: https://pandas.pydata.org/pandas-docs/stable/user_guide/indexing.html#returning-a-view-versus-a-copy\n",
      "  non_playlist_df['sim'] = cosine_similarity(nonplaylist_features.drop('id', axis=1).values,\n",
      "C:\\Users\\Marja\\PycharmProjects\\mms-project-23\\recommender_model\\scripts\\data_handling.py:46: SettingWithCopyWarning: \n",
      "A value is trying to be set on a copy of a slice from a DataFrame.\n",
      "Try using .loc[row_indexer,col_indexer] = value instead\n",
      "\n",
      "See the caveats in the documentation: https://pandas.pydata.org/pandas-docs/stable/user_guide/indexing.html#returning-a-view-versus-a-copy\n",
      "  non_playlist_df['sim'] = cosine_similarity(nonplaylist_features.drop('id', axis=1).values,\n",
      "C:\\Users\\Marja\\PycharmProjects\\mms-project-23\\recommender_model\\scripts\\data_handling.py:46: SettingWithCopyWarning: \n",
      "A value is trying to be set on a copy of a slice from a DataFrame.\n",
      "Try using .loc[row_indexer,col_indexer] = value instead\n",
      "\n",
      "See the caveats in the documentation: https://pandas.pydata.org/pandas-docs/stable/user_guide/indexing.html#returning-a-view-versus-a-copy\n",
      "  non_playlist_df['sim'] = cosine_similarity(nonplaylist_features.drop('id', axis=1).values,\n",
      "C:\\Users\\Marja\\PycharmProjects\\mms-project-23\\recommender_model\\scripts\\data_handling.py:46: SettingWithCopyWarning: \n",
      "A value is trying to be set on a copy of a slice from a DataFrame.\n",
      "Try using .loc[row_indexer,col_indexer] = value instead\n",
      "\n",
      "See the caveats in the documentation: https://pandas.pydata.org/pandas-docs/stable/user_guide/indexing.html#returning-a-view-versus-a-copy\n",
      "  non_playlist_df['sim'] = cosine_similarity(nonplaylist_features.drop('id', axis=1).values,\n"
     ]
    },
    {
     "data": {
      "text/plain": "0.16908674392337195"
     },
     "execution_count": 38,
     "metadata": {},
     "output_type": "execute_result"
    }
   ],
   "source": [
    "test_per = 0.2\n",
    "score = 0\n",
    "\n",
    "for playlist_name in list(playlists_test.index):  # loop over all playlists in test set\n",
    "    pl_df = df[df['name'] == playlist_name]  # get the playlist by its name\n",
    "    \n",
    "    # select random tracks to withhold for testing\n",
    "    n = int(len(pl_df) * test_per)\n",
    "    test_data = random.sample(list(pl_df.index), k=n)\n",
    "    test_df = pl_df.drop([i for i in list(pl_df.index) if i not in test_data])\n",
    "    train_df = pl_df.drop([i for i in list(pl_df.index) if i in test_data])\n",
    "    \n",
    "    # generate the features\n",
    "    complete_feature_set_playlist_vector, complete_feature_set_nonplaylist = generate_playlist_feature(complete_feature_set, train_df)\n",
    "    \n",
    "    # Generate top n recommendation\n",
    "    recommend = generate_playlist_recos(song_df, complete_feature_set_playlist_vector, complete_feature_set_nonplaylist)\n",
    "    recommendations = recommend.head(n)  \n",
    "    \n",
    "    # compute R-precision\n",
    "    retrieved_rel = set(recommendations['id']).intersection(test_df['id'])  # how many songs retrieved were relevant\n",
    "    score += len(retrieved_rel)/n  # sum score and divide afterwards\n",
    "\n",
    "score = score/len(list(playlists_test.index))  # divide by number of playlists\n",
    "score"
   ],
   "metadata": {
    "collapsed": false,
    "ExecuteTime": {
     "end_time": "2023-12-02T03:19:23.342829200Z",
     "start_time": "2023-12-02T03:19:22.625489200Z"
    }
   },
   "id": "480421e16715966b"
  },
  {
   "cell_type": "markdown",
   "source": [
    "We can see a high increase in the R-Precision score, which is now 16.9%. This recommendation was possible without any knowledge of user data and solely based on the characteristics of the song itself. Again, our evaluation method is limited in knowing what a \"right\" recommendation is. Still, we were able to perform a recommendation that statistically recommends a suitable song after 6-7 songs. Now you can imagine, how good this performance will be with actual user data, like favorite songs, skipped songs, listening time, ... This makes the recommendations almost perfect, but also very complex!"
   ],
   "metadata": {
    "collapsed": false
   },
   "id": "cd62d1ec2116b330"
  }
 ],
 "metadata": {
  "kernelspec": {
   "display_name": "Python 3",
   "language": "python",
   "name": "python3"
  },
  "language_info": {
   "codemirror_mode": {
    "name": "ipython",
    "version": 2
   },
   "file_extension": ".py",
   "mimetype": "text/x-python",
   "name": "python",
   "nbconvert_exporter": "python",
   "pygments_lexer": "ipython2",
   "version": "2.7.6"
  }
 },
 "nbformat": 4,
 "nbformat_minor": 5
}
