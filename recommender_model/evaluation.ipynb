{
 "cells": [
  {
   "cell_type": "markdown",
   "source": [
    "# Evaluation of Matrix vs. CNN-based method\n",
    "\n",
    "It is now time to evaluate both methods against each other. Here, we will use a test set, which I separated before training, which is a part of the dataset I used for training."
   ],
   "metadata": {
    "collapsed": false
   },
   "id": "b3df600377bbceca"
  },
  {
   "cell_type": "markdown",
   "source": [
    "First, we need to load the playlist-song matrix created in the [collaborative filtering notebook](collaborative_filtering.ipynb), and the features we extracted in the [content-based recommendation system notebook](content_based_recsys.ipynb), which is essentially a matrix too."
   ],
   "metadata": {
    "collapsed": false
   },
   "id": "e2fcc7b992a4e259"
  },
  {
   "cell_type": "code",
   "execution_count": 2,
   "outputs": [],
   "source": [
    "import numpy as np\n",
    "import pandas as pd"
   ],
   "metadata": {
    "collapsed": false,
    "ExecuteTime": {
     "end_time": "2023-12-01T19:38:08.521803500Z",
     "start_time": "2023-12-01T19:38:08.149046200Z"
    }
   },
   "id": "9a3274ec4e68efc8"
  },
  {
   "cell_type": "code",
   "execution_count": 9,
   "outputs": [],
   "source": [
    "# define file paths\n",
    "collaborative_matrix_file = 'data/matrix.npy'  # modified playlist-song vector\n",
    "content_matrix_file = 'data/complete_feature.csv'  # all features for train set file\n",
    "playlists_file = 'data/playlists.txt'  # all playlists for collaborative matrix row header\n",
    "unique_songs_uris_file = 'data/unique_songs_uris.txt'  # all uris for collaborative matrix column header\n",
    "\n",
    "# load the files into data structures\n",
    "with open(collaborative_matrix_file, 'rb') as f:\n",
    "    coll_matrix = np.load(f)\n",
    "\n",
    "with open(content_matrix_file, 'rb') as f:\n",
    "    cont_matrix = pd.read_csv(f)\n",
    "\n",
    "with open(playlists_file, 'r', encoding='utf-8') as f:\n",
    "    playlists = f.read().splitlines()\n",
    "\n",
    "with open(unique_songs_uris_file, 'r') as f:\n",
    "    unique_songs_uris = f.read().splitlines()"
   ],
   "metadata": {
    "collapsed": false,
    "ExecuteTime": {
     "end_time": "2023-12-01T19:40:29.127942100Z",
     "start_time": "2023-12-01T19:40:24.620304200Z"
    }
   },
   "id": "7f2dece3fd72407b"
  },
  {
   "cell_type": "markdown",
   "source": [
    "Both "
   ],
   "metadata": {
    "collapsed": false
   },
   "id": "47a4d7d153ee34b1"
  }
 ],
 "metadata": {
  "kernelspec": {
   "display_name": "Python 3",
   "language": "python",
   "name": "python3"
  },
  "language_info": {
   "codemirror_mode": {
    "name": "ipython",
    "version": 2
   },
   "file_extension": ".py",
   "mimetype": "text/x-python",
   "name": "python",
   "nbconvert_exporter": "python",
   "pygments_lexer": "ipython2",
   "version": "2.7.6"
  }
 },
 "nbformat": 4,
 "nbformat_minor": 5
}
