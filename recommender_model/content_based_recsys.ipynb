{
 "cells": [
  {
   "cell_type": "markdown",
   "metadata": {},
   "source": [
    "# Content-based Filtering Spotify Song Recommendation System\n",
    "\n",
    "**Disclaimer: this notebook is based on the notebook that can be found [here](https://github.com/enjuichang/PracticalDataScience-ENCA/tree/main).**\n",
    "\n",
    "This notebook describes is a content-based filtering approach for Spotify Song recommendation. \n",
    "\n",
    "\n",
    "## Structure\n",
    "\n",
    "- Package Setup\n",
    "- Preprocessing\n",
    "- Feature Generation\n",
    "- Content-based Filtering Recommendation\n",
    "\n",
    "## Setup\n",
    "\n",
    "**Downloaded Package**\n",
    "- TextBlob\n",
    "\n",
    "**Imported Packages**\n",
    "\n",
    "- Pandas\n",
    "- Scikit-learn\n",
    "- re\n",
    "- Spotipy\n",
    "\n",
    "## Credits\n",
    "\n",
    "This notebook builds on top of Madhav Thaker's [spotify-recommendation-system tutorial](https://github.com/madhavthaker/spotify-recommendation-system).\n",
    "\n",
    "\n",
    "\n"
   ]
  },
  {
   "cell_type": "markdown",
   "metadata": {},
   "source": [
    "### Package Setup\n",
    "#### Download Dependencies"
   ]
  },
  {
   "cell_type": "code",
   "execution_count": 31,
   "metadata": {
    "ExecuteTime": {
     "end_time": "2023-12-02T04:56:12.164596200Z",
     "start_time": "2023-12-02T04:56:10.346258900Z"
    }
   },
   "outputs": [
    {
     "name": "stdout",
     "output_type": "stream",
     "text": [
      "Requirement already satisfied: textblob in c:\\users\\marja\\pycharmprojects\\mms-project-23\\venv\\lib\\site-packages (0.17.1)\n",
      "Requirement already satisfied: nltk>=3.1 in c:\\users\\marja\\pycharmprojects\\mms-project-23\\venv\\lib\\site-packages (from textblob) (3.8.1)\n",
      "Requirement already satisfied: click in c:\\users\\marja\\pycharmprojects\\mms-project-23\\venv\\lib\\site-packages (from nltk>=3.1->textblob) (8.1.7)\n",
      "Requirement already satisfied: joblib in c:\\users\\marja\\pycharmprojects\\mms-project-23\\venv\\lib\\site-packages (from nltk>=3.1->textblob) (1.3.2)\n",
      "Requirement already satisfied: regex>=2021.8.3 in c:\\users\\marja\\pycharmprojects\\mms-project-23\\venv\\lib\\site-packages (from nltk>=3.1->textblob) (2023.10.3)\n",
      "Requirement already satisfied: tqdm in c:\\users\\marja\\pycharmprojects\\mms-project-23\\venv\\lib\\site-packages (from nltk>=3.1->textblob) (4.66.1)\n",
      "Requirement already satisfied: colorama in c:\\users\\marja\\pycharmprojects\\mms-project-23\\venv\\lib\\site-packages (from click->nltk>=3.1->textblob) (0.4.6)\n"
     ]
    },
    {
     "name": "stderr",
     "output_type": "stream",
     "text": [
      "\n",
      "[notice] A new release of pip is available: 23.2.1 -> 23.3.1\n",
      "[notice] To update, run: python.exe -m pip install --upgrade pip\n"
     ]
    }
   ],
   "source": [
    "!pip install textblob"
   ]
  },
  {
   "cell_type": "markdown",
   "metadata": {},
   "source": [
    "#### Import Dependencies"
   ]
  },
  {
   "cell_type": "code",
   "execution_count": 32,
   "metadata": {
    "ExecuteTime": {
     "end_time": "2023-12-02T04:56:12.170947500Z",
     "start_time": "2023-12-02T04:56:12.164596200Z"
    }
   },
   "outputs": [],
   "source": [
    "# import library\n",
    "import pandas as pd\n",
    "from sklearn.metrics.pairwise import cosine_similarity\n",
    "from sklearn.preprocessing import MinMaxScaler\n",
    "from sklearn.feature_extraction.text import TfidfVectorizer\n",
    "from textblob import TextBlob\n",
    "import re"
   ]
  },
  {
   "cell_type": "markdown",
   "metadata": {},
   "source": [
    "#### Data Import\n",
    "The data here is not raw data, but the data created in [extract_features.py](https://github.com/enjuichang/PracticalDataScience-ENCA/blob/main/notebooks/Extract%20Features%20Script.ipynb). The script uses the Spotify API library [spotipy](https://spotipy.readthedocs.io/en/2.22.1/?highlight=sp%20audio_features#spotipy.client.Spotify.audio_features) in order to extract [audio features](https://developer.spotify.com/documentation/web-api/reference/get-audio-features), like loudness, danceability, acousticness, .... Spotify created these features by applying a trained Convolutional Neural Network to the [spectrogram](https://en.wikipedia.org/wiki/Spectrogram) of a song, which is a 2D-image representation of the song. Therefore, we don't need to do this ourselves, and just need to use Spotify's API to get those features. In this case, I am using a subset of the data provided [here](https://github.com/enjuichang/PracticalDataScience-ENCA/blob/main/data/processed_data.csv)."
   ]
  },
  {
   "cell_type": "code",
   "execution_count": 33,
   "metadata": {
    "ExecuteTime": {
     "end_time": "2023-12-02T04:56:12.576748400Z",
     "start_time": "2023-12-02T04:56:12.170947500Z"
    }
   },
   "outputs": [
    {
     "name": "stdout",
     "output_type": "stream",
     "text": [
      "Index(['Unnamed: 0.2', 'Unnamed: 0.1', 'Unnamed: 0', 'pos', 'artist_name',\n",
      "       'track_uri', 'artist_uri', 'track_name', 'album_uri', 'duration_ms_x',\n",
      "       'album_name', 'name', 'danceability', 'energy', 'key', 'loudness',\n",
      "       'mode', 'speechiness', 'acousticness', 'instrumentalness', 'liveness',\n",
      "       'valence', 'tempo', 'type', 'id', 'uri', 'track_href', 'analysis_url',\n",
      "       'duration_ms_y', 'time_signature', 'artist_pop', 'genres', 'track_pop'],\n",
      "      dtype='object')\n"
     ]
    },
    {
     "data": {
      "text/plain": "   Unnamed: 0.2  pos        artist_name               track_uri  \\\n0         10062    9       Andy Grammer  4nMlau89VAjmV7agkl7OY3   \n1         11756    8              gnash  7vRriwrloYVaoAe3a9wJHe   \n2         16776   20             Khalid  152lZdxL1OR0ZMW6KquMif   \n3          2510   19  Chance The Rapper  3eze1OsZ1rqeXkKStNfTmi   \n4         10054    2           Maroon 5  2QbFClFyhMMtiurUjuQlAe   \n\n                              artist_uri  \\\n0  spotify:artist:2oX42qP5ineK3hrhBECLmj   \n1  spotify:artist:3iri9nBFs9e4wN7PLIetAw   \n2  spotify:artist:6LuN9FCkKOj5PcnpouEgny   \n3  spotify:artist:1anyVhU62p31KFi8MEzkbf   \n4  spotify:artist:04gDigrS5kc9YWfZHwBETP   \n\n                                  track_name  \\\n0                                 Fresh Eyes   \n1  i hate u, i love u (feat. olivia o'brien)   \n2                                   Location   \n3    Juke Jam (feat. Justin Bieber & Towkio)   \n4    Don't Wanna Know (feat. Kendrick Lamar)   \n\n                              album_uri  duration_ms_x      album_name  \\\n0  spotify:album:5YpK59N59zCX7Hkc9aBiGv         198001      Fresh Eyes   \n1  spotify:album:3L0H4RjVXpEkwfDgi3XOdf         251033              us   \n2  spotify:album:6kf46HbnYCZzP6rjvQHYzg         219080   American Teen   \n3  spotify:album:71QyofYesSsRMwFOTafnhB         219683   Coloring Book   \n4  spotify:album:1Jmq5HEJeA9kNi2SgQul4U         214265  Red Pill Blues   \n\n     name  ...            type                      id  \\\n0   CHiLl  ...  audio_features  4nMlau89VAjmV7agkl7OY3   \n1   CHiLl  ...  audio_features  7vRriwrloYVaoAe3a9wJHe   \n2   CHiLl  ...  audio_features  152lZdxL1OR0ZMW6KquMif   \n3   CHiLl  ...  audio_features  3eze1OsZ1rqeXkKStNfTmi   \n4   CHiLl  ...  audio_features  2QbFClFyhMMtiurUjuQlAe   \n\n                                    uri  \\\n0  spotify:track:4nMlau89VAjmV7agkl7OY3   \n1  spotify:track:7vRriwrloYVaoAe3a9wJHe   \n2  spotify:track:152lZdxL1OR0ZMW6KquMif   \n3  spotify:track:3eze1OsZ1rqeXkKStNfTmi   \n4  spotify:track:2QbFClFyhMMtiurUjuQlAe   \n\n                                          track_href  \\\n0  https://api.spotify.com/v1/tracks/4nMlau89VAjm...   \n1  https://api.spotify.com/v1/tracks/7vRriwrloYVa...   \n2  https://api.spotify.com/v1/tracks/152lZdxL1OR0...   \n3  https://api.spotify.com/v1/tracks/3eze1OsZ1rqe...   \n4  https://api.spotify.com/v1/tracks/2QbFClFyhMMt...   \n\n                                        analysis_url  duration_ms_y  \\\n0  https://api.spotify.com/v1/audio-analysis/4nMl...         198001   \n1  https://api.spotify.com/v1/audio-analysis/7vRr...         251034   \n2  https://api.spotify.com/v1/audio-analysis/152l...         219080   \n3  https://api.spotify.com/v1/audio-analysis/3eze...         219683   \n4  https://api.spotify.com/v1/audio-analysis/2QbF...         214265   \n\n   time_signature  artist_pop  \\\n0               4          74   \n1               4          70   \n2               4          89   \n3               1          80   \n4               4          88   \n\n                                              genres  track_pop  \n0  dance_pop modern_rock neo_mellow pop pop_rap p...          0  \n1                             electropop pop pop_rap         81  \n2                                        pop pop_r&b         81  \n3  chicago_rap conscious_hip_hop hip_hop pop_rap rap         68  \n4                                       pop pop_rock          0  \n\n[5 rows x 31 columns]",
      "text/html": "<div>\n<style scoped>\n    .dataframe tbody tr th:only-of-type {\n        vertical-align: middle;\n    }\n\n    .dataframe tbody tr th {\n        vertical-align: top;\n    }\n\n    .dataframe thead th {\n        text-align: right;\n    }\n</style>\n<table border=\"1\" class=\"dataframe\">\n  <thead>\n    <tr style=\"text-align: right;\">\n      <th></th>\n      <th>Unnamed: 0.2</th>\n      <th>pos</th>\n      <th>artist_name</th>\n      <th>track_uri</th>\n      <th>artist_uri</th>\n      <th>track_name</th>\n      <th>album_uri</th>\n      <th>duration_ms_x</th>\n      <th>album_name</th>\n      <th>name</th>\n      <th>...</th>\n      <th>type</th>\n      <th>id</th>\n      <th>uri</th>\n      <th>track_href</th>\n      <th>analysis_url</th>\n      <th>duration_ms_y</th>\n      <th>time_signature</th>\n      <th>artist_pop</th>\n      <th>genres</th>\n      <th>track_pop</th>\n    </tr>\n  </thead>\n  <tbody>\n    <tr>\n      <th>0</th>\n      <td>10062</td>\n      <td>9</td>\n      <td>Andy Grammer</td>\n      <td>4nMlau89VAjmV7agkl7OY3</td>\n      <td>spotify:artist:2oX42qP5ineK3hrhBECLmj</td>\n      <td>Fresh Eyes</td>\n      <td>spotify:album:5YpK59N59zCX7Hkc9aBiGv</td>\n      <td>198001</td>\n      <td>Fresh Eyes</td>\n      <td>CHiLl</td>\n      <td>...</td>\n      <td>audio_features</td>\n      <td>4nMlau89VAjmV7agkl7OY3</td>\n      <td>spotify:track:4nMlau89VAjmV7agkl7OY3</td>\n      <td>https://api.spotify.com/v1/tracks/4nMlau89VAjm...</td>\n      <td>https://api.spotify.com/v1/audio-analysis/4nMl...</td>\n      <td>198001</td>\n      <td>4</td>\n      <td>74</td>\n      <td>dance_pop modern_rock neo_mellow pop pop_rap p...</td>\n      <td>0</td>\n    </tr>\n    <tr>\n      <th>1</th>\n      <td>11756</td>\n      <td>8</td>\n      <td>gnash</td>\n      <td>7vRriwrloYVaoAe3a9wJHe</td>\n      <td>spotify:artist:3iri9nBFs9e4wN7PLIetAw</td>\n      <td>i hate u, i love u (feat. olivia o'brien)</td>\n      <td>spotify:album:3L0H4RjVXpEkwfDgi3XOdf</td>\n      <td>251033</td>\n      <td>us</td>\n      <td>CHiLl</td>\n      <td>...</td>\n      <td>audio_features</td>\n      <td>7vRriwrloYVaoAe3a9wJHe</td>\n      <td>spotify:track:7vRriwrloYVaoAe3a9wJHe</td>\n      <td>https://api.spotify.com/v1/tracks/7vRriwrloYVa...</td>\n      <td>https://api.spotify.com/v1/audio-analysis/7vRr...</td>\n      <td>251034</td>\n      <td>4</td>\n      <td>70</td>\n      <td>electropop pop pop_rap</td>\n      <td>81</td>\n    </tr>\n    <tr>\n      <th>2</th>\n      <td>16776</td>\n      <td>20</td>\n      <td>Khalid</td>\n      <td>152lZdxL1OR0ZMW6KquMif</td>\n      <td>spotify:artist:6LuN9FCkKOj5PcnpouEgny</td>\n      <td>Location</td>\n      <td>spotify:album:6kf46HbnYCZzP6rjvQHYzg</td>\n      <td>219080</td>\n      <td>American Teen</td>\n      <td>CHiLl</td>\n      <td>...</td>\n      <td>audio_features</td>\n      <td>152lZdxL1OR0ZMW6KquMif</td>\n      <td>spotify:track:152lZdxL1OR0ZMW6KquMif</td>\n      <td>https://api.spotify.com/v1/tracks/152lZdxL1OR0...</td>\n      <td>https://api.spotify.com/v1/audio-analysis/152l...</td>\n      <td>219080</td>\n      <td>4</td>\n      <td>89</td>\n      <td>pop pop_r&amp;b</td>\n      <td>81</td>\n    </tr>\n    <tr>\n      <th>3</th>\n      <td>2510</td>\n      <td>19</td>\n      <td>Chance The Rapper</td>\n      <td>3eze1OsZ1rqeXkKStNfTmi</td>\n      <td>spotify:artist:1anyVhU62p31KFi8MEzkbf</td>\n      <td>Juke Jam (feat. Justin Bieber &amp; Towkio)</td>\n      <td>spotify:album:71QyofYesSsRMwFOTafnhB</td>\n      <td>219683</td>\n      <td>Coloring Book</td>\n      <td>CHiLl</td>\n      <td>...</td>\n      <td>audio_features</td>\n      <td>3eze1OsZ1rqeXkKStNfTmi</td>\n      <td>spotify:track:3eze1OsZ1rqeXkKStNfTmi</td>\n      <td>https://api.spotify.com/v1/tracks/3eze1OsZ1rqe...</td>\n      <td>https://api.spotify.com/v1/audio-analysis/3eze...</td>\n      <td>219683</td>\n      <td>1</td>\n      <td>80</td>\n      <td>chicago_rap conscious_hip_hop hip_hop pop_rap rap</td>\n      <td>68</td>\n    </tr>\n    <tr>\n      <th>4</th>\n      <td>10054</td>\n      <td>2</td>\n      <td>Maroon 5</td>\n      <td>2QbFClFyhMMtiurUjuQlAe</td>\n      <td>spotify:artist:04gDigrS5kc9YWfZHwBETP</td>\n      <td>Don't Wanna Know (feat. Kendrick Lamar)</td>\n      <td>spotify:album:1Jmq5HEJeA9kNi2SgQul4U</td>\n      <td>214265</td>\n      <td>Red Pill Blues</td>\n      <td>CHiLl</td>\n      <td>...</td>\n      <td>audio_features</td>\n      <td>2QbFClFyhMMtiurUjuQlAe</td>\n      <td>spotify:track:2QbFClFyhMMtiurUjuQlAe</td>\n      <td>https://api.spotify.com/v1/tracks/2QbFClFyhMMt...</td>\n      <td>https://api.spotify.com/v1/audio-analysis/2QbF...</td>\n      <td>214265</td>\n      <td>4</td>\n      <td>88</td>\n      <td>pop pop_rock</td>\n      <td>0</td>\n    </tr>\n  </tbody>\n</table>\n<p>5 rows × 31 columns</p>\n</div>"
     },
     "execution_count": 33,
     "metadata": {},
     "output_type": "execute_result"
    }
   ],
   "source": [
    "# import processed data\n",
    "playlist_df = pd.read_csv(\"data/sorted_processed_data_train.csv\")\n",
    "print(playlist_df.columns)\n",
    "playlist_df.drop(columns=[\"Unnamed: 0\", 'Unnamed: 0.1'], inplace = True)  # remove unneccessary columns\n",
    "playlist_df.head()"
   ]
  },
  {
   "cell_type": "markdown",
   "source": [
    "Each column adds information to a track:\n",
    "\n",
    "- Unnamed:0: This is the index over all tracks in the database. The name is this weird, because it was empty in the .csv file and the DataFrame library named it that way.\n",
    "- pos: the index of the track in the playlist it belongs to\n",
    "- artist_name: the name of the artist of the track\n",
    "- track_uri: unique identifier of the track ([more](https://developer.spotify.com/documentation/web-api/concepts/spotify-uris-ids#:~:text=the%20following%20parameters%3A-,Spotify%20URI,-The%20resource%20identifier))\n",
    "- artist_uri: unique identifier of the artist ([more](https://developer.spotify.com/documentation/web-api/concepts/spotify-uris-ids#:~:text=the%20following%20parameters%3A-,Spotify%20URI,-The%20resource%20identifier))\n",
    "- track_name: name of the track\n",
    "- album_uri: unique identifier of the album ([more](https://developer.spotify.com/documentation/web-api/concepts/spotify-uris-ids#:~:text=the%20following%20parameters%3A-,Spotify%20URI,-The%20resource%20identifier))\n",
    "- duration_ms: the duration of the track in milliseconds\n",
    "- album_name: the name of the album the track was published with\n",
    "- name: the name of the playlist the track belongs to"
   ],
   "metadata": {
    "collapsed": false
   }
  },
  {
   "cell_type": "markdown",
   "metadata": {},
   "source": [
    "### Preprocessing\n",
    "\n",
    "The following cells conducts further preprocessing for the imported data to cater the data specifically for the content-based filtering.\n",
    "\n",
    "Here is the general pipeline:\n",
    "1. Useful data Selection\n",
    "2. List concatenation"
   ]
  },
  {
   "cell_type": "markdown",
   "metadata": {},
   "source": [
    "#### Useful Data Selection\n",
    "\n",
    "Due to the nature of playlist, there will be duplicates in songs across multiple playlists. Therefore, I combined the song and the artist and used the `drop_duplicates()` function in `pandas` to remove duplicate songs when building the base dataframe with all unique songs."
   ]
  },
  {
   "cell_type": "code",
   "execution_count": 34,
   "metadata": {
    "ExecuteTime": {
     "end_time": "2023-12-02T04:56:12.591236400Z",
     "start_time": "2023-12-02T04:56:12.576748400Z"
    }
   },
   "outputs": [
    {
     "data": {
      "text/plain": "               artist_name                                 track_name    name\n0             Andy Grammer                                 Fresh Eyes   CHiLl\n1                    gnash  i hate u, i love u (feat. olivia o'brien)   CHiLl\n2                   Khalid                                   Location   CHiLl\n3        Chance The Rapper    Juke Jam (feat. Justin Bieber & Towkio)   CHiLl\n4                 Maroon 5    Don't Wanna Know (feat. Kendrick Lamar)   CHiLl\n...                    ...                                        ...     ...\n64569         Rae Sremmurd                              Black Beatles  vibin'\n64570             Big Sean                          Dance (A$$) Remix  vibin'\n64571       Kendrick Lamar                               m.A.A.d city  vibin'\n64572        Travis Porter                                 Ayy Ladies  vibin'\n64573  A Flock Of Seagulls                        I Ran (So Far Away)  vibin'\n\n[64574 rows x 3 columns]",
      "text/html": "<div>\n<style scoped>\n    .dataframe tbody tr th:only-of-type {\n        vertical-align: middle;\n    }\n\n    .dataframe tbody tr th {\n        vertical-align: top;\n    }\n\n    .dataframe thead th {\n        text-align: right;\n    }\n</style>\n<table border=\"1\" class=\"dataframe\">\n  <thead>\n    <tr style=\"text-align: right;\">\n      <th></th>\n      <th>artist_name</th>\n      <th>track_name</th>\n      <th>name</th>\n    </tr>\n  </thead>\n  <tbody>\n    <tr>\n      <th>0</th>\n      <td>Andy Grammer</td>\n      <td>Fresh Eyes</td>\n      <td>CHiLl</td>\n    </tr>\n    <tr>\n      <th>1</th>\n      <td>gnash</td>\n      <td>i hate u, i love u (feat. olivia o'brien)</td>\n      <td>CHiLl</td>\n    </tr>\n    <tr>\n      <th>2</th>\n      <td>Khalid</td>\n      <td>Location</td>\n      <td>CHiLl</td>\n    </tr>\n    <tr>\n      <th>3</th>\n      <td>Chance The Rapper</td>\n      <td>Juke Jam (feat. Justin Bieber &amp; Towkio)</td>\n      <td>CHiLl</td>\n    </tr>\n    <tr>\n      <th>4</th>\n      <td>Maroon 5</td>\n      <td>Don't Wanna Know (feat. Kendrick Lamar)</td>\n      <td>CHiLl</td>\n    </tr>\n    <tr>\n      <th>...</th>\n      <td>...</td>\n      <td>...</td>\n      <td>...</td>\n    </tr>\n    <tr>\n      <th>64569</th>\n      <td>Rae Sremmurd</td>\n      <td>Black Beatles</td>\n      <td>vibin'</td>\n    </tr>\n    <tr>\n      <th>64570</th>\n      <td>Big Sean</td>\n      <td>Dance (A$$) Remix</td>\n      <td>vibin'</td>\n    </tr>\n    <tr>\n      <th>64571</th>\n      <td>Kendrick Lamar</td>\n      <td>m.A.A.d city</td>\n      <td>vibin'</td>\n    </tr>\n    <tr>\n      <th>64572</th>\n      <td>Travis Porter</td>\n      <td>Ayy Ladies</td>\n      <td>vibin'</td>\n    </tr>\n    <tr>\n      <th>64573</th>\n      <td>A Flock Of Seagulls</td>\n      <td>I Ran (So Far Away)</td>\n      <td>vibin'</td>\n    </tr>\n  </tbody>\n</table>\n<p>64574 rows × 3 columns</p>\n</div>"
     },
     "execution_count": 34,
     "metadata": {},
     "output_type": "execute_result"
    }
   ],
   "source": [
    "# Show that there are duplicates of songs accross playlists\n",
    "playlist_df[['artist_name','track_name','name']]"
   ]
  },
  {
   "cell_type": "markdown",
   "metadata": {},
   "source": [
    "Now, I drop the duplicates with `pandas` by combining the artist name and track name. This is to prevent dropping songs from different artists but with the same names."
   ]
  },
  {
   "cell_type": "code",
   "execution_count": 35,
   "metadata": {
    "ExecuteTime": {
     "end_time": "2023-12-02T04:56:13.100102700Z",
     "start_time": "2023-12-02T04:56:12.591236400Z"
    }
   },
   "outputs": [
    {
     "name": "stdout",
     "output_type": "stream",
     "text": [
      "Are all songs unique:  True\n"
     ]
    }
   ],
   "source": [
    "# Drop song duplicates\n",
    "def drop_duplicates(df):\n",
    "    '''\n",
    "    Drop duplicate songs\n",
    "    '''\n",
    "    df['artists_song'] = df.apply(lambda row: row['artist_name']+row['track_name'],axis = 1)\n",
    "    return df.drop_duplicates('artists_song')\n",
    "\n",
    "song_df = drop_duplicates(playlist_df)\n",
    "print(\"Are all songs unique: \", len(pd.unique(song_df.artists_song)) == len(song_df))"
   ]
  },
  {
   "cell_type": "markdown",
   "metadata": {},
   "source": [
    "Finally, I select the features I would use later on. The following is a short list of them in categories:\n",
    "1. Metadata\n",
    "    - id\n",
    "    - genres\n",
    "    - artist_pop (popularity of artist: read more about it [here](https://developer.spotify.com/documentation/web-api/reference/get-an-artist#:~:text=of%20the%20artist.-,popularity,-integer))\n",
    "    - track_pop (popularity of track: read more about it [here](https://developer.spotify.com/documentation/web-api/reference/get-track#:~:text=of%20the%20track.-,popularity,-integer))\n",
    "2. Audio (read more about the audio features [here](https://developer.spotify.com/documentation/web-api/reference/get-audio-features))\n",
    "    - **Mood**: Danceability, Valence, Energy, Tempo\n",
    "    - **Properties**: Loudness, Speechiness, Instrumentalness\n",
    "    - **Context**: Liveness, Acousticness\n",
    "    - **metadata**: key, mode\n",
    "3. Text\n",
    "    - track_name"
   ]
  },
  {
   "cell_type": "code",
   "execution_count": 36,
   "metadata": {
    "ExecuteTime": {
     "end_time": "2023-12-02T04:56:13.125229100Z",
     "start_time": "2023-12-02T04:56:13.100102700Z"
    }
   },
   "outputs": [
    {
     "data": {
      "text/plain": "         artist_name                      id  \\\n0       Andy Grammer  4nMlau89VAjmV7agkl7OY3   \n1              gnash  7vRriwrloYVaoAe3a9wJHe   \n2             Khalid  152lZdxL1OR0ZMW6KquMif   \n3  Chance The Rapper  3eze1OsZ1rqeXkKStNfTmi   \n4           Maroon 5  2QbFClFyhMMtiurUjuQlAe   \n\n                                  track_name  danceability  energy  key  \\\n0                                 Fresh Eyes         0.822   0.544    0   \n1  i hate u, i love u (feat. olivia o'brien)         0.492   0.275    6   \n2                                   Location         0.736   0.449    1   \n3    Juke Jam (feat. Justin Bieber & Towkio)         0.505   0.397    5   \n4    Don't Wanna Know (feat. Kendrick Lamar)         0.775   0.617    7   \n\n   loudness  mode  speechiness  acousticness  instrumentalness  liveness  \\\n0    -6.797     1       0.0332         0.562          0.000024    0.1440   \n1   -13.400     0       0.3000         0.687          0.000000    0.1010   \n2   -11.462     0       0.4250         0.330          0.000162    0.0898   \n3    -9.349     1       0.3240         0.716          0.000000    0.0853   \n4    -6.166     1       0.0701         0.341          0.000000    0.0985   \n\n   valence    tempo  artist_pop  \\\n0    0.861  122.047          74   \n1    0.180   92.600          70   \n2    0.326   80.126          89   \n3    0.558   95.063          80   \n4    0.485  100.048          88   \n\n                                              genres  track_pop  \n0  dance_pop modern_rock neo_mellow pop pop_rap p...          0  \n1                             electropop pop pop_rap         81  \n2                                        pop pop_r&b         81  \n3  chicago_rap conscious_hip_hop hip_hop pop_rap rap         68  \n4                                       pop pop_rock          0  ",
      "text/html": "<div>\n<style scoped>\n    .dataframe tbody tr th:only-of-type {\n        vertical-align: middle;\n    }\n\n    .dataframe tbody tr th {\n        vertical-align: top;\n    }\n\n    .dataframe thead th {\n        text-align: right;\n    }\n</style>\n<table border=\"1\" class=\"dataframe\">\n  <thead>\n    <tr style=\"text-align: right;\">\n      <th></th>\n      <th>artist_name</th>\n      <th>id</th>\n      <th>track_name</th>\n      <th>danceability</th>\n      <th>energy</th>\n      <th>key</th>\n      <th>loudness</th>\n      <th>mode</th>\n      <th>speechiness</th>\n      <th>acousticness</th>\n      <th>instrumentalness</th>\n      <th>liveness</th>\n      <th>valence</th>\n      <th>tempo</th>\n      <th>artist_pop</th>\n      <th>genres</th>\n      <th>track_pop</th>\n    </tr>\n  </thead>\n  <tbody>\n    <tr>\n      <th>0</th>\n      <td>Andy Grammer</td>\n      <td>4nMlau89VAjmV7agkl7OY3</td>\n      <td>Fresh Eyes</td>\n      <td>0.822</td>\n      <td>0.544</td>\n      <td>0</td>\n      <td>-6.797</td>\n      <td>1</td>\n      <td>0.0332</td>\n      <td>0.562</td>\n      <td>0.000024</td>\n      <td>0.1440</td>\n      <td>0.861</td>\n      <td>122.047</td>\n      <td>74</td>\n      <td>dance_pop modern_rock neo_mellow pop pop_rap p...</td>\n      <td>0</td>\n    </tr>\n    <tr>\n      <th>1</th>\n      <td>gnash</td>\n      <td>7vRriwrloYVaoAe3a9wJHe</td>\n      <td>i hate u, i love u (feat. olivia o'brien)</td>\n      <td>0.492</td>\n      <td>0.275</td>\n      <td>6</td>\n      <td>-13.400</td>\n      <td>0</td>\n      <td>0.3000</td>\n      <td>0.687</td>\n      <td>0.000000</td>\n      <td>0.1010</td>\n      <td>0.180</td>\n      <td>92.600</td>\n      <td>70</td>\n      <td>electropop pop pop_rap</td>\n      <td>81</td>\n    </tr>\n    <tr>\n      <th>2</th>\n      <td>Khalid</td>\n      <td>152lZdxL1OR0ZMW6KquMif</td>\n      <td>Location</td>\n      <td>0.736</td>\n      <td>0.449</td>\n      <td>1</td>\n      <td>-11.462</td>\n      <td>0</td>\n      <td>0.4250</td>\n      <td>0.330</td>\n      <td>0.000162</td>\n      <td>0.0898</td>\n      <td>0.326</td>\n      <td>80.126</td>\n      <td>89</td>\n      <td>pop pop_r&amp;b</td>\n      <td>81</td>\n    </tr>\n    <tr>\n      <th>3</th>\n      <td>Chance The Rapper</td>\n      <td>3eze1OsZ1rqeXkKStNfTmi</td>\n      <td>Juke Jam (feat. Justin Bieber &amp; Towkio)</td>\n      <td>0.505</td>\n      <td>0.397</td>\n      <td>5</td>\n      <td>-9.349</td>\n      <td>1</td>\n      <td>0.3240</td>\n      <td>0.716</td>\n      <td>0.000000</td>\n      <td>0.0853</td>\n      <td>0.558</td>\n      <td>95.063</td>\n      <td>80</td>\n      <td>chicago_rap conscious_hip_hop hip_hop pop_rap rap</td>\n      <td>68</td>\n    </tr>\n    <tr>\n      <th>4</th>\n      <td>Maroon 5</td>\n      <td>2QbFClFyhMMtiurUjuQlAe</td>\n      <td>Don't Wanna Know (feat. Kendrick Lamar)</td>\n      <td>0.775</td>\n      <td>0.617</td>\n      <td>7</td>\n      <td>-6.166</td>\n      <td>1</td>\n      <td>0.0701</td>\n      <td>0.341</td>\n      <td>0.000000</td>\n      <td>0.0985</td>\n      <td>0.485</td>\n      <td>100.048</td>\n      <td>88</td>\n      <td>pop pop_rock</td>\n      <td>0</td>\n    </tr>\n  </tbody>\n</table>\n</div>"
     },
     "execution_count": 36,
     "metadata": {},
     "output_type": "execute_result"
    }
   ],
   "source": [
    "# select useful columns\n",
    "def select_cols(df):\n",
    "       '''\n",
    "       Select useful columns\n",
    "       '''\n",
    "       return df[['artist_name','id','track_name','danceability', 'energy', 'key', 'loudness', 'mode',\n",
    "       'speechiness', 'acousticness', 'instrumentalness', 'liveness', 'valence', 'tempo', \"artist_pop\", \"genres\", \"track_pop\"]]\n",
    "song_df = select_cols(song_df)\n",
    "song_df.head()"
   ]
  },
  {
   "cell_type": "markdown",
   "metadata": {},
   "source": [
    "#### List Concatenation\n",
    "\n",
    "After selecting the useful data, due to the import format of a dataframe, we need to convert the `genres` columns back into a list. This is done by using the `split()` function:"
   ]
  },
  {
   "cell_type": "code",
   "execution_count": 37,
   "metadata": {
    "ExecuteTime": {
     "end_time": "2023-12-02T04:56:13.179027300Z",
     "start_time": "2023-12-02T04:56:13.125229100Z"
    }
   },
   "outputs": [
    {
     "data": {
      "text/plain": "0    [dance_pop, modern_rock, neo_mellow, pop, pop_...\n1                           [electropop, pop, pop_rap]\n2                                       [pop, pop_r&b]\n3    [chicago_rap, conscious_hip_hop, hip_hop, pop_...\n4                                      [pop, pop_rock]\nName: genres_list, dtype: object"
     },
     "execution_count": 37,
     "metadata": {},
     "output_type": "execute_result"
    }
   ],
   "source": [
    "def genre_preprocess(df):\n",
    "    '''\n",
    "    Preprocess the genre data\n",
    "    '''\n",
    "    df['genres_list'] = df['genres'].apply(lambda x: x.split(\" \"))\n",
    "    return df\n",
    "song_df = genre_preprocess(song_df)\n",
    "song_df['genres_list'].head()"
   ]
  },
  {
   "cell_type": "markdown",
   "metadata": {},
   "source": [
    "Lastly, I created a pipeline for preprocessing any new playlist as below:"
   ]
  },
  {
   "cell_type": "code",
   "execution_count": 38,
   "metadata": {
    "ExecuteTime": {
     "end_time": "2023-12-02T04:56:13.179027300Z",
     "start_time": "2023-12-02T04:56:13.148876900Z"
    }
   },
   "outputs": [],
   "source": [
    "def playlist_preprocess(df):\n",
    "    '''\n",
    "    Preprocess imported playlist\n",
    "    '''\n",
    "    df = drop_duplicates(df)\n",
    "    df = select_cols(df)\n",
    "    df = genre_preprocess(df)\n",
    "\n",
    "    return df"
   ]
  },
  {
   "cell_type": "markdown",
   "metadata": {},
   "source": [
    "### Feature Generation\n",
    "Now that the data is usable, we can now feature-engineer the data for the purpose of the recommendation system. In this project, the following process is conducted into a pipeline for feature generation.\n",
    "\n",
    "1. Sentiment Analysis\n",
    "2. One-hot Encoding\n",
    "3. TF-IDF\n",
    "4. Normalization"
   ]
  },
  {
   "cell_type": "markdown",
   "metadata": {},
   "source": [
    "#### Sentiment Analysis\n",
    "\n",
    "In our data, we will perform a simply sentiment analysis using subjectivity and polarity form `TextBlob` package.\n",
    "- **Subjectivity** (0,1): The amount of personal opinion and factual information contained in the text.\n",
    "- **Polarity** (-1,1): The degree of strong or clearly defined sentiment accounting for negation.\n",
    "\n",
    "We will then use one-hot encoding to list the sentiment of the song titles as one of the input."
   ]
  },
  {
   "cell_type": "code",
   "execution_count": 39,
   "metadata": {
    "ExecuteTime": {
     "end_time": "2023-12-02T04:56:13.179027300Z",
     "start_time": "2023-12-02T04:56:13.156547200Z"
    }
   },
   "outputs": [],
   "source": [
    "def getSubjectivity(text):\n",
    "  '''\n",
    "  Getting the Subjectivity using TextBlob\n",
    "  '''\n",
    "  return TextBlob(text).sentiment.subjectivity\n",
    "\n",
    "def getPolarity(text):\n",
    "  '''\n",
    "  Getting the Polarity using TextBlob\n",
    "  '''\n",
    "  return TextBlob(text).sentiment.polarity\n",
    "\n",
    "def getAnalysis(score, task=\"polarity\"):\n",
    "  '''\n",
    "  Categorizing the Polarity & Subjectivity score\n",
    "  '''\n",
    "  if task == \"subjectivity\":\n",
    "    if score < 1/3:\n",
    "      return \"low\"\n",
    "    elif score > 1/3:\n",
    "      return \"high\"\n",
    "    else:\n",
    "      return \"medium\"\n",
    "  else:\n",
    "    if score < 0:\n",
    "      return 'Negative'\n",
    "    elif score == 0:\n",
    "      return 'Neutral'\n",
    "    else:\n",
    "      return 'Positive'\n",
    "\n",
    "def sentiment_analysis(df, text_col):\n",
    "  '''\n",
    "  Perform sentiment analysis on text\n",
    "  ---\n",
    "  Input:\n",
    "  df (pandas dataframe): Dataframe of interest\n",
    "  text_col (str): column of interest\n",
    "  '''\n",
    "  df['subjectivity'] = df[text_col].apply(getSubjectivity).apply(lambda x: getAnalysis(x,\"subjectivity\"))\n",
    "  df['polarity'] = df[text_col].apply(getPolarity).apply(getAnalysis)\n",
    "  return df"
   ]
  },
  {
   "cell_type": "code",
   "execution_count": 40,
   "metadata": {
    "ExecuteTime": {
     "end_time": "2023-12-02T04:56:18.843274700Z",
     "start_time": "2023-12-02T04:56:13.365075100Z"
    }
   },
   "outputs": [
    {
     "data": {
      "text/plain": "         artist_name                      id  \\\n0       Andy Grammer  4nMlau89VAjmV7agkl7OY3   \n1              gnash  7vRriwrloYVaoAe3a9wJHe   \n2             Khalid  152lZdxL1OR0ZMW6KquMif   \n3  Chance The Rapper  3eze1OsZ1rqeXkKStNfTmi   \n4           Maroon 5  2QbFClFyhMMtiurUjuQlAe   \n\n                                  track_name  danceability  energy  key  \\\n0                                 Fresh Eyes         0.822   0.544    0   \n1  i hate u, i love u (feat. olivia o'brien)         0.492   0.275    6   \n2                                   Location         0.736   0.449    1   \n3    Juke Jam (feat. Justin Bieber & Towkio)         0.505   0.397    5   \n4    Don't Wanna Know (feat. Kendrick Lamar)         0.775   0.617    7   \n\n   loudness  mode  speechiness  acousticness  instrumentalness  liveness  \\\n0    -6.797     1       0.0332         0.562          0.000024    0.1440   \n1   -13.400     0       0.3000         0.687          0.000000    0.1010   \n2   -11.462     0       0.4250         0.330          0.000162    0.0898   \n3    -9.349     1       0.3240         0.716          0.000000    0.0853   \n4    -6.166     1       0.0701         0.341          0.000000    0.0985   \n\n   valence    tempo  artist_pop  \\\n0    0.861  122.047          74   \n1    0.180   92.600          70   \n2    0.326   80.126          89   \n3    0.558   95.063          80   \n4    0.485  100.048          88   \n\n                                              genres  track_pop  \\\n0  dance_pop modern_rock neo_mellow pop pop_rap p...          0   \n1                             electropop pop pop_rap         81   \n2                                        pop pop_r&b         81   \n3  chicago_rap conscious_hip_hop hip_hop pop_rap rap         68   \n4                                       pop pop_rock          0   \n\n                                         genres_list subjectivity  polarity  \n0  [dance_pop, modern_rock, neo_mellow, pop, pop_...         high  Positive  \n1                         [electropop, pop, pop_rap]         high  Negative  \n2                                     [pop, pop_r&b]          low   Neutral  \n3  [chicago_rap, conscious_hip_hop, hip_hop, pop_...          low   Neutral  \n4                                    [pop, pop_rock]          low   Neutral  ",
      "text/html": "<div>\n<style scoped>\n    .dataframe tbody tr th:only-of-type {\n        vertical-align: middle;\n    }\n\n    .dataframe tbody tr th {\n        vertical-align: top;\n    }\n\n    .dataframe thead th {\n        text-align: right;\n    }\n</style>\n<table border=\"1\" class=\"dataframe\">\n  <thead>\n    <tr style=\"text-align: right;\">\n      <th></th>\n      <th>artist_name</th>\n      <th>id</th>\n      <th>track_name</th>\n      <th>danceability</th>\n      <th>energy</th>\n      <th>key</th>\n      <th>loudness</th>\n      <th>mode</th>\n      <th>speechiness</th>\n      <th>acousticness</th>\n      <th>instrumentalness</th>\n      <th>liveness</th>\n      <th>valence</th>\n      <th>tempo</th>\n      <th>artist_pop</th>\n      <th>genres</th>\n      <th>track_pop</th>\n      <th>genres_list</th>\n      <th>subjectivity</th>\n      <th>polarity</th>\n    </tr>\n  </thead>\n  <tbody>\n    <tr>\n      <th>0</th>\n      <td>Andy Grammer</td>\n      <td>4nMlau89VAjmV7agkl7OY3</td>\n      <td>Fresh Eyes</td>\n      <td>0.822</td>\n      <td>0.544</td>\n      <td>0</td>\n      <td>-6.797</td>\n      <td>1</td>\n      <td>0.0332</td>\n      <td>0.562</td>\n      <td>0.000024</td>\n      <td>0.1440</td>\n      <td>0.861</td>\n      <td>122.047</td>\n      <td>74</td>\n      <td>dance_pop modern_rock neo_mellow pop pop_rap p...</td>\n      <td>0</td>\n      <td>[dance_pop, modern_rock, neo_mellow, pop, pop_...</td>\n      <td>high</td>\n      <td>Positive</td>\n    </tr>\n    <tr>\n      <th>1</th>\n      <td>gnash</td>\n      <td>7vRriwrloYVaoAe3a9wJHe</td>\n      <td>i hate u, i love u (feat. olivia o'brien)</td>\n      <td>0.492</td>\n      <td>0.275</td>\n      <td>6</td>\n      <td>-13.400</td>\n      <td>0</td>\n      <td>0.3000</td>\n      <td>0.687</td>\n      <td>0.000000</td>\n      <td>0.1010</td>\n      <td>0.180</td>\n      <td>92.600</td>\n      <td>70</td>\n      <td>electropop pop pop_rap</td>\n      <td>81</td>\n      <td>[electropop, pop, pop_rap]</td>\n      <td>high</td>\n      <td>Negative</td>\n    </tr>\n    <tr>\n      <th>2</th>\n      <td>Khalid</td>\n      <td>152lZdxL1OR0ZMW6KquMif</td>\n      <td>Location</td>\n      <td>0.736</td>\n      <td>0.449</td>\n      <td>1</td>\n      <td>-11.462</td>\n      <td>0</td>\n      <td>0.4250</td>\n      <td>0.330</td>\n      <td>0.000162</td>\n      <td>0.0898</td>\n      <td>0.326</td>\n      <td>80.126</td>\n      <td>89</td>\n      <td>pop pop_r&amp;b</td>\n      <td>81</td>\n      <td>[pop, pop_r&amp;b]</td>\n      <td>low</td>\n      <td>Neutral</td>\n    </tr>\n    <tr>\n      <th>3</th>\n      <td>Chance The Rapper</td>\n      <td>3eze1OsZ1rqeXkKStNfTmi</td>\n      <td>Juke Jam (feat. Justin Bieber &amp; Towkio)</td>\n      <td>0.505</td>\n      <td>0.397</td>\n      <td>5</td>\n      <td>-9.349</td>\n      <td>1</td>\n      <td>0.3240</td>\n      <td>0.716</td>\n      <td>0.000000</td>\n      <td>0.0853</td>\n      <td>0.558</td>\n      <td>95.063</td>\n      <td>80</td>\n      <td>chicago_rap conscious_hip_hop hip_hop pop_rap rap</td>\n      <td>68</td>\n      <td>[chicago_rap, conscious_hip_hop, hip_hop, pop_...</td>\n      <td>low</td>\n      <td>Neutral</td>\n    </tr>\n    <tr>\n      <th>4</th>\n      <td>Maroon 5</td>\n      <td>2QbFClFyhMMtiurUjuQlAe</td>\n      <td>Don't Wanna Know (feat. Kendrick Lamar)</td>\n      <td>0.775</td>\n      <td>0.617</td>\n      <td>7</td>\n      <td>-6.166</td>\n      <td>1</td>\n      <td>0.0701</td>\n      <td>0.341</td>\n      <td>0.000000</td>\n      <td>0.0985</td>\n      <td>0.485</td>\n      <td>100.048</td>\n      <td>88</td>\n      <td>pop pop_rock</td>\n      <td>0</td>\n      <td>[pop, pop_rock]</td>\n      <td>low</td>\n      <td>Neutral</td>\n    </tr>\n  </tbody>\n</table>\n</div>"
     },
     "execution_count": 40,
     "metadata": {},
     "output_type": "execute_result"
    }
   ],
   "source": [
    "# Show result\n",
    "sentiment = sentiment_analysis(song_df, \"track_name\")\n",
    "sentiment.head()"
   ]
  },
  {
   "cell_type": "markdown",
   "metadata": {},
   "source": [
    "#### One-hot encoding\n",
    "\n",
    "One-hot encoding is a method to transform categorical variables into a machine-understandable langauge. This is done by converting each category into a column so that each category can be represented as either True or False.\n"
   ]
  },
  {
   "cell_type": "markdown",
   "metadata": {},
   "source": [
    "![ohe_img](https://cdn-images-1.medium.com/max/1600/0*KVGWy9c3eo2RiAe3.png) "
   ]
  },
  {
   "cell_type": "code",
   "execution_count": 41,
   "metadata": {
    "ExecuteTime": {
     "end_time": "2023-12-02T04:56:18.851584200Z",
     "start_time": "2023-12-02T04:56:18.843274700Z"
    }
   },
   "outputs": [],
   "source": [
    "def ohe_prep(df, column, new_name): \n",
    "    ''' \n",
    "    Create One Hot Encoded features of a specific column\n",
    "    ---\n",
    "    Input: \n",
    "    df (pandas dataframe): Spotify Dataframe\n",
    "    column (str): Column to be processed\n",
    "    new_name (str): new column name to be used\n",
    "        \n",
    "    Output: \n",
    "    tf_df: One-hot encoded features \n",
    "    '''\n",
    "    \n",
    "    tf_df = pd.get_dummies(df[column])\n",
    "    feature_names = tf_df.columns\n",
    "    tf_df.columns = [new_name + \"|\" + str(i) for i in feature_names]\n",
    "    tf_df.reset_index(drop = True, inplace = True)    \n",
    "    return tf_df"
   ]
  },
  {
   "cell_type": "code",
   "execution_count": 42,
   "metadata": {
    "ExecuteTime": {
     "end_time": "2023-12-02T04:56:18.873985Z",
     "start_time": "2023-12-02T04:56:18.851584200Z"
    }
   },
   "outputs": [
    {
     "data": {
      "text/plain": "subject|high       True\nsubject|low       False\nsubject|medium    False\nName: 0, dtype: bool"
     },
     "execution_count": 42,
     "metadata": {},
     "output_type": "execute_result"
    }
   ],
   "source": [
    "# One-hot encoding for the subjectivity \n",
    "subject_ohe = ohe_prep(sentiment, 'subjectivity','subject')\n",
    "subject_ohe.iloc[0]"
   ]
  },
  {
   "cell_type": "markdown",
   "metadata": {},
   "source": [
    "#### TF-IDF\n",
    "TF-IDF, also known as Term Frequency-Inverse Document Frequency, is a tool to quantify words in a set of documents. The goal of TF-IDF is to show the importance of a word in the documents and the corpus. The general formula for calculating TF-IDF is:\n",
    "$$ \\text{Term Frequency}\\times\\text{Inverse Document Frequency}$$\n",
    "- **Term Frequency (TF)**: The number of times a term appears in each document divided by the total word count in the document.\n",
    "- **Inverse Document Frequency (IDF)**: The log value of the document frequency. Document frequency is the total number of documents where one term is present.\n",
    "\n",
    "The motivation is to find words that are not only important in each document but also accounting for the entire corpus. The log value was taken to decrease the impact of a large N, which would lead a very large IDF compared to TF. TF is focused on importance of a word in a document, while IDF is focused on the importance of a word across documents.\n",
    "\n",
    "In this project, the documents are analogous to songs. Therefore, we are calculating the most prominent genre in each song and their prevelent across songs to determine the weight of the genre. This is much better than simply one-hot encoding since there is no weights to determine how important and widespread each genre is, leading to overweighting on uncommon genres."
   ]
  },
  {
   "cell_type": "markdown",
   "metadata": {},
   "source": [
    "![tfidf_img](https://miro.medium.com/max/1400/1*V9ac4hLVyms79jl65Ym_Bw.jpeg)"
   ]
  },
  {
   "cell_type": "code",
   "execution_count": 43,
   "metadata": {
    "ExecuteTime": {
     "end_time": "2023-12-02T04:56:19.382772900Z",
     "start_time": "2023-12-02T04:56:18.865098600Z"
    }
   },
   "outputs": [
    {
     "data": {
      "text/plain": "genre|21st_century_classical    0.0\ngenre|432hz                     0.0\ngenre|_hip_hop                  0.0\ngenre|_roll                     0.0\ngenre|a_cappella                0.0\n                               ... \ngenre|york_indie                0.0\ngenre|zambian_hip_hop           0.0\ngenre|zhongguo_feng             0.0\ngenre|zolo                      0.0\ngenre|zouk                      0.0\nName: 0, Length: 2134, dtype: float64"
     },
     "execution_count": 43,
     "metadata": {},
     "output_type": "execute_result"
    }
   ],
   "source": [
    "# TF-IDF implementation\n",
    "tfidf = TfidfVectorizer()\n",
    "tfidf_matrix =  tfidf.fit_transform(song_df['genres_list'].apply(lambda x: \" \".join(x)))\n",
    "genre_df = pd.DataFrame(tfidf_matrix.toarray())\n",
    "genre_df.columns = ['genre' + \"|\" + i for i in tfidf.get_feature_names_out()]\n",
    "genre_df.drop(columns='genre|unknown')\n",
    "genre_df.reset_index(drop = True, inplace=True)\n",
    "genre_df.iloc[0]"
   ]
  },
  {
   "cell_type": "markdown",
   "metadata": {},
   "source": [
    "#### Normalization\n",
    "Lastly, we need to normalize some variables. As shown below, the popularity variables are not normalized to 0 to 1, which would be problematic in the consine similarity function later on. In addition, the audio features are also not normalized. \n",
    "\n",
    "To solve this problem, we used the `MinMaxScaler()` function from `scikit learn` which automatically scales all values from the min and max into a range of 0 to 1."
   ]
  },
  {
   "cell_type": "code",
   "execution_count": 44,
   "metadata": {
    "ExecuteTime": {
     "end_time": "2023-12-02T04:56:19.391000100Z",
     "start_time": "2023-12-02T04:56:19.382772900Z"
    }
   },
   "outputs": [
    {
     "name": "stdout",
     "output_type": "stream",
     "text": [
      "count    33430.000000\n",
      "mean        61.859348\n",
      "std         19.099182\n",
      "min          0.000000\n",
      "25%         51.000000\n",
      "50%         65.000000\n",
      "75%         75.000000\n",
      "max        100.000000\n",
      "Name: artist_pop, dtype: float64\n"
     ]
    }
   ],
   "source": [
    "# artist_pop distribution descriptive stats\n",
    "print(song_df['artist_pop'].describe())"
   ]
  },
  {
   "cell_type": "code",
   "execution_count": 45,
   "metadata": {
    "ExecuteTime": {
     "end_time": "2023-12-02T04:56:19.443974500Z",
     "start_time": "2023-12-02T04:56:19.398816700Z"
    }
   },
   "outputs": [
    {
     "data": {
      "text/plain": "   artist_pop\n0        0.74\n1        0.70\n2        0.89\n3        0.80\n4        0.88",
      "text/html": "<div>\n<style scoped>\n    .dataframe tbody tr th:only-of-type {\n        vertical-align: middle;\n    }\n\n    .dataframe tbody tr th {\n        vertical-align: top;\n    }\n\n    .dataframe thead th {\n        text-align: right;\n    }\n</style>\n<table border=\"1\" class=\"dataframe\">\n  <thead>\n    <tr style=\"text-align: right;\">\n      <th></th>\n      <th>artist_pop</th>\n    </tr>\n  </thead>\n  <tbody>\n    <tr>\n      <th>0</th>\n      <td>0.74</td>\n    </tr>\n    <tr>\n      <th>1</th>\n      <td>0.70</td>\n    </tr>\n    <tr>\n      <th>2</th>\n      <td>0.89</td>\n    </tr>\n    <tr>\n      <th>3</th>\n      <td>0.80</td>\n    </tr>\n    <tr>\n      <th>4</th>\n      <td>0.88</td>\n    </tr>\n  </tbody>\n</table>\n</div>"
     },
     "execution_count": 45,
     "metadata": {},
     "output_type": "execute_result"
    }
   ],
   "source": [
    "# Normalization\n",
    "pop = song_df[[\"artist_pop\"]].reset_index(drop = True)\n",
    "scaler = MinMaxScaler()\n",
    "pop_scaled = pd.DataFrame(scaler.fit_transform(pop), columns = pop.columns)\n",
    "pop_scaled.head()"
   ]
  },
  {
   "cell_type": "markdown",
   "metadata": {},
   "source": [
    "#### Feature Generation\n",
    "Finally, we generate all features mentioned above using the following cell and concatenate all variables into a new dataframe."
   ]
  },
  {
   "cell_type": "code",
   "execution_count": 46,
   "metadata": {
    "ExecuteTime": {
     "end_time": "2023-12-02T04:56:19.443974500Z",
     "start_time": "2023-12-02T04:56:19.412287300Z"
    }
   },
   "outputs": [],
   "source": [
    "def create_feature_set(df, float_cols):\n",
    "    '''\n",
    "    Process spotify df to create a final set of features that will be used to generate recommendations\n",
    "    ---\n",
    "    Input: \n",
    "    df (pandas dataframe): Spotify Dataframe\n",
    "    float_cols (list(str)): List of float columns that will be scaled\n",
    "            \n",
    "    Output: \n",
    "    final (pandas dataframe): Final set of features \n",
    "    '''\n",
    "    \n",
    "    # Tfidf genre lists\n",
    "    tfidf = TfidfVectorizer()\n",
    "    tfidf_matrix =  tfidf.fit_transform(df['genres_list'].apply(lambda x: \" \".join(x)))\n",
    "    genre_df = pd.DataFrame(tfidf_matrix.toarray())\n",
    "    genre_df.columns = ['genre' + \"|\" + i for i in tfidf.get_feature_names_out()]\n",
    "    genre_df.drop(columns='genre|unknown') # drop unknown genre\n",
    "    genre_df.reset_index(drop = True, inplace=True)\n",
    "    \n",
    "    # Sentiment analysis\n",
    "    df = sentiment_analysis(df, \"track_name\")\n",
    "\n",
    "    # One-hot Encoding\n",
    "    subject_ohe = ohe_prep(df, 'subjectivity','subject') * 0.3\n",
    "    polar_ohe = ohe_prep(df, 'polarity','polar') * 0.5\n",
    "    key_ohe = ohe_prep(df, 'key','key') * 0.5\n",
    "    mode_ohe = ohe_prep(df, 'mode','mode') * 0.5\n",
    "\n",
    "    # Normalization\n",
    "    # Scale popularity columns\n",
    "    pop = df[[\"artist_pop\",\"track_pop\"]].reset_index(drop = True)\n",
    "    scaler = MinMaxScaler()\n",
    "    pop_scaled = pd.DataFrame(scaler.fit_transform(pop), columns = pop.columns) * 0.2 \n",
    "\n",
    "    # Scale audio columns\n",
    "    floats = df[float_cols].reset_index(drop = True)\n",
    "    scaler = MinMaxScaler()\n",
    "    floats_scaled = pd.DataFrame(scaler.fit_transform(floats), columns = floats.columns) * 0.2\n",
    "\n",
    "    # Concanenate all features\n",
    "    final = pd.concat([genre_df, floats_scaled, pop_scaled, subject_ohe, polar_ohe, key_ohe, mode_ohe], axis = 1)\n",
    "    \n",
    "    # Add song id\n",
    "    final['id']=df['id'].values\n",
    "    \n",
    "    return final"
   ]
  },
  {
   "cell_type": "code",
   "execution_count": 47,
   "metadata": {
    "ExecuteTime": {
     "end_time": "2023-12-02T04:56:46.875979Z",
     "start_time": "2023-12-02T04:56:19.420832Z"
    }
   },
   "outputs": [
    {
     "data": {
      "text/plain": "   genre|21st_century_classical  genre|432hz  genre|_hip_hop  genre|_roll  \\\n0                           0.0          0.0             0.0          0.0   \n1                           0.0          0.0             0.0          0.0   \n2                           0.0          0.0             0.0          0.0   \n3                           0.0          0.0             0.0          0.0   \n4                           0.0          0.0             0.0          0.0   \n\n   genre|a_cappella  genre|abstract_beats  genre|abstract_hip_hop  \\\n0               0.0                   0.0                     0.0   \n1               0.0                   0.0                     0.0   \n2               0.0                   0.0                     0.0   \n3               0.0                   0.0                     0.0   \n4               0.0                   0.0                     0.0   \n\n   genre|accordion  genre|acid_jazz  genre|acid_rock  ...  key|5  key|6  \\\n0              0.0              0.0              0.0  ...    0.0    0.0   \n1              0.0              0.0              0.0  ...    0.0    0.5   \n2              0.0              0.0              0.0  ...    0.0    0.0   \n3              0.0              0.0              0.0  ...    0.5    0.0   \n4              0.0              0.0              0.0  ...    0.0    0.0   \n\n   key|7  key|8  key|9  key|10  key|11  mode|0  mode|1                      id  \n0    0.0    0.0    0.0     0.0     0.0     0.0     0.5  4nMlau89VAjmV7agkl7OY3  \n1    0.0    0.0    0.0     0.0     0.0     0.5     0.0  7vRriwrloYVaoAe3a9wJHe  \n2    0.0    0.0    0.0     0.0     0.0     0.5     0.0  152lZdxL1OR0ZMW6KquMif  \n3    0.0    0.0    0.0     0.0     0.0     0.0     0.5  3eze1OsZ1rqeXkKStNfTmi  \n4    0.5    0.0    0.0     0.0     0.0     0.0     0.5  2QbFClFyhMMtiurUjuQlAe  \n\n[5 rows x 2166 columns]",
      "text/html": "<div>\n<style scoped>\n    .dataframe tbody tr th:only-of-type {\n        vertical-align: middle;\n    }\n\n    .dataframe tbody tr th {\n        vertical-align: top;\n    }\n\n    .dataframe thead th {\n        text-align: right;\n    }\n</style>\n<table border=\"1\" class=\"dataframe\">\n  <thead>\n    <tr style=\"text-align: right;\">\n      <th></th>\n      <th>genre|21st_century_classical</th>\n      <th>genre|432hz</th>\n      <th>genre|_hip_hop</th>\n      <th>genre|_roll</th>\n      <th>genre|a_cappella</th>\n      <th>genre|abstract_beats</th>\n      <th>genre|abstract_hip_hop</th>\n      <th>genre|accordion</th>\n      <th>genre|acid_jazz</th>\n      <th>genre|acid_rock</th>\n      <th>...</th>\n      <th>key|5</th>\n      <th>key|6</th>\n      <th>key|7</th>\n      <th>key|8</th>\n      <th>key|9</th>\n      <th>key|10</th>\n      <th>key|11</th>\n      <th>mode|0</th>\n      <th>mode|1</th>\n      <th>id</th>\n    </tr>\n  </thead>\n  <tbody>\n    <tr>\n      <th>0</th>\n      <td>0.0</td>\n      <td>0.0</td>\n      <td>0.0</td>\n      <td>0.0</td>\n      <td>0.0</td>\n      <td>0.0</td>\n      <td>0.0</td>\n      <td>0.0</td>\n      <td>0.0</td>\n      <td>0.0</td>\n      <td>...</td>\n      <td>0.0</td>\n      <td>0.0</td>\n      <td>0.0</td>\n      <td>0.0</td>\n      <td>0.0</td>\n      <td>0.0</td>\n      <td>0.0</td>\n      <td>0.0</td>\n      <td>0.5</td>\n      <td>4nMlau89VAjmV7agkl7OY3</td>\n    </tr>\n    <tr>\n      <th>1</th>\n      <td>0.0</td>\n      <td>0.0</td>\n      <td>0.0</td>\n      <td>0.0</td>\n      <td>0.0</td>\n      <td>0.0</td>\n      <td>0.0</td>\n      <td>0.0</td>\n      <td>0.0</td>\n      <td>0.0</td>\n      <td>...</td>\n      <td>0.0</td>\n      <td>0.5</td>\n      <td>0.0</td>\n      <td>0.0</td>\n      <td>0.0</td>\n      <td>0.0</td>\n      <td>0.0</td>\n      <td>0.5</td>\n      <td>0.0</td>\n      <td>7vRriwrloYVaoAe3a9wJHe</td>\n    </tr>\n    <tr>\n      <th>2</th>\n      <td>0.0</td>\n      <td>0.0</td>\n      <td>0.0</td>\n      <td>0.0</td>\n      <td>0.0</td>\n      <td>0.0</td>\n      <td>0.0</td>\n      <td>0.0</td>\n      <td>0.0</td>\n      <td>0.0</td>\n      <td>...</td>\n      <td>0.0</td>\n      <td>0.0</td>\n      <td>0.0</td>\n      <td>0.0</td>\n      <td>0.0</td>\n      <td>0.0</td>\n      <td>0.0</td>\n      <td>0.5</td>\n      <td>0.0</td>\n      <td>152lZdxL1OR0ZMW6KquMif</td>\n    </tr>\n    <tr>\n      <th>3</th>\n      <td>0.0</td>\n      <td>0.0</td>\n      <td>0.0</td>\n      <td>0.0</td>\n      <td>0.0</td>\n      <td>0.0</td>\n      <td>0.0</td>\n      <td>0.0</td>\n      <td>0.0</td>\n      <td>0.0</td>\n      <td>...</td>\n      <td>0.5</td>\n      <td>0.0</td>\n      <td>0.0</td>\n      <td>0.0</td>\n      <td>0.0</td>\n      <td>0.0</td>\n      <td>0.0</td>\n      <td>0.0</td>\n      <td>0.5</td>\n      <td>3eze1OsZ1rqeXkKStNfTmi</td>\n    </tr>\n    <tr>\n      <th>4</th>\n      <td>0.0</td>\n      <td>0.0</td>\n      <td>0.0</td>\n      <td>0.0</td>\n      <td>0.0</td>\n      <td>0.0</td>\n      <td>0.0</td>\n      <td>0.0</td>\n      <td>0.0</td>\n      <td>0.0</td>\n      <td>...</td>\n      <td>0.0</td>\n      <td>0.0</td>\n      <td>0.5</td>\n      <td>0.0</td>\n      <td>0.0</td>\n      <td>0.0</td>\n      <td>0.0</td>\n      <td>0.0</td>\n      <td>0.5</td>\n      <td>2QbFClFyhMMtiurUjuQlAe</td>\n    </tr>\n  </tbody>\n</table>\n<p>5 rows × 2166 columns</p>\n</div>"
     },
     "execution_count": 47,
     "metadata": {},
     "output_type": "execute_result"
    }
   ],
   "source": [
    "# Save the data and generate the features\n",
    "float_cols = song_df.dtypes[song_df.dtypes == 'float64'].index.values\n",
    "song_df.to_csv(\"data/allsong_data_train.csv\", index = False) \n",
    "\n",
    "# Generate features\n",
    "complete_feature_set = create_feature_set(song_df, float_cols=float_cols)  # one hot encoded, normalized, ...\n",
    "complete_feature_set.to_csv(\"data/complete_feature_train.csv\", index = False)\n",
    "complete_feature_set.head()"
   ]
  },
  {
   "cell_type": "markdown",
   "metadata": {},
   "source": [
    "### Content-based Filtering Recommendation\n",
    "The next step is to perform content-based filtering based on the song features we have. To do so, we concatenate all songs in a playlist into one summarization vector. Then, we find the similarity between the summarized playlist vector with all songs (not including the songs in the playlist) in the database. Then, we use the similarity measure retrieved the most relevant song that is not in the playlist to recommend it.\n",
    "\n",
    "There are thre steps in this section:\n",
    "1. **Choose playlist**: In this part, we retrieve a playlist\n",
    "2. **Extract features**: In this part, we retrieve playlist-of-interest features and non-playlist-of-interest features.\n",
    "3. **Find similarity**: In this part, we compare the summarized playlist features with all other songs.\n",
    "\n",
    "#### Choose Playlist\n",
    "In this part, we test the data with *Mom's playlist* in the dataset.\n"
   ]
  },
  {
   "cell_type": "code",
   "execution_count": 48,
   "metadata": {
    "ExecuteTime": {
     "end_time": "2023-12-02T04:56:46.888767500Z",
     "start_time": "2023-12-02T04:56:46.871508900Z"
    }
   },
   "outputs": [],
   "source": [
    "### This is the test data\n",
    "# playlistDF_test = pd.read_csv(\"../data/test_playlist.csv\")\n",
    "# playlistDF_test = playlist_preprocess(playlistDF_test)\n",
    "# playlistDF_test.head()\n",
    "\n",
    "# Test playlist:  Mom's playlist\n",
    "playlistDF_test = playlist_df[playlist_df['name'] == \"Mom's playlist\"]\n",
    "playlistDF_test.head()\n",
    "playlistDF_test.to_csv(\"data/test_playlist.csv\")"
   ]
  },
  {
   "cell_type": "markdown",
   "metadata": {},
   "source": [
    "#### Extract features\n",
    "The next step is to generate all the features. We need to first use the `id` to differentiate songs that are in the playlist and those that are not. Then, we simply add the features for all songs in the playlist together as a summary vector, which is similar to the figure below that was modified version of the work by [Madhav Thaker](https://github.com/madhavthaker/spotify-recommendation-system/blob/main/spotify-recommendation-engine.ipynb)."
   ]
  },
  {
   "cell_type": "markdown",
   "metadata": {},
   "source": [
    "![pipeline_img](flow.png)\n"
   ]
  },
  {
   "cell_type": "code",
   "execution_count": 49,
   "metadata": {
    "ExecuteTime": {
     "end_time": "2023-12-02T04:56:46.893597400Z",
     "start_time": "2023-12-02T04:56:46.893093400Z"
    }
   },
   "outputs": [],
   "source": [
    "def generate_playlist_feature(complete_feature_set, playlist_df):\n",
    "    '''\n",
    "    Summarize a user's playlist into a single vector\n",
    "    ---\n",
    "    Input: \n",
    "    complete_feature_set (pandas dataframe): Dataframe which includes all of the features for the spotify songs\n",
    "    playlist_df (pandas dataframe): playlist dataframe\n",
    "        \n",
    "    Output: \n",
    "    complete_feature_set_playlist_final (pandas series): single vector feature that summarizes the playlist\n",
    "    complete_feature_set_nonplaylist (pandas dataframe): \n",
    "    '''\n",
    "    \n",
    "    # Find song features in the playlist\n",
    "    complete_feature_set_playlist = complete_feature_set[complete_feature_set['id'].isin(playlist_df['id'].values)]\n",
    "    # Find all non-playlist song features\n",
    "    complete_feature_set_nonplaylist = complete_feature_set[~complete_feature_set['id'].isin(playlist_df['id'].values)]\n",
    "    complete_feature_set_playlist_final = complete_feature_set_playlist.drop(columns = \"id\")\n",
    "    return complete_feature_set_playlist_final.sum(axis = 0), complete_feature_set_nonplaylist"
   ]
  },
  {
   "cell_type": "code",
   "execution_count": 50,
   "metadata": {
    "ExecuteTime": {
     "end_time": "2023-12-02T04:56:47.080801400Z",
     "start_time": "2023-12-02T04:56:46.893597400Z"
    }
   },
   "outputs": [],
   "source": [
    "# Generate the features\n",
    "complete_feature_set_playlist_vector, complete_feature_set_nonplaylist = generate_playlist_feature(complete_feature_set, playlistDF_test)"
   ]
  },
  {
   "cell_type": "code",
   "execution_count": 51,
   "metadata": {
    "ExecuteTime": {
     "end_time": "2023-12-02T04:56:47.103737900Z",
     "start_time": "2023-12-02T04:56:47.080801400Z"
    }
   },
   "outputs": [
    {
     "data": {
      "text/plain": "   genre|21st_century_classical  genre|432hz  genre|_hip_hop  genre|_roll  \\\n0                           0.0          0.0             0.0          0.0   \n1                           0.0          0.0             0.0          0.0   \n2                           0.0          0.0             0.0          0.0   \n3                           0.0          0.0             0.0          0.0   \n4                           0.0          0.0             0.0          0.0   \n\n   genre|a_cappella  genre|abstract_beats  genre|abstract_hip_hop  \\\n0               0.0                   0.0                     0.0   \n1               0.0                   0.0                     0.0   \n2               0.0                   0.0                     0.0   \n3               0.0                   0.0                     0.0   \n4               0.0                   0.0                     0.0   \n\n   genre|accordion  genre|acid_jazz  genre|acid_rock  ...  key|5  key|6  \\\n0              0.0              0.0              0.0  ...    0.0    0.0   \n1              0.0              0.0              0.0  ...    0.0    0.5   \n2              0.0              0.0              0.0  ...    0.0    0.0   \n3              0.0              0.0              0.0  ...    0.5    0.0   \n4              0.0              0.0              0.0  ...    0.0    0.0   \n\n   key|7  key|8  key|9  key|10  key|11  mode|0  mode|1                      id  \n0    0.0    0.0    0.0     0.0     0.0     0.0     0.5  4nMlau89VAjmV7agkl7OY3  \n1    0.0    0.0    0.0     0.0     0.0     0.5     0.0  7vRriwrloYVaoAe3a9wJHe  \n2    0.0    0.0    0.0     0.0     0.0     0.5     0.0  152lZdxL1OR0ZMW6KquMif  \n3    0.0    0.0    0.0     0.0     0.0     0.0     0.5  3eze1OsZ1rqeXkKStNfTmi  \n4    0.5    0.0    0.0     0.0     0.0     0.0     0.5  2QbFClFyhMMtiurUjuQlAe  \n\n[5 rows x 2166 columns]",
      "text/html": "<div>\n<style scoped>\n    .dataframe tbody tr th:only-of-type {\n        vertical-align: middle;\n    }\n\n    .dataframe tbody tr th {\n        vertical-align: top;\n    }\n\n    .dataframe thead th {\n        text-align: right;\n    }\n</style>\n<table border=\"1\" class=\"dataframe\">\n  <thead>\n    <tr style=\"text-align: right;\">\n      <th></th>\n      <th>genre|21st_century_classical</th>\n      <th>genre|432hz</th>\n      <th>genre|_hip_hop</th>\n      <th>genre|_roll</th>\n      <th>genre|a_cappella</th>\n      <th>genre|abstract_beats</th>\n      <th>genre|abstract_hip_hop</th>\n      <th>genre|accordion</th>\n      <th>genre|acid_jazz</th>\n      <th>genre|acid_rock</th>\n      <th>...</th>\n      <th>key|5</th>\n      <th>key|6</th>\n      <th>key|7</th>\n      <th>key|8</th>\n      <th>key|9</th>\n      <th>key|10</th>\n      <th>key|11</th>\n      <th>mode|0</th>\n      <th>mode|1</th>\n      <th>id</th>\n    </tr>\n  </thead>\n  <tbody>\n    <tr>\n      <th>0</th>\n      <td>0.0</td>\n      <td>0.0</td>\n      <td>0.0</td>\n      <td>0.0</td>\n      <td>0.0</td>\n      <td>0.0</td>\n      <td>0.0</td>\n      <td>0.0</td>\n      <td>0.0</td>\n      <td>0.0</td>\n      <td>...</td>\n      <td>0.0</td>\n      <td>0.0</td>\n      <td>0.0</td>\n      <td>0.0</td>\n      <td>0.0</td>\n      <td>0.0</td>\n      <td>0.0</td>\n      <td>0.0</td>\n      <td>0.5</td>\n      <td>4nMlau89VAjmV7agkl7OY3</td>\n    </tr>\n    <tr>\n      <th>1</th>\n      <td>0.0</td>\n      <td>0.0</td>\n      <td>0.0</td>\n      <td>0.0</td>\n      <td>0.0</td>\n      <td>0.0</td>\n      <td>0.0</td>\n      <td>0.0</td>\n      <td>0.0</td>\n      <td>0.0</td>\n      <td>...</td>\n      <td>0.0</td>\n      <td>0.5</td>\n      <td>0.0</td>\n      <td>0.0</td>\n      <td>0.0</td>\n      <td>0.0</td>\n      <td>0.0</td>\n      <td>0.5</td>\n      <td>0.0</td>\n      <td>7vRriwrloYVaoAe3a9wJHe</td>\n    </tr>\n    <tr>\n      <th>2</th>\n      <td>0.0</td>\n      <td>0.0</td>\n      <td>0.0</td>\n      <td>0.0</td>\n      <td>0.0</td>\n      <td>0.0</td>\n      <td>0.0</td>\n      <td>0.0</td>\n      <td>0.0</td>\n      <td>0.0</td>\n      <td>...</td>\n      <td>0.0</td>\n      <td>0.0</td>\n      <td>0.0</td>\n      <td>0.0</td>\n      <td>0.0</td>\n      <td>0.0</td>\n      <td>0.0</td>\n      <td>0.5</td>\n      <td>0.0</td>\n      <td>152lZdxL1OR0ZMW6KquMif</td>\n    </tr>\n    <tr>\n      <th>3</th>\n      <td>0.0</td>\n      <td>0.0</td>\n      <td>0.0</td>\n      <td>0.0</td>\n      <td>0.0</td>\n      <td>0.0</td>\n      <td>0.0</td>\n      <td>0.0</td>\n      <td>0.0</td>\n      <td>0.0</td>\n      <td>...</td>\n      <td>0.5</td>\n      <td>0.0</td>\n      <td>0.0</td>\n      <td>0.0</td>\n      <td>0.0</td>\n      <td>0.0</td>\n      <td>0.0</td>\n      <td>0.0</td>\n      <td>0.5</td>\n      <td>3eze1OsZ1rqeXkKStNfTmi</td>\n    </tr>\n    <tr>\n      <th>4</th>\n      <td>0.0</td>\n      <td>0.0</td>\n      <td>0.0</td>\n      <td>0.0</td>\n      <td>0.0</td>\n      <td>0.0</td>\n      <td>0.0</td>\n      <td>0.0</td>\n      <td>0.0</td>\n      <td>0.0</td>\n      <td>...</td>\n      <td>0.0</td>\n      <td>0.0</td>\n      <td>0.5</td>\n      <td>0.0</td>\n      <td>0.0</td>\n      <td>0.0</td>\n      <td>0.0</td>\n      <td>0.0</td>\n      <td>0.5</td>\n      <td>2QbFClFyhMMtiurUjuQlAe</td>\n    </tr>\n  </tbody>\n</table>\n<p>5 rows × 2166 columns</p>\n</div>"
     },
     "execution_count": 51,
     "metadata": {},
     "output_type": "execute_result"
    }
   ],
   "source": [
    "# Non-playlist features\n",
    "complete_feature_set_nonplaylist.head()"
   ]
  },
  {
   "cell_type": "code",
   "execution_count": 52,
   "metadata": {
    "ExecuteTime": {
     "end_time": "2023-12-02T04:56:47.119765300Z",
     "start_time": "2023-12-02T04:56:47.103737900Z"
    }
   },
   "outputs": [
    {
     "data": {
      "text/plain": "genre|21st_century_classical     0.0\ngenre|432hz                      0.0\ngenre|_hip_hop                   0.0\ngenre|_roll                      0.0\ngenre|a_cappella                 0.0\n                                ... \nkey|9                            3.5\nkey|10                           2.5\nkey|11                           3.0\nmode|0                           9.0\nmode|1                          30.0\nLength: 2165, dtype: float64"
     },
     "execution_count": 52,
     "metadata": {},
     "output_type": "execute_result"
    }
   ],
   "source": [
    "# Summarized playlist features\n",
    "complete_feature_set_playlist_vector"
   ]
  },
  {
   "cell_type": "markdown",
   "metadata": {},
   "source": [
    "#### Find similarity\n",
    "The last puzzle is to find the similarities between the summarized playlist vector and all other songs. There are many similarity measures but one of the most common measures is **cosine similarity**.\n",
    "\n",
    "Cosine similarity is a mathematical value that measures the similarities between vectors. Imagining our songs vectors as only two dimensional, the visual representation would look similar to the figure below. \n",
    "\n",
    "The mathematical formula can be expressed as:\n",
    "$$\\text{Cosine Sim}(A,B)=\\frac{A\\cdot B}{||A||\\times||B||}=\\frac{\\sum_{i=1}^n A_i\\times B_i}{\\sqrt{\\sum_{i=1}^n A_i^2}\\times \\sqrt{\\sum_{i=1}^n B_i^2}}$$\n",
    "\n",
    "In our code, we used the `cosine_similarity()` function from `scikit learn` to measure the similarity between each song and the summarized playlist vector.\n",
    "\n",
    "One big advatange of doing this is the time complexity of the whole algorithm is equal to a matrix multiplication since we are performing the cosine similarity measure between each row vector (song) and the column vector of summarized playlist feature."
   ]
  },
  {
   "cell_type": "markdown",
   "metadata": {},
   "source": [
    "![cossim_img](https://images.deepai.org/glossary-terms/cosine-similarity-1007790.jpg)"
   ]
  },
  {
   "cell_type": "code",
   "execution_count": 53,
   "metadata": {
    "ExecuteTime": {
     "end_time": "2023-12-02T04:56:47.159034400Z",
     "start_time": "2023-12-02T04:56:47.112239Z"
    }
   },
   "outputs": [],
   "source": [
    "def generate_playlist_recos(df, features, nonplaylist_features):\n",
    "    '''\n",
    "    Generated recommendation based on songs in a specific playlist.\n",
    "    ---\n",
    "    Input: \n",
    "    df (pandas dataframe): spotify dataframe\n",
    "    features (pandas series): summarized playlist feature (single vector)\n",
    "    nonplaylist_features (pandas dataframe): feature set of songs that are not in the selected playlist\n",
    "        \n",
    "    Output: \n",
    "    non_playlist_df_top_40: Top 40 recommendations for that playlist\n",
    "    '''\n",
    "    \n",
    "    non_playlist_df = df[df['id'].isin(nonplaylist_features['id'].values)]  # all songs that are not in selected playlist\n",
    "    # Find cosine similarity between the playlist and the complete song set\n",
    "    non_playlist_df['sim'] = cosine_similarity(nonplaylist_features.drop('id', axis = 1).values, features.values.reshape(1, -1))[:,0]\n",
    "    non_playlist_df_top_40 = non_playlist_df.sort_values('sim', ascending = False).head(40)  # sort values according to cosine similarity to playlist\n",
    "    \n",
    "    return non_playlist_df_top_40"
   ]
  },
  {
   "cell_type": "code",
   "execution_count": 54,
   "metadata": {
    "ExecuteTime": {
     "end_time": "2023-12-02T04:56:47.981347100Z",
     "start_time": "2023-12-02T04:56:47.119765300Z"
    }
   },
   "outputs": [
    {
     "name": "stderr",
     "output_type": "stream",
     "text": [
      "C:\\Users\\Marja\\AppData\\Local\\Temp\\ipykernel_8584\\2638696040.py:16: SettingWithCopyWarning: \n",
      "A value is trying to be set on a copy of a slice from a DataFrame.\n",
      "Try using .loc[row_indexer,col_indexer] = value instead\n",
      "\n",
      "See the caveats in the documentation: https://pandas.pydata.org/pandas-docs/stable/user_guide/indexing.html#returning-a-view-versus-a-copy\n",
      "  non_playlist_df['sim'] = cosine_similarity(nonplaylist_features.drop('id', axis = 1).values, features.values.reshape(1, -1))[:,0]\n"
     ]
    },
    {
     "data": {
      "text/plain": "            artist_name                      id              track_name  \\\n4579   American Authors  64ybTt8CKxPdeXBNnu08Op                Believer   \n8250   American Authors  1obisQNOcikRvTdStbW3pG       Go Big Or Go Home   \n55023          The 1975  51cd3bzVmLAjlnsSZn4ecW          She's American   \n4574         Neon Trees  0K1KOCeJBj3lpDYxEX9qP2  Sleeping With A Friend   \n1057   American Authors  4gHD93RNqEhEh2NkYzl3x6                    Luck   \n54362     WALK THE MOON  71wT7aMCFPYfzutF66OLac                 Aquaman   \n8390         Neon Trees  1fBl642IhJOE5U319Gy2Go                  Animal   \n49941          The 1975  1v07ywlVYd02pOCnXRBDNA                Menswear   \n21117          The 1975  5hc71nKsUgtwQ3z52KEKQk           Somebody Else   \n7680       Andy Grammer  4Jz4bjXeiF2SXVj9P4YfY5       Keep Your Head Up   \n\n       danceability  energy  key  loudness  mode  speechiness  acousticness  \\\n4579          0.583   0.968    1    -2.909     1       0.0368      0.001410   \n8250          0.665   0.875    1    -4.272     1       0.0426      0.009390   \n55023         0.647   0.857    1    -3.940     1       0.0547      0.167000   \n4574          0.582   0.882    2    -4.256     1       0.0355      0.001890   \n1057          0.554   0.806    0    -3.463     1       0.0460      0.001770   \n54362         0.630   0.772    1    -6.986     1       0.0297      0.510000   \n8390          0.482   0.833    5    -5.611     1       0.0449      0.000346   \n49941         0.708   0.539    1   -10.281     1       0.0681      0.541000   \n21117         0.610   0.788    0    -5.724     1       0.0585      0.195000   \n7680          0.674   0.778    0    -5.367     1       0.0376      0.046900   \n\n       ...  liveness  valence    tempo  artist_pop  \\\n4579   ...    0.1300    0.910  119.999          70   \n8250   ...    0.0897    0.660  122.008          70   \n55023  ...    0.0763    0.550  115.976          78   \n4574   ...    0.3200    0.507  107.034          71   \n1057   ...    0.1650    0.646  144.923          70   \n54362  ...    0.0881    0.721   99.964          72   \n8390   ...    0.3650    0.740  148.039          71   \n49941  ...    0.0856    0.159   97.015          78   \n21117  ...    0.1530    0.472  101.045          78   \n7680   ...    0.1450    0.816   90.010          74   \n\n                                                  genres track_pop  \\\n4579   indie_poptimism modern_alternative_rock modern...        55   \n8250   indie_poptimism modern_alternative_rock modern...        63   \n55023       modern_alternative_rock modern_rock pop rock        55   \n4574   modern_alternative_rock modern_rock pop pop_ro...        59   \n1057   indie_poptimism modern_alternative_rock modern...        54   \n54362  dance_pop dance_rock indie_poptimism modern_al...        46   \n8390   modern_alternative_rock modern_rock pop pop_ro...        74   \n49941       modern_alternative_rock modern_rock pop rock        51   \n21117       modern_alternative_rock modern_rock pop rock        75   \n7680   dance_pop modern_rock neo_mellow pop pop_rap p...        74   \n\n                                             genres_list subjectivity  \\\n4579   [indie_poptimism, modern_alternative_rock, mod...          low   \n8250   [indie_poptimism, modern_alternative_rock, mod...          low   \n55023  [modern_alternative_rock, modern_rock, pop, rock]          low   \n4574   [modern_alternative_rock, modern_rock, pop, po...          low   \n1057   [indie_poptimism, modern_alternative_rock, mod...          low   \n54362  [dance_pop, dance_rock, indie_poptimism, moder...          low   \n8390   [modern_alternative_rock, modern_rock, pop, po...          low   \n49941  [modern_alternative_rock, modern_rock, pop, rock]          low   \n21117  [modern_alternative_rock, modern_rock, pop, rock]          low   \n7680   [dance_pop, modern_rock, neo_mellow, pop, pop_...          low   \n\n      polarity       sim  \n4579   Neutral  0.784023  \n8250   Neutral  0.781738  \n55023  Neutral  0.768862  \n4574   Neutral  0.763553  \n1057   Neutral  0.763182  \n54362  Neutral  0.756718  \n8390   Neutral  0.754982  \n49941  Neutral  0.754660  \n21117  Neutral  0.749041  \n7680   Neutral  0.747519  \n\n[10 rows x 21 columns]",
      "text/html": "<div>\n<style scoped>\n    .dataframe tbody tr th:only-of-type {\n        vertical-align: middle;\n    }\n\n    .dataframe tbody tr th {\n        vertical-align: top;\n    }\n\n    .dataframe thead th {\n        text-align: right;\n    }\n</style>\n<table border=\"1\" class=\"dataframe\">\n  <thead>\n    <tr style=\"text-align: right;\">\n      <th></th>\n      <th>artist_name</th>\n      <th>id</th>\n      <th>track_name</th>\n      <th>danceability</th>\n      <th>energy</th>\n      <th>key</th>\n      <th>loudness</th>\n      <th>mode</th>\n      <th>speechiness</th>\n      <th>acousticness</th>\n      <th>...</th>\n      <th>liveness</th>\n      <th>valence</th>\n      <th>tempo</th>\n      <th>artist_pop</th>\n      <th>genres</th>\n      <th>track_pop</th>\n      <th>genres_list</th>\n      <th>subjectivity</th>\n      <th>polarity</th>\n      <th>sim</th>\n    </tr>\n  </thead>\n  <tbody>\n    <tr>\n      <th>4579</th>\n      <td>American Authors</td>\n      <td>64ybTt8CKxPdeXBNnu08Op</td>\n      <td>Believer</td>\n      <td>0.583</td>\n      <td>0.968</td>\n      <td>1</td>\n      <td>-2.909</td>\n      <td>1</td>\n      <td>0.0368</td>\n      <td>0.001410</td>\n      <td>...</td>\n      <td>0.1300</td>\n      <td>0.910</td>\n      <td>119.999</td>\n      <td>70</td>\n      <td>indie_poptimism modern_alternative_rock modern...</td>\n      <td>55</td>\n      <td>[indie_poptimism, modern_alternative_rock, mod...</td>\n      <td>low</td>\n      <td>Neutral</td>\n      <td>0.784023</td>\n    </tr>\n    <tr>\n      <th>8250</th>\n      <td>American Authors</td>\n      <td>1obisQNOcikRvTdStbW3pG</td>\n      <td>Go Big Or Go Home</td>\n      <td>0.665</td>\n      <td>0.875</td>\n      <td>1</td>\n      <td>-4.272</td>\n      <td>1</td>\n      <td>0.0426</td>\n      <td>0.009390</td>\n      <td>...</td>\n      <td>0.0897</td>\n      <td>0.660</td>\n      <td>122.008</td>\n      <td>70</td>\n      <td>indie_poptimism modern_alternative_rock modern...</td>\n      <td>63</td>\n      <td>[indie_poptimism, modern_alternative_rock, mod...</td>\n      <td>low</td>\n      <td>Neutral</td>\n      <td>0.781738</td>\n    </tr>\n    <tr>\n      <th>55023</th>\n      <td>The 1975</td>\n      <td>51cd3bzVmLAjlnsSZn4ecW</td>\n      <td>She's American</td>\n      <td>0.647</td>\n      <td>0.857</td>\n      <td>1</td>\n      <td>-3.940</td>\n      <td>1</td>\n      <td>0.0547</td>\n      <td>0.167000</td>\n      <td>...</td>\n      <td>0.0763</td>\n      <td>0.550</td>\n      <td>115.976</td>\n      <td>78</td>\n      <td>modern_alternative_rock modern_rock pop rock</td>\n      <td>55</td>\n      <td>[modern_alternative_rock, modern_rock, pop, rock]</td>\n      <td>low</td>\n      <td>Neutral</td>\n      <td>0.768862</td>\n    </tr>\n    <tr>\n      <th>4574</th>\n      <td>Neon Trees</td>\n      <td>0K1KOCeJBj3lpDYxEX9qP2</td>\n      <td>Sleeping With A Friend</td>\n      <td>0.582</td>\n      <td>0.882</td>\n      <td>2</td>\n      <td>-4.256</td>\n      <td>1</td>\n      <td>0.0355</td>\n      <td>0.001890</td>\n      <td>...</td>\n      <td>0.3200</td>\n      <td>0.507</td>\n      <td>107.034</td>\n      <td>71</td>\n      <td>modern_alternative_rock modern_rock pop pop_ro...</td>\n      <td>59</td>\n      <td>[modern_alternative_rock, modern_rock, pop, po...</td>\n      <td>low</td>\n      <td>Neutral</td>\n      <td>0.763553</td>\n    </tr>\n    <tr>\n      <th>1057</th>\n      <td>American Authors</td>\n      <td>4gHD93RNqEhEh2NkYzl3x6</td>\n      <td>Luck</td>\n      <td>0.554</td>\n      <td>0.806</td>\n      <td>0</td>\n      <td>-3.463</td>\n      <td>1</td>\n      <td>0.0460</td>\n      <td>0.001770</td>\n      <td>...</td>\n      <td>0.1650</td>\n      <td>0.646</td>\n      <td>144.923</td>\n      <td>70</td>\n      <td>indie_poptimism modern_alternative_rock modern...</td>\n      <td>54</td>\n      <td>[indie_poptimism, modern_alternative_rock, mod...</td>\n      <td>low</td>\n      <td>Neutral</td>\n      <td>0.763182</td>\n    </tr>\n    <tr>\n      <th>54362</th>\n      <td>WALK THE MOON</td>\n      <td>71wT7aMCFPYfzutF66OLac</td>\n      <td>Aquaman</td>\n      <td>0.630</td>\n      <td>0.772</td>\n      <td>1</td>\n      <td>-6.986</td>\n      <td>1</td>\n      <td>0.0297</td>\n      <td>0.510000</td>\n      <td>...</td>\n      <td>0.0881</td>\n      <td>0.721</td>\n      <td>99.964</td>\n      <td>72</td>\n      <td>dance_pop dance_rock indie_poptimism modern_al...</td>\n      <td>46</td>\n      <td>[dance_pop, dance_rock, indie_poptimism, moder...</td>\n      <td>low</td>\n      <td>Neutral</td>\n      <td>0.756718</td>\n    </tr>\n    <tr>\n      <th>8390</th>\n      <td>Neon Trees</td>\n      <td>1fBl642IhJOE5U319Gy2Go</td>\n      <td>Animal</td>\n      <td>0.482</td>\n      <td>0.833</td>\n      <td>5</td>\n      <td>-5.611</td>\n      <td>1</td>\n      <td>0.0449</td>\n      <td>0.000346</td>\n      <td>...</td>\n      <td>0.3650</td>\n      <td>0.740</td>\n      <td>148.039</td>\n      <td>71</td>\n      <td>modern_alternative_rock modern_rock pop pop_ro...</td>\n      <td>74</td>\n      <td>[modern_alternative_rock, modern_rock, pop, po...</td>\n      <td>low</td>\n      <td>Neutral</td>\n      <td>0.754982</td>\n    </tr>\n    <tr>\n      <th>49941</th>\n      <td>The 1975</td>\n      <td>1v07ywlVYd02pOCnXRBDNA</td>\n      <td>Menswear</td>\n      <td>0.708</td>\n      <td>0.539</td>\n      <td>1</td>\n      <td>-10.281</td>\n      <td>1</td>\n      <td>0.0681</td>\n      <td>0.541000</td>\n      <td>...</td>\n      <td>0.0856</td>\n      <td>0.159</td>\n      <td>97.015</td>\n      <td>78</td>\n      <td>modern_alternative_rock modern_rock pop rock</td>\n      <td>51</td>\n      <td>[modern_alternative_rock, modern_rock, pop, rock]</td>\n      <td>low</td>\n      <td>Neutral</td>\n      <td>0.754660</td>\n    </tr>\n    <tr>\n      <th>21117</th>\n      <td>The 1975</td>\n      <td>5hc71nKsUgtwQ3z52KEKQk</td>\n      <td>Somebody Else</td>\n      <td>0.610</td>\n      <td>0.788</td>\n      <td>0</td>\n      <td>-5.724</td>\n      <td>1</td>\n      <td>0.0585</td>\n      <td>0.195000</td>\n      <td>...</td>\n      <td>0.1530</td>\n      <td>0.472</td>\n      <td>101.045</td>\n      <td>78</td>\n      <td>modern_alternative_rock modern_rock pop rock</td>\n      <td>75</td>\n      <td>[modern_alternative_rock, modern_rock, pop, rock]</td>\n      <td>low</td>\n      <td>Neutral</td>\n      <td>0.749041</td>\n    </tr>\n    <tr>\n      <th>7680</th>\n      <td>Andy Grammer</td>\n      <td>4Jz4bjXeiF2SXVj9P4YfY5</td>\n      <td>Keep Your Head Up</td>\n      <td>0.674</td>\n      <td>0.778</td>\n      <td>0</td>\n      <td>-5.367</td>\n      <td>1</td>\n      <td>0.0376</td>\n      <td>0.046900</td>\n      <td>...</td>\n      <td>0.1450</td>\n      <td>0.816</td>\n      <td>90.010</td>\n      <td>74</td>\n      <td>dance_pop modern_rock neo_mellow pop pop_rap p...</td>\n      <td>74</td>\n      <td>[dance_pop, modern_rock, neo_mellow, pop, pop_...</td>\n      <td>low</td>\n      <td>Neutral</td>\n      <td>0.747519</td>\n    </tr>\n  </tbody>\n</table>\n<p>10 rows × 21 columns</p>\n</div>"
     },
     "execution_count": 54,
     "metadata": {},
     "output_type": "execute_result"
    }
   ],
   "source": [
    "# Generate top 10 recommendation\n",
    "recommend = generate_playlist_recos(song_df, complete_feature_set_playlist_vector, complete_feature_set_nonplaylist)\n",
    "recommend.head(10)"
   ]
  },
  {
   "cell_type": "code",
   "execution_count": 55,
   "metadata": {
    "ExecuteTime": {
     "end_time": "2023-12-02T04:56:48.001928Z",
     "start_time": "2023-12-02T04:56:47.981347100Z"
    }
   },
   "outputs": [
    {
     "data": {
      "text/plain": "             artist_name                                         track_name\n27274             Audien                                   Something Better\n27275        John Legend                                          All of Me\n27276         Aloe Blacc                              Wake Me Up - Acoustic\n27277      Astoria Kings                                         Come Alive\n27278    Imagine Dragons               Nothing Left To Say / Rocks - Medley\n27279   American Authors                                Best Day Of My Life\n27280      You Me At Six                    Stay With Me - Acoustic Version\n27281         Aloe Blacc                                    I Need a Dollar\n27282      Anthem Lights  Best of 2012: Payphone / Call Me Maybe / Wide ...\n27283  Pharrell Williams                     Happy - From \"Despicable Me 2\"\n27284             Hozier                                  Jackie And Wilson\n27285         Neon Trees                                               1983\n27286     Built By Titan                    Collide (feat. Jonathan Thulin)\n27287        The Beatles                  Twist And Shout - Remastered 2009\n27288        The Hooters                                      And We Danced\n27289       Atlas Genius                                          Molecules\n27290               Itch                            Laugh (feat. Matisyahu)\n27291             Avicii                            Wake Me Up - Radio Edit\n27292       The Darkness                   I Believe In A Thing Called Love\n27293        George Ezra                                           Budapest",
      "text/html": "<div>\n<style scoped>\n    .dataframe tbody tr th:only-of-type {\n        vertical-align: middle;\n    }\n\n    .dataframe tbody tr th {\n        vertical-align: top;\n    }\n\n    .dataframe thead th {\n        text-align: right;\n    }\n</style>\n<table border=\"1\" class=\"dataframe\">\n  <thead>\n    <tr style=\"text-align: right;\">\n      <th></th>\n      <th>artist_name</th>\n      <th>track_name</th>\n    </tr>\n  </thead>\n  <tbody>\n    <tr>\n      <th>27274</th>\n      <td>Audien</td>\n      <td>Something Better</td>\n    </tr>\n    <tr>\n      <th>27275</th>\n      <td>John Legend</td>\n      <td>All of Me</td>\n    </tr>\n    <tr>\n      <th>27276</th>\n      <td>Aloe Blacc</td>\n      <td>Wake Me Up - Acoustic</td>\n    </tr>\n    <tr>\n      <th>27277</th>\n      <td>Astoria Kings</td>\n      <td>Come Alive</td>\n    </tr>\n    <tr>\n      <th>27278</th>\n      <td>Imagine Dragons</td>\n      <td>Nothing Left To Say / Rocks - Medley</td>\n    </tr>\n    <tr>\n      <th>27279</th>\n      <td>American Authors</td>\n      <td>Best Day Of My Life</td>\n    </tr>\n    <tr>\n      <th>27280</th>\n      <td>You Me At Six</td>\n      <td>Stay With Me - Acoustic Version</td>\n    </tr>\n    <tr>\n      <th>27281</th>\n      <td>Aloe Blacc</td>\n      <td>I Need a Dollar</td>\n    </tr>\n    <tr>\n      <th>27282</th>\n      <td>Anthem Lights</td>\n      <td>Best of 2012: Payphone / Call Me Maybe / Wide ...</td>\n    </tr>\n    <tr>\n      <th>27283</th>\n      <td>Pharrell Williams</td>\n      <td>Happy - From \"Despicable Me 2\"</td>\n    </tr>\n    <tr>\n      <th>27284</th>\n      <td>Hozier</td>\n      <td>Jackie And Wilson</td>\n    </tr>\n    <tr>\n      <th>27285</th>\n      <td>Neon Trees</td>\n      <td>1983</td>\n    </tr>\n    <tr>\n      <th>27286</th>\n      <td>Built By Titan</td>\n      <td>Collide (feat. Jonathan Thulin)</td>\n    </tr>\n    <tr>\n      <th>27287</th>\n      <td>The Beatles</td>\n      <td>Twist And Shout - Remastered 2009</td>\n    </tr>\n    <tr>\n      <th>27288</th>\n      <td>The Hooters</td>\n      <td>And We Danced</td>\n    </tr>\n    <tr>\n      <th>27289</th>\n      <td>Atlas Genius</td>\n      <td>Molecules</td>\n    </tr>\n    <tr>\n      <th>27290</th>\n      <td>Itch</td>\n      <td>Laugh (feat. Matisyahu)</td>\n    </tr>\n    <tr>\n      <th>27291</th>\n      <td>Avicii</td>\n      <td>Wake Me Up - Radio Edit</td>\n    </tr>\n    <tr>\n      <th>27292</th>\n      <td>The Darkness</td>\n      <td>I Believe In A Thing Called Love</td>\n    </tr>\n    <tr>\n      <th>27293</th>\n      <td>George Ezra</td>\n      <td>Budapest</td>\n    </tr>\n  </tbody>\n</table>\n</div>"
     },
     "execution_count": 55,
     "metadata": {},
     "output_type": "execute_result"
    }
   ],
   "source": [
    "playlistDF_test[[\"artist_name\",\"track_name\"]][:20]"
   ]
  }
 ],
 "metadata": {
  "interpreter": {
   "hash": "0c414d3e8adee2b3211df29fd26edea752e90b91980149f3b387787cb104a4bf"
  },
  "kernelspec": {
   "display_name": "Python 3 (ipykernel)",
   "language": "python",
   "name": "python3"
  },
  "language_info": {
   "codemirror_mode": {
    "name": "ipython",
    "version": 3
   },
   "file_extension": ".py",
   "mimetype": "text/x-python",
   "name": "python",
   "nbconvert_exporter": "python",
   "pygments_lexer": "ipython3",
   "version": "3.12.0"
  }
 },
 "nbformat": 4,
 "nbformat_minor": 4
}
