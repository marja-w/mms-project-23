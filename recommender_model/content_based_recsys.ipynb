{
 "cells": [
  {
   "cell_type": "markdown",
   "metadata": {},
   "source": [
    "# Content-based Filtering Spotify Song Recommendation System\n",
    "\n",
    "**Disclaimer: this notebook is based on the notebook that can be found [here](https://github.com/enjuichang/PracticalDataScience-ENCA/tree/main).**\n",
    "\n",
    "This notebook describes is a content-based filtering approach for Spotify Song recommendation. \n",
    "\n",
    "\n",
    "## Structure\n",
    "\n",
    "- Package Setup\n",
    "- Preprocessing\n",
    "- Feature Generation\n",
    "- Content-based Filtering Recommendation\n",
    "\n",
    "## Setup\n",
    "\n",
    "**Downloaded Package**\n",
    "- TextBlob\n",
    "\n",
    "**Imported Packages**\n",
    "\n",
    "- Pandas\n",
    "- Scikit-learn\n",
    "- re\n",
    "- Spotipy\n",
    "\n",
    "## Credits\n",
    "\n",
    "This notebook builds on top of Madhav Thaker's [spotify-recommendation-system tutorial](https://github.com/madhavthaker/spotify-recommendation-system).\n",
    "\n",
    "\n",
    "\n"
   ]
  },
  {
   "cell_type": "markdown",
   "metadata": {},
   "source": [
    "### Package Setup\n",
    "#### Download Dependencies"
   ]
  },
  {
   "cell_type": "code",
   "execution_count": 1,
   "metadata": {
    "ExecuteTime": {
     "end_time": "2023-12-04T19:52:32.601618700Z",
     "start_time": "2023-12-04T19:52:30.146924700Z"
    }
   },
   "outputs": [
    {
     "name": "stdout",
     "output_type": "stream",
     "text": [
      "Requirement already satisfied: textblob in c:\\users\\marja\\pycharmprojects\\mms-project-23\\venv\\lib\\site-packages (0.17.1)\n",
      "Requirement already satisfied: nltk>=3.1 in c:\\users\\marja\\pycharmprojects\\mms-project-23\\venv\\lib\\site-packages (from textblob) (3.8.1)\n",
      "Requirement already satisfied: click in c:\\users\\marja\\pycharmprojects\\mms-project-23\\venv\\lib\\site-packages (from nltk>=3.1->textblob) (8.1.7)\n",
      "Requirement already satisfied: joblib in c:\\users\\marja\\pycharmprojects\\mms-project-23\\venv\\lib\\site-packages (from nltk>=3.1->textblob) (1.3.2)\n",
      "Requirement already satisfied: regex>=2021.8.3 in c:\\users\\marja\\pycharmprojects\\mms-project-23\\venv\\lib\\site-packages (from nltk>=3.1->textblob) (2023.10.3)\n",
      "Requirement already satisfied: tqdm in c:\\users\\marja\\pycharmprojects\\mms-project-23\\venv\\lib\\site-packages (from nltk>=3.1->textblob) (4.66.1)\n",
      "Requirement already satisfied: colorama in c:\\users\\marja\\pycharmprojects\\mms-project-23\\venv\\lib\\site-packages (from click->nltk>=3.1->textblob) (0.4.6)\n"
     ]
    },
    {
     "name": "stderr",
     "output_type": "stream",
     "text": [
      "\n",
      "[notice] A new release of pip is available: 23.2.1 -> 23.3.1\n",
      "[notice] To update, run: python.exe -m pip install --upgrade pip\n"
     ]
    }
   ],
   "source": [
    "!pip install textblob"
   ]
  },
  {
   "cell_type": "markdown",
   "metadata": {},
   "source": [
    "#### Import Dependencies"
   ]
  },
  {
   "cell_type": "code",
   "execution_count": 2,
   "metadata": {
    "ExecuteTime": {
     "end_time": "2023-12-04T19:52:34.901748700Z",
     "start_time": "2023-12-04T19:52:32.601618700Z"
    }
   },
   "outputs": [],
   "source": [
    "# import library\n",
    "import pandas as pd\n",
    "from sklearn.metrics.pairwise import cosine_similarity\n",
    "from sklearn.preprocessing import MinMaxScaler\n",
    "from sklearn.feature_extraction.text import TfidfVectorizer\n",
    "from textblob import TextBlob\n",
    "import re"
   ]
  },
  {
   "cell_type": "markdown",
   "metadata": {},
   "source": [
    "#### Data Import\n",
    "The data here is not raw data, but the data created in [extract_features.py](https://github.com/enjuichang/PracticalDataScience-ENCA/blob/main/notebooks/Extract%20Features%20Script.ipynb). The script uses the Spotify API library [spotipy](https://spotipy.readthedocs.io/en/2.22.1/?highlight=sp%20audio_features#spotipy.client.Spotify.audio_features) in order to extract [audio features](https://developer.spotify.com/documentation/web-api/reference/get-audio-features), like loudness, danceability, acousticness, .... Spotify created these features by applying a trained Convolutional Neural Network to the [spectrogram](https://en.wikipedia.org/wiki/Spectrogram) of a song, which is a 2D-image representation of the song. Therefore, we don't need to do this ourselves, and just need to use Spotify's API to get those features. In this case, I am using a subset of the data provided [here](https://github.com/enjuichang/PracticalDataScience-ENCA/blob/main/data/processed_data.csv)."
   ]
  },
  {
   "cell_type": "code",
   "execution_count": 3,
   "metadata": {
    "ExecuteTime": {
     "end_time": "2023-12-04T19:52:35.551581100Z",
     "start_time": "2023-12-04T19:52:34.901748700Z"
    }
   },
   "outputs": [
    {
     "name": "stdout",
     "output_type": "stream",
     "text": [
      "Index(['Unnamed: 0.2', 'Unnamed: 0.1', 'Unnamed: 0', 'pos', 'artist_name',\n",
      "       'track_uri', 'artist_uri', 'track_name', 'album_uri', 'duration_ms_x',\n",
      "       'album_name', 'name', 'danceability', 'energy', 'key', 'loudness',\n",
      "       'mode', 'speechiness', 'acousticness', 'instrumentalness', 'liveness',\n",
      "       'valence', 'tempo', 'type', 'id', 'uri', 'track_href', 'analysis_url',\n",
      "       'duration_ms_y', 'time_signature', 'artist_pop', 'genres', 'track_pop'],\n",
      "      dtype='object')\n"
     ]
    },
    {
     "data": {
      "text/plain": "   Unnamed: 0.2  pos        artist_name               track_uri  \\\n0         10062    9       Andy Grammer  4nMlau89VAjmV7agkl7OY3   \n1         11756    8              gnash  7vRriwrloYVaoAe3a9wJHe   \n2         16776   20             Khalid  152lZdxL1OR0ZMW6KquMif   \n3          2510   19  Chance The Rapper  3eze1OsZ1rqeXkKStNfTmi   \n4         10054    2           Maroon 5  2QbFClFyhMMtiurUjuQlAe   \n\n                              artist_uri  \\\n0  spotify:artist:2oX42qP5ineK3hrhBECLmj   \n1  spotify:artist:3iri9nBFs9e4wN7PLIetAw   \n2  spotify:artist:6LuN9FCkKOj5PcnpouEgny   \n3  spotify:artist:1anyVhU62p31KFi8MEzkbf   \n4  spotify:artist:04gDigrS5kc9YWfZHwBETP   \n\n                                  track_name  \\\n0                                 Fresh Eyes   \n1  i hate u, i love u (feat. olivia o'brien)   \n2                                   Location   \n3    Juke Jam (feat. Justin Bieber & Towkio)   \n4    Don't Wanna Know (feat. Kendrick Lamar)   \n\n                              album_uri  duration_ms_x      album_name  \\\n0  spotify:album:5YpK59N59zCX7Hkc9aBiGv         198001      Fresh Eyes   \n1  spotify:album:3L0H4RjVXpEkwfDgi3XOdf         251033              us   \n2  spotify:album:6kf46HbnYCZzP6rjvQHYzg         219080   American Teen   \n3  spotify:album:71QyofYesSsRMwFOTafnhB         219683   Coloring Book   \n4  spotify:album:1Jmq5HEJeA9kNi2SgQul4U         214265  Red Pill Blues   \n\n     name  ...            type                      id  \\\n0   CHiLl  ...  audio_features  4nMlau89VAjmV7agkl7OY3   \n1   CHiLl  ...  audio_features  7vRriwrloYVaoAe3a9wJHe   \n2   CHiLl  ...  audio_features  152lZdxL1OR0ZMW6KquMif   \n3   CHiLl  ...  audio_features  3eze1OsZ1rqeXkKStNfTmi   \n4   CHiLl  ...  audio_features  2QbFClFyhMMtiurUjuQlAe   \n\n                                    uri  \\\n0  spotify:track:4nMlau89VAjmV7agkl7OY3   \n1  spotify:track:7vRriwrloYVaoAe3a9wJHe   \n2  spotify:track:152lZdxL1OR0ZMW6KquMif   \n3  spotify:track:3eze1OsZ1rqeXkKStNfTmi   \n4  spotify:track:2QbFClFyhMMtiurUjuQlAe   \n\n                                          track_href  \\\n0  https://api.spotify.com/v1/tracks/4nMlau89VAjm...   \n1  https://api.spotify.com/v1/tracks/7vRriwrloYVa...   \n2  https://api.spotify.com/v1/tracks/152lZdxL1OR0...   \n3  https://api.spotify.com/v1/tracks/3eze1OsZ1rqe...   \n4  https://api.spotify.com/v1/tracks/2QbFClFyhMMt...   \n\n                                        analysis_url  duration_ms_y  \\\n0  https://api.spotify.com/v1/audio-analysis/4nMl...         198001   \n1  https://api.spotify.com/v1/audio-analysis/7vRr...         251034   \n2  https://api.spotify.com/v1/audio-analysis/152l...         219080   \n3  https://api.spotify.com/v1/audio-analysis/3eze...         219683   \n4  https://api.spotify.com/v1/audio-analysis/2QbF...         214265   \n\n   time_signature  artist_pop  \\\n0               4          74   \n1               4          70   \n2               4          89   \n3               1          80   \n4               4          88   \n\n                                              genres  track_pop  \n0  dance_pop modern_rock neo_mellow pop pop_rap p...          0  \n1                             electropop pop pop_rap         81  \n2                                        pop pop_r&b         81  \n3  chicago_rap conscious_hip_hop hip_hop pop_rap rap         68  \n4                                       pop pop_rock          0  \n\n[5 rows x 31 columns]",
      "text/html": "<div>\n<style scoped>\n    .dataframe tbody tr th:only-of-type {\n        vertical-align: middle;\n    }\n\n    .dataframe tbody tr th {\n        vertical-align: top;\n    }\n\n    .dataframe thead th {\n        text-align: right;\n    }\n</style>\n<table border=\"1\" class=\"dataframe\">\n  <thead>\n    <tr style=\"text-align: right;\">\n      <th></th>\n      <th>Unnamed: 0.2</th>\n      <th>pos</th>\n      <th>artist_name</th>\n      <th>track_uri</th>\n      <th>artist_uri</th>\n      <th>track_name</th>\n      <th>album_uri</th>\n      <th>duration_ms_x</th>\n      <th>album_name</th>\n      <th>name</th>\n      <th>...</th>\n      <th>type</th>\n      <th>id</th>\n      <th>uri</th>\n      <th>track_href</th>\n      <th>analysis_url</th>\n      <th>duration_ms_y</th>\n      <th>time_signature</th>\n      <th>artist_pop</th>\n      <th>genres</th>\n      <th>track_pop</th>\n    </tr>\n  </thead>\n  <tbody>\n    <tr>\n      <th>0</th>\n      <td>10062</td>\n      <td>9</td>\n      <td>Andy Grammer</td>\n      <td>4nMlau89VAjmV7agkl7OY3</td>\n      <td>spotify:artist:2oX42qP5ineK3hrhBECLmj</td>\n      <td>Fresh Eyes</td>\n      <td>spotify:album:5YpK59N59zCX7Hkc9aBiGv</td>\n      <td>198001</td>\n      <td>Fresh Eyes</td>\n      <td>CHiLl</td>\n      <td>...</td>\n      <td>audio_features</td>\n      <td>4nMlau89VAjmV7agkl7OY3</td>\n      <td>spotify:track:4nMlau89VAjmV7agkl7OY3</td>\n      <td>https://api.spotify.com/v1/tracks/4nMlau89VAjm...</td>\n      <td>https://api.spotify.com/v1/audio-analysis/4nMl...</td>\n      <td>198001</td>\n      <td>4</td>\n      <td>74</td>\n      <td>dance_pop modern_rock neo_mellow pop pop_rap p...</td>\n      <td>0</td>\n    </tr>\n    <tr>\n      <th>1</th>\n      <td>11756</td>\n      <td>8</td>\n      <td>gnash</td>\n      <td>7vRriwrloYVaoAe3a9wJHe</td>\n      <td>spotify:artist:3iri9nBFs9e4wN7PLIetAw</td>\n      <td>i hate u, i love u (feat. olivia o'brien)</td>\n      <td>spotify:album:3L0H4RjVXpEkwfDgi3XOdf</td>\n      <td>251033</td>\n      <td>us</td>\n      <td>CHiLl</td>\n      <td>...</td>\n      <td>audio_features</td>\n      <td>7vRriwrloYVaoAe3a9wJHe</td>\n      <td>spotify:track:7vRriwrloYVaoAe3a9wJHe</td>\n      <td>https://api.spotify.com/v1/tracks/7vRriwrloYVa...</td>\n      <td>https://api.spotify.com/v1/audio-analysis/7vRr...</td>\n      <td>251034</td>\n      <td>4</td>\n      <td>70</td>\n      <td>electropop pop pop_rap</td>\n      <td>81</td>\n    </tr>\n    <tr>\n      <th>2</th>\n      <td>16776</td>\n      <td>20</td>\n      <td>Khalid</td>\n      <td>152lZdxL1OR0ZMW6KquMif</td>\n      <td>spotify:artist:6LuN9FCkKOj5PcnpouEgny</td>\n      <td>Location</td>\n      <td>spotify:album:6kf46HbnYCZzP6rjvQHYzg</td>\n      <td>219080</td>\n      <td>American Teen</td>\n      <td>CHiLl</td>\n      <td>...</td>\n      <td>audio_features</td>\n      <td>152lZdxL1OR0ZMW6KquMif</td>\n      <td>spotify:track:152lZdxL1OR0ZMW6KquMif</td>\n      <td>https://api.spotify.com/v1/tracks/152lZdxL1OR0...</td>\n      <td>https://api.spotify.com/v1/audio-analysis/152l...</td>\n      <td>219080</td>\n      <td>4</td>\n      <td>89</td>\n      <td>pop pop_r&amp;b</td>\n      <td>81</td>\n    </tr>\n    <tr>\n      <th>3</th>\n      <td>2510</td>\n      <td>19</td>\n      <td>Chance The Rapper</td>\n      <td>3eze1OsZ1rqeXkKStNfTmi</td>\n      <td>spotify:artist:1anyVhU62p31KFi8MEzkbf</td>\n      <td>Juke Jam (feat. Justin Bieber &amp; Towkio)</td>\n      <td>spotify:album:71QyofYesSsRMwFOTafnhB</td>\n      <td>219683</td>\n      <td>Coloring Book</td>\n      <td>CHiLl</td>\n      <td>...</td>\n      <td>audio_features</td>\n      <td>3eze1OsZ1rqeXkKStNfTmi</td>\n      <td>spotify:track:3eze1OsZ1rqeXkKStNfTmi</td>\n      <td>https://api.spotify.com/v1/tracks/3eze1OsZ1rqe...</td>\n      <td>https://api.spotify.com/v1/audio-analysis/3eze...</td>\n      <td>219683</td>\n      <td>1</td>\n      <td>80</td>\n      <td>chicago_rap conscious_hip_hop hip_hop pop_rap rap</td>\n      <td>68</td>\n    </tr>\n    <tr>\n      <th>4</th>\n      <td>10054</td>\n      <td>2</td>\n      <td>Maroon 5</td>\n      <td>2QbFClFyhMMtiurUjuQlAe</td>\n      <td>spotify:artist:04gDigrS5kc9YWfZHwBETP</td>\n      <td>Don't Wanna Know (feat. Kendrick Lamar)</td>\n      <td>spotify:album:1Jmq5HEJeA9kNi2SgQul4U</td>\n      <td>214265</td>\n      <td>Red Pill Blues</td>\n      <td>CHiLl</td>\n      <td>...</td>\n      <td>audio_features</td>\n      <td>2QbFClFyhMMtiurUjuQlAe</td>\n      <td>spotify:track:2QbFClFyhMMtiurUjuQlAe</td>\n      <td>https://api.spotify.com/v1/tracks/2QbFClFyhMMt...</td>\n      <td>https://api.spotify.com/v1/audio-analysis/2QbF...</td>\n      <td>214265</td>\n      <td>4</td>\n      <td>88</td>\n      <td>pop pop_rock</td>\n      <td>0</td>\n    </tr>\n  </tbody>\n</table>\n<p>5 rows × 31 columns</p>\n</div>"
     },
     "execution_count": 3,
     "metadata": {},
     "output_type": "execute_result"
    }
   ],
   "source": [
    "# import processed data\n",
    "playlist_df = pd.read_csv(\"data/processed_data_train.csv\")\n",
    "print(playlist_df.columns)\n",
    "playlist_df.drop(columns=[\"Unnamed: 0\", 'Unnamed: 0.1'], inplace = True)  # remove unneccessary columns\n",
    "playlist_df.head()"
   ]
  },
  {
   "cell_type": "markdown",
   "source": [
    "Each column adds information to a track:\n",
    "\n",
    "- Unnamed:0: This is the index over all tracks in the database. The name is this weird, because it was empty in the .csv file and the DataFrame library named it that way.\n",
    "- pos: the index of the track in the playlist it belongs to\n",
    "- artist_name: the name of the artist of the track\n",
    "- track_uri: unique identifier of the track ([more](https://developer.spotify.com/documentation/web-api/concepts/spotify-uris-ids#:~:text=the%20following%20parameters%3A-,Spotify%20URI,-The%20resource%20identifier))\n",
    "- artist_uri: unique identifier of the artist ([more](https://developer.spotify.com/documentation/web-api/concepts/spotify-uris-ids#:~:text=the%20following%20parameters%3A-,Spotify%20URI,-The%20resource%20identifier))\n",
    "- track_name: name of the track\n",
    "- album_uri: unique identifier of the album ([more](https://developer.spotify.com/documentation/web-api/concepts/spotify-uris-ids#:~:text=the%20following%20parameters%3A-,Spotify%20URI,-The%20resource%20identifier))\n",
    "- duration_ms: the duration of the track in milliseconds\n",
    "- album_name: the name of the album the track was published with\n",
    "- name: the name of the playlist the track belongs to"
   ],
   "metadata": {
    "collapsed": false
   }
  },
  {
   "cell_type": "markdown",
   "metadata": {},
   "source": [
    "### Preprocessing\n",
    "\n",
    "The following cells conducts further preprocessing for the imported data to cater the data specifically for the content-based filtering.\n",
    "\n",
    "Here is the general pipeline:\n",
    "1. Useful data Selection\n",
    "2. List concatenation"
   ]
  },
  {
   "cell_type": "markdown",
   "metadata": {},
   "source": [
    "#### Useful Data Selection\n",
    "\n",
    "Due to the nature of playlist, there will be duplicates in songs across multiple playlists. Therefore, I combined the song and the artist and used the `drop_duplicates()` function in `pandas` to remove duplicate songs when building the base dataframe with all unique songs."
   ]
  },
  {
   "cell_type": "code",
   "execution_count": 4,
   "metadata": {
    "ExecuteTime": {
     "end_time": "2023-12-04T19:52:35.645439400Z",
     "start_time": "2023-12-04T19:52:35.551581100Z"
    }
   },
   "outputs": [
    {
     "data": {
      "text/plain": "             artist_name                                 track_name    name\n0           Andy Grammer                                 Fresh Eyes   CHiLl\n1                  gnash  i hate u, i love u (feat. olivia o'brien)   CHiLl\n2                 Khalid                                   Location   CHiLl\n3      Chance The Rapper    Juke Jam (feat. Justin Bieber & Towkio)   CHiLl\n4               Maroon 5    Don't Wanna Know (feat. Kendrick Lamar)   CHiLl\n...                  ...                                        ...     ...\n60727   Rick Springfield                              Jessie's Girl      🤤🤤\n60728            Journey                        Any Way You Want It      🤤🤤\n60729            Journey                Lovin', Touchin', Squeezin'      🤤🤤\n60730            Rihanna                            What's My Name?      🤤🤤\n60731      The Offspring     Come Out And Play (Keep ‘Em Separated)      🤤🤤\n\n[60732 rows x 3 columns]",
      "text/html": "<div>\n<style scoped>\n    .dataframe tbody tr th:only-of-type {\n        vertical-align: middle;\n    }\n\n    .dataframe tbody tr th {\n        vertical-align: top;\n    }\n\n    .dataframe thead th {\n        text-align: right;\n    }\n</style>\n<table border=\"1\" class=\"dataframe\">\n  <thead>\n    <tr style=\"text-align: right;\">\n      <th></th>\n      <th>artist_name</th>\n      <th>track_name</th>\n      <th>name</th>\n    </tr>\n  </thead>\n  <tbody>\n    <tr>\n      <th>0</th>\n      <td>Andy Grammer</td>\n      <td>Fresh Eyes</td>\n      <td>CHiLl</td>\n    </tr>\n    <tr>\n      <th>1</th>\n      <td>gnash</td>\n      <td>i hate u, i love u (feat. olivia o'brien)</td>\n      <td>CHiLl</td>\n    </tr>\n    <tr>\n      <th>2</th>\n      <td>Khalid</td>\n      <td>Location</td>\n      <td>CHiLl</td>\n    </tr>\n    <tr>\n      <th>3</th>\n      <td>Chance The Rapper</td>\n      <td>Juke Jam (feat. Justin Bieber &amp; Towkio)</td>\n      <td>CHiLl</td>\n    </tr>\n    <tr>\n      <th>4</th>\n      <td>Maroon 5</td>\n      <td>Don't Wanna Know (feat. Kendrick Lamar)</td>\n      <td>CHiLl</td>\n    </tr>\n    <tr>\n      <th>...</th>\n      <td>...</td>\n      <td>...</td>\n      <td>...</td>\n    </tr>\n    <tr>\n      <th>60727</th>\n      <td>Rick Springfield</td>\n      <td>Jessie's Girl</td>\n      <td>🤤🤤</td>\n    </tr>\n    <tr>\n      <th>60728</th>\n      <td>Journey</td>\n      <td>Any Way You Want It</td>\n      <td>🤤🤤</td>\n    </tr>\n    <tr>\n      <th>60729</th>\n      <td>Journey</td>\n      <td>Lovin', Touchin', Squeezin'</td>\n      <td>🤤🤤</td>\n    </tr>\n    <tr>\n      <th>60730</th>\n      <td>Rihanna</td>\n      <td>What's My Name?</td>\n      <td>🤤🤤</td>\n    </tr>\n    <tr>\n      <th>60731</th>\n      <td>The Offspring</td>\n      <td>Come Out And Play (Keep ‘Em Separated)</td>\n      <td>🤤🤤</td>\n    </tr>\n  </tbody>\n</table>\n<p>60732 rows × 3 columns</p>\n</div>"
     },
     "execution_count": 4,
     "metadata": {},
     "output_type": "execute_result"
    }
   ],
   "source": [
    "# Show that there are duplicates of songs accross playlists\n",
    "playlist_df[['artist_name','track_name','name']]"
   ]
  },
  {
   "cell_type": "markdown",
   "metadata": {},
   "source": [
    "Now, I drop the duplicates with `pandas` by combining the artist name and track name. This is to prevent dropping songs from different artists but with the same names."
   ]
  },
  {
   "cell_type": "code",
   "execution_count": 5,
   "metadata": {
    "ExecuteTime": {
     "end_time": "2023-12-04T19:52:36.201950200Z",
     "start_time": "2023-12-04T19:52:35.583737500Z"
    }
   },
   "outputs": [
    {
     "name": "stdout",
     "output_type": "stream",
     "text": [
      "Are all songs unique:  True\n"
     ]
    }
   ],
   "source": [
    "# Drop song duplicates\n",
    "def drop_duplicates(df):\n",
    "    '''\n",
    "    Drop duplicate songs\n",
    "    '''\n",
    "    df['artists_song'] = df.apply(lambda row: row['artist_name']+row['track_name'],axis = 1)\n",
    "    return df.drop_duplicates('artists_song')\n",
    "\n",
    "song_df = drop_duplicates(playlist_df)\n",
    "print(\"Are all songs unique: \", len(pd.unique(song_df.artists_song)) == len(song_df))"
   ]
  },
  {
   "cell_type": "markdown",
   "metadata": {},
   "source": [
    "Finally, I select the features I would use later on. The following is a short list of them in categories:\n",
    "1. Metadata\n",
    "    - id\n",
    "    - genres\n",
    "    - artist_pop (popularity of artist: read more about it [here](https://developer.spotify.com/documentation/web-api/reference/get-an-artist#:~:text=of%20the%20artist.-,popularity,-integer))\n",
    "    - track_pop (popularity of track: read more about it [here](https://developer.spotify.com/documentation/web-api/reference/get-track#:~:text=of%20the%20track.-,popularity,-integer))\n",
    "2. Audio (read more about the audio features [here](https://developer.spotify.com/documentation/web-api/reference/get-audio-features))\n",
    "    - **Mood**: Danceability, Valence, Energy, Tempo\n",
    "    - **Properties**: Loudness, Speechiness, Instrumentalness\n",
    "    - **Context**: Liveness, Acousticness\n",
    "    - **metadata**: key, mode\n",
    "3. Text\n",
    "    - track_name"
   ]
  },
  {
   "cell_type": "code",
   "execution_count": 6,
   "metadata": {
    "ExecuteTime": {
     "end_time": "2023-12-04T19:52:36.249820400Z",
     "start_time": "2023-12-04T19:52:36.201950200Z"
    }
   },
   "outputs": [
    {
     "data": {
      "text/plain": "         artist_name                      id  \\\n0       Andy Grammer  4nMlau89VAjmV7agkl7OY3   \n1              gnash  7vRriwrloYVaoAe3a9wJHe   \n2             Khalid  152lZdxL1OR0ZMW6KquMif   \n3  Chance The Rapper  3eze1OsZ1rqeXkKStNfTmi   \n4           Maroon 5  2QbFClFyhMMtiurUjuQlAe   \n\n                                  track_name  danceability  energy  key  \\\n0                                 Fresh Eyes         0.822   0.544    0   \n1  i hate u, i love u (feat. olivia o'brien)         0.492   0.275    6   \n2                                   Location         0.736   0.449    1   \n3    Juke Jam (feat. Justin Bieber & Towkio)         0.505   0.397    5   \n4    Don't Wanna Know (feat. Kendrick Lamar)         0.775   0.617    7   \n\n   loudness  mode  speechiness  acousticness  instrumentalness  liveness  \\\n0    -6.797     1       0.0332         0.562          0.000024    0.1440   \n1   -13.400     0       0.3000         0.687          0.000000    0.1010   \n2   -11.462     0       0.4250         0.330          0.000162    0.0898   \n3    -9.349     1       0.3240         0.716          0.000000    0.0853   \n4    -6.166     1       0.0701         0.341          0.000000    0.0985   \n\n   valence    tempo  artist_pop  \\\n0    0.861  122.047          74   \n1    0.180   92.600          70   \n2    0.326   80.126          89   \n3    0.558   95.063          80   \n4    0.485  100.048          88   \n\n                                              genres  track_pop  \n0  dance_pop modern_rock neo_mellow pop pop_rap p...          0  \n1                             electropop pop pop_rap         81  \n2                                        pop pop_r&b         81  \n3  chicago_rap conscious_hip_hop hip_hop pop_rap rap         68  \n4                                       pop pop_rock          0  ",
      "text/html": "<div>\n<style scoped>\n    .dataframe tbody tr th:only-of-type {\n        vertical-align: middle;\n    }\n\n    .dataframe tbody tr th {\n        vertical-align: top;\n    }\n\n    .dataframe thead th {\n        text-align: right;\n    }\n</style>\n<table border=\"1\" class=\"dataframe\">\n  <thead>\n    <tr style=\"text-align: right;\">\n      <th></th>\n      <th>artist_name</th>\n      <th>id</th>\n      <th>track_name</th>\n      <th>danceability</th>\n      <th>energy</th>\n      <th>key</th>\n      <th>loudness</th>\n      <th>mode</th>\n      <th>speechiness</th>\n      <th>acousticness</th>\n      <th>instrumentalness</th>\n      <th>liveness</th>\n      <th>valence</th>\n      <th>tempo</th>\n      <th>artist_pop</th>\n      <th>genres</th>\n      <th>track_pop</th>\n    </tr>\n  </thead>\n  <tbody>\n    <tr>\n      <th>0</th>\n      <td>Andy Grammer</td>\n      <td>4nMlau89VAjmV7agkl7OY3</td>\n      <td>Fresh Eyes</td>\n      <td>0.822</td>\n      <td>0.544</td>\n      <td>0</td>\n      <td>-6.797</td>\n      <td>1</td>\n      <td>0.0332</td>\n      <td>0.562</td>\n      <td>0.000024</td>\n      <td>0.1440</td>\n      <td>0.861</td>\n      <td>122.047</td>\n      <td>74</td>\n      <td>dance_pop modern_rock neo_mellow pop pop_rap p...</td>\n      <td>0</td>\n    </tr>\n    <tr>\n      <th>1</th>\n      <td>gnash</td>\n      <td>7vRriwrloYVaoAe3a9wJHe</td>\n      <td>i hate u, i love u (feat. olivia o'brien)</td>\n      <td>0.492</td>\n      <td>0.275</td>\n      <td>6</td>\n      <td>-13.400</td>\n      <td>0</td>\n      <td>0.3000</td>\n      <td>0.687</td>\n      <td>0.000000</td>\n      <td>0.1010</td>\n      <td>0.180</td>\n      <td>92.600</td>\n      <td>70</td>\n      <td>electropop pop pop_rap</td>\n      <td>81</td>\n    </tr>\n    <tr>\n      <th>2</th>\n      <td>Khalid</td>\n      <td>152lZdxL1OR0ZMW6KquMif</td>\n      <td>Location</td>\n      <td>0.736</td>\n      <td>0.449</td>\n      <td>1</td>\n      <td>-11.462</td>\n      <td>0</td>\n      <td>0.4250</td>\n      <td>0.330</td>\n      <td>0.000162</td>\n      <td>0.0898</td>\n      <td>0.326</td>\n      <td>80.126</td>\n      <td>89</td>\n      <td>pop pop_r&amp;b</td>\n      <td>81</td>\n    </tr>\n    <tr>\n      <th>3</th>\n      <td>Chance The Rapper</td>\n      <td>3eze1OsZ1rqeXkKStNfTmi</td>\n      <td>Juke Jam (feat. Justin Bieber &amp; Towkio)</td>\n      <td>0.505</td>\n      <td>0.397</td>\n      <td>5</td>\n      <td>-9.349</td>\n      <td>1</td>\n      <td>0.3240</td>\n      <td>0.716</td>\n      <td>0.000000</td>\n      <td>0.0853</td>\n      <td>0.558</td>\n      <td>95.063</td>\n      <td>80</td>\n      <td>chicago_rap conscious_hip_hop hip_hop pop_rap rap</td>\n      <td>68</td>\n    </tr>\n    <tr>\n      <th>4</th>\n      <td>Maroon 5</td>\n      <td>2QbFClFyhMMtiurUjuQlAe</td>\n      <td>Don't Wanna Know (feat. Kendrick Lamar)</td>\n      <td>0.775</td>\n      <td>0.617</td>\n      <td>7</td>\n      <td>-6.166</td>\n      <td>1</td>\n      <td>0.0701</td>\n      <td>0.341</td>\n      <td>0.000000</td>\n      <td>0.0985</td>\n      <td>0.485</td>\n      <td>100.048</td>\n      <td>88</td>\n      <td>pop pop_rock</td>\n      <td>0</td>\n    </tr>\n  </tbody>\n</table>\n</div>"
     },
     "execution_count": 6,
     "metadata": {},
     "output_type": "execute_result"
    }
   ],
   "source": [
    "# select useful columns\n",
    "def select_cols(df):\n",
    "       '''\n",
    "       Select useful columns\n",
    "       '''\n",
    "       return df[['artist_name','id','track_name','danceability', 'energy', 'key', 'loudness', 'mode',\n",
    "       'speechiness', 'acousticness', 'instrumentalness', 'liveness', 'valence', 'tempo', \"artist_pop\", \"genres\", \"track_pop\"]]\n",
    "song_df = select_cols(song_df)\n",
    "song_df.head()"
   ]
  },
  {
   "cell_type": "markdown",
   "metadata": {},
   "source": [
    "#### List Concatenation\n",
    "\n",
    "After selecting the useful data, due to the import format of a dataframe, we need to convert the `genres` columns back into a list. This is done by using the `split()` function:"
   ]
  },
  {
   "cell_type": "code",
   "execution_count": 7,
   "metadata": {
    "ExecuteTime": {
     "end_time": "2023-12-04T19:52:36.328158200Z",
     "start_time": "2023-12-04T19:52:36.227162900Z"
    }
   },
   "outputs": [
    {
     "data": {
      "text/plain": "0    [dance_pop, modern_rock, neo_mellow, pop, pop_...\n1                           [electropop, pop, pop_rap]\n2                                       [pop, pop_r&b]\n3    [chicago_rap, conscious_hip_hop, hip_hop, pop_...\n4                                      [pop, pop_rock]\nName: genres_list, dtype: object"
     },
     "execution_count": 7,
     "metadata": {},
     "output_type": "execute_result"
    }
   ],
   "source": [
    "def genre_preprocess(df):\n",
    "    '''\n",
    "    Preprocess the genre data\n",
    "    '''\n",
    "    df['genres_list'] = df['genres'].apply(lambda x: x.split(\" \"))\n",
    "    return df\n",
    "song_df = genre_preprocess(song_df)\n",
    "song_df['genres_list'].head()"
   ]
  },
  {
   "cell_type": "markdown",
   "metadata": {},
   "source": [
    "Lastly, I created a pipeline for preprocessing any new playlist as below:"
   ]
  },
  {
   "cell_type": "code",
   "execution_count": 8,
   "metadata": {
    "ExecuteTime": {
     "end_time": "2023-12-04T19:52:36.328158200Z",
     "start_time": "2023-12-04T19:52:36.259019900Z"
    }
   },
   "outputs": [],
   "source": [
    "def playlist_preprocess(df):\n",
    "    '''\n",
    "    Preprocess imported playlist\n",
    "    '''\n",
    "    df = drop_duplicates(df)\n",
    "    df = select_cols(df)\n",
    "    df = genre_preprocess(df)\n",
    "\n",
    "    return df"
   ]
  },
  {
   "cell_type": "markdown",
   "metadata": {},
   "source": [
    "### Feature Generation\n",
    "Now that the data is usable, we can now feature-engineer the data for the purpose of the recommendation system. In this project, the following process is conducted into a pipeline for feature generation.\n",
    "\n",
    "1. Sentiment Analysis\n",
    "2. One-hot Encoding\n",
    "3. TF-IDF\n",
    "4. Normalization"
   ]
  },
  {
   "cell_type": "markdown",
   "metadata": {},
   "source": [
    "#### Sentiment Analysis\n",
    "\n",
    "In our data, we will perform a simply sentiment analysis using subjectivity and polarity form `TextBlob` package.\n",
    "- **Subjectivity** (0,1): The amount of personal opinion and factual information contained in the text.\n",
    "- **Polarity** (-1,1): The degree of strong or clearly defined sentiment accounting for negation.\n",
    "\n",
    "We will then use one-hot encoding to list the sentiment of the song titles as one of the input."
   ]
  },
  {
   "cell_type": "code",
   "execution_count": 9,
   "metadata": {
    "ExecuteTime": {
     "end_time": "2023-12-04T19:52:36.328158200Z",
     "start_time": "2023-12-04T19:52:36.266472800Z"
    }
   },
   "outputs": [],
   "source": [
    "def getSubjectivity(text):\n",
    "  '''\n",
    "  Getting the Subjectivity using TextBlob\n",
    "  '''\n",
    "  return TextBlob(text).sentiment.subjectivity\n",
    "\n",
    "def getPolarity(text):\n",
    "  '''\n",
    "  Getting the Polarity using TextBlob\n",
    "  '''\n",
    "  return TextBlob(text).sentiment.polarity\n",
    "\n",
    "def getAnalysis(score, task=\"polarity\"):\n",
    "  '''\n",
    "  Categorizing the Polarity & Subjectivity score\n",
    "  '''\n",
    "  if task == \"subjectivity\":\n",
    "    if score < 1/3:\n",
    "      return \"low\"\n",
    "    elif score > 1/3:\n",
    "      return \"high\"\n",
    "    else:\n",
    "      return \"medium\"\n",
    "  else:\n",
    "    if score < 0:\n",
    "      return 'Negative'\n",
    "    elif score == 0:\n",
    "      return 'Neutral'\n",
    "    else:\n",
    "      return 'Positive'\n",
    "\n",
    "def sentiment_analysis(df, text_col):\n",
    "  '''\n",
    "  Perform sentiment analysis on text\n",
    "  ---\n",
    "  Input:\n",
    "  df (pandas dataframe): Dataframe of interest\n",
    "  text_col (str): column of interest\n",
    "  '''\n",
    "  df['subjectivity'] = df[text_col].apply(getSubjectivity).apply(lambda x: getAnalysis(x,\"subjectivity\"))\n",
    "  df['polarity'] = df[text_col].apply(getPolarity).apply(getAnalysis)\n",
    "  return df"
   ]
  },
  {
   "cell_type": "code",
   "execution_count": 10,
   "metadata": {
    "ExecuteTime": {
     "end_time": "2023-12-04T19:52:43.264302700Z",
     "start_time": "2023-12-04T19:52:36.280856200Z"
    }
   },
   "outputs": [
    {
     "data": {
      "text/plain": "         artist_name                      id  \\\n0       Andy Grammer  4nMlau89VAjmV7agkl7OY3   \n1              gnash  7vRriwrloYVaoAe3a9wJHe   \n2             Khalid  152lZdxL1OR0ZMW6KquMif   \n3  Chance The Rapper  3eze1OsZ1rqeXkKStNfTmi   \n4           Maroon 5  2QbFClFyhMMtiurUjuQlAe   \n\n                                  track_name  danceability  energy  key  \\\n0                                 Fresh Eyes         0.822   0.544    0   \n1  i hate u, i love u (feat. olivia o'brien)         0.492   0.275    6   \n2                                   Location         0.736   0.449    1   \n3    Juke Jam (feat. Justin Bieber & Towkio)         0.505   0.397    5   \n4    Don't Wanna Know (feat. Kendrick Lamar)         0.775   0.617    7   \n\n   loudness  mode  speechiness  acousticness  instrumentalness  liveness  \\\n0    -6.797     1       0.0332         0.562          0.000024    0.1440   \n1   -13.400     0       0.3000         0.687          0.000000    0.1010   \n2   -11.462     0       0.4250         0.330          0.000162    0.0898   \n3    -9.349     1       0.3240         0.716          0.000000    0.0853   \n4    -6.166     1       0.0701         0.341          0.000000    0.0985   \n\n   valence    tempo  artist_pop  \\\n0    0.861  122.047          74   \n1    0.180   92.600          70   \n2    0.326   80.126          89   \n3    0.558   95.063          80   \n4    0.485  100.048          88   \n\n                                              genres  track_pop  \\\n0  dance_pop modern_rock neo_mellow pop pop_rap p...          0   \n1                             electropop pop pop_rap         81   \n2                                        pop pop_r&b         81   \n3  chicago_rap conscious_hip_hop hip_hop pop_rap rap         68   \n4                                       pop pop_rock          0   \n\n                                         genres_list subjectivity  polarity  \n0  [dance_pop, modern_rock, neo_mellow, pop, pop_...         high  Positive  \n1                         [electropop, pop, pop_rap]         high  Negative  \n2                                     [pop, pop_r&b]          low   Neutral  \n3  [chicago_rap, conscious_hip_hop, hip_hop, pop_...          low   Neutral  \n4                                    [pop, pop_rock]          low   Neutral  ",
      "text/html": "<div>\n<style scoped>\n    .dataframe tbody tr th:only-of-type {\n        vertical-align: middle;\n    }\n\n    .dataframe tbody tr th {\n        vertical-align: top;\n    }\n\n    .dataframe thead th {\n        text-align: right;\n    }\n</style>\n<table border=\"1\" class=\"dataframe\">\n  <thead>\n    <tr style=\"text-align: right;\">\n      <th></th>\n      <th>artist_name</th>\n      <th>id</th>\n      <th>track_name</th>\n      <th>danceability</th>\n      <th>energy</th>\n      <th>key</th>\n      <th>loudness</th>\n      <th>mode</th>\n      <th>speechiness</th>\n      <th>acousticness</th>\n      <th>instrumentalness</th>\n      <th>liveness</th>\n      <th>valence</th>\n      <th>tempo</th>\n      <th>artist_pop</th>\n      <th>genres</th>\n      <th>track_pop</th>\n      <th>genres_list</th>\n      <th>subjectivity</th>\n      <th>polarity</th>\n    </tr>\n  </thead>\n  <tbody>\n    <tr>\n      <th>0</th>\n      <td>Andy Grammer</td>\n      <td>4nMlau89VAjmV7agkl7OY3</td>\n      <td>Fresh Eyes</td>\n      <td>0.822</td>\n      <td>0.544</td>\n      <td>0</td>\n      <td>-6.797</td>\n      <td>1</td>\n      <td>0.0332</td>\n      <td>0.562</td>\n      <td>0.000024</td>\n      <td>0.1440</td>\n      <td>0.861</td>\n      <td>122.047</td>\n      <td>74</td>\n      <td>dance_pop modern_rock neo_mellow pop pop_rap p...</td>\n      <td>0</td>\n      <td>[dance_pop, modern_rock, neo_mellow, pop, pop_...</td>\n      <td>high</td>\n      <td>Positive</td>\n    </tr>\n    <tr>\n      <th>1</th>\n      <td>gnash</td>\n      <td>7vRriwrloYVaoAe3a9wJHe</td>\n      <td>i hate u, i love u (feat. olivia o'brien)</td>\n      <td>0.492</td>\n      <td>0.275</td>\n      <td>6</td>\n      <td>-13.400</td>\n      <td>0</td>\n      <td>0.3000</td>\n      <td>0.687</td>\n      <td>0.000000</td>\n      <td>0.1010</td>\n      <td>0.180</td>\n      <td>92.600</td>\n      <td>70</td>\n      <td>electropop pop pop_rap</td>\n      <td>81</td>\n      <td>[electropop, pop, pop_rap]</td>\n      <td>high</td>\n      <td>Negative</td>\n    </tr>\n    <tr>\n      <th>2</th>\n      <td>Khalid</td>\n      <td>152lZdxL1OR0ZMW6KquMif</td>\n      <td>Location</td>\n      <td>0.736</td>\n      <td>0.449</td>\n      <td>1</td>\n      <td>-11.462</td>\n      <td>0</td>\n      <td>0.4250</td>\n      <td>0.330</td>\n      <td>0.000162</td>\n      <td>0.0898</td>\n      <td>0.326</td>\n      <td>80.126</td>\n      <td>89</td>\n      <td>pop pop_r&amp;b</td>\n      <td>81</td>\n      <td>[pop, pop_r&amp;b]</td>\n      <td>low</td>\n      <td>Neutral</td>\n    </tr>\n    <tr>\n      <th>3</th>\n      <td>Chance The Rapper</td>\n      <td>3eze1OsZ1rqeXkKStNfTmi</td>\n      <td>Juke Jam (feat. Justin Bieber &amp; Towkio)</td>\n      <td>0.505</td>\n      <td>0.397</td>\n      <td>5</td>\n      <td>-9.349</td>\n      <td>1</td>\n      <td>0.3240</td>\n      <td>0.716</td>\n      <td>0.000000</td>\n      <td>0.0853</td>\n      <td>0.558</td>\n      <td>95.063</td>\n      <td>80</td>\n      <td>chicago_rap conscious_hip_hop hip_hop pop_rap rap</td>\n      <td>68</td>\n      <td>[chicago_rap, conscious_hip_hop, hip_hop, pop_...</td>\n      <td>low</td>\n      <td>Neutral</td>\n    </tr>\n    <tr>\n      <th>4</th>\n      <td>Maroon 5</td>\n      <td>2QbFClFyhMMtiurUjuQlAe</td>\n      <td>Don't Wanna Know (feat. Kendrick Lamar)</td>\n      <td>0.775</td>\n      <td>0.617</td>\n      <td>7</td>\n      <td>-6.166</td>\n      <td>1</td>\n      <td>0.0701</td>\n      <td>0.341</td>\n      <td>0.000000</td>\n      <td>0.0985</td>\n      <td>0.485</td>\n      <td>100.048</td>\n      <td>88</td>\n      <td>pop pop_rock</td>\n      <td>0</td>\n      <td>[pop, pop_rock]</td>\n      <td>low</td>\n      <td>Neutral</td>\n    </tr>\n  </tbody>\n</table>\n</div>"
     },
     "execution_count": 10,
     "metadata": {},
     "output_type": "execute_result"
    }
   ],
   "source": [
    "# Show result\n",
    "sentiment = sentiment_analysis(song_df, \"track_name\")\n",
    "sentiment.head()"
   ]
  },
  {
   "cell_type": "markdown",
   "metadata": {},
   "source": [
    "#### One-hot encoding\n",
    "\n",
    "One-hot encoding is a method to transform categorical variables into a machine-understandable langauge. This is done by converting each category into a column so that each category can be represented as either True or False.\n"
   ]
  },
  {
   "cell_type": "markdown",
   "metadata": {},
   "source": [
    "![ohe_img](https://cdn-images-1.medium.com/max/1600/0*KVGWy9c3eo2RiAe3.png) "
   ]
  },
  {
   "cell_type": "code",
   "execution_count": 11,
   "metadata": {
    "ExecuteTime": {
     "end_time": "2023-12-04T19:52:43.285684600Z",
     "start_time": "2023-12-04T19:52:43.264302700Z"
    }
   },
   "outputs": [],
   "source": [
    "def ohe_prep(df, column, new_name): \n",
    "    ''' \n",
    "    Create One Hot Encoded features of a specific column\n",
    "    ---\n",
    "    Input: \n",
    "    df (pandas dataframe): Spotify Dataframe\n",
    "    column (str): Column to be processed\n",
    "    new_name (str): new column name to be used\n",
    "        \n",
    "    Output: \n",
    "    tf_df: One-hot encoded features \n",
    "    '''\n",
    "    \n",
    "    tf_df = pd.get_dummies(df[column])\n",
    "    feature_names = tf_df.columns\n",
    "    tf_df.columns = [new_name + \"|\" + str(i) for i in feature_names]\n",
    "    tf_df.reset_index(drop = True, inplace = True)    \n",
    "    return tf_df"
   ]
  },
  {
   "cell_type": "code",
   "execution_count": 12,
   "metadata": {
    "ExecuteTime": {
     "end_time": "2023-12-04T19:52:43.313537400Z",
     "start_time": "2023-12-04T19:52:43.274835Z"
    }
   },
   "outputs": [
    {
     "data": {
      "text/plain": "subject|high       True\nsubject|low       False\nsubject|medium    False\nName: 0, dtype: bool"
     },
     "execution_count": 12,
     "metadata": {},
     "output_type": "execute_result"
    }
   ],
   "source": [
    "# One-hot encoding for the subjectivity \n",
    "subject_ohe = ohe_prep(sentiment, 'subjectivity','subject')\n",
    "subject_ohe.iloc[0]"
   ]
  },
  {
   "cell_type": "markdown",
   "metadata": {},
   "source": [
    "#### TF-IDF\n",
    "TF-IDF, also known as Term Frequency-Inverse Document Frequency, is a tool to quantify words in a set of documents. The goal of TF-IDF is to show the importance of a word in the documents and the corpus. The general formula for calculating TF-IDF is:\n",
    "$$ \\text{Term Frequency}\\times\\text{Inverse Document Frequency}$$\n",
    "- **Term Frequency (TF)**: The number of times a term appears in each document divided by the total word count in the document.\n",
    "- **Inverse Document Frequency (IDF)**: The log value of the document frequency. Document frequency is the total number of documents where one term is present.\n",
    "\n",
    "The motivation is to find words that are not only important in each document but also accounting for the entire corpus. The log value was taken to decrease the impact of a large N, which would lead a very large IDF compared to TF. TF is focused on importance of a word in a document, while IDF is focused on the importance of a word across documents.\n",
    "\n",
    "In this project, the documents are analogous to songs. Therefore, we are calculating the most prominent genre in each song and their prevelent across songs to determine the weight of the genre. This is much better than simply one-hot encoding since there is no weights to determine how important and widespread each genre is, leading to overweighting on uncommon genres."
   ]
  },
  {
   "cell_type": "markdown",
   "metadata": {},
   "source": [
    "![tfidf_img](https://miro.medium.com/max/1400/1*V9ac4hLVyms79jl65Ym_Bw.jpeg)"
   ]
  },
  {
   "cell_type": "code",
   "execution_count": 13,
   "metadata": {
    "ExecuteTime": {
     "end_time": "2023-12-04T19:52:44.426735300Z",
     "start_time": "2023-12-04T19:52:43.288698800Z"
    }
   },
   "outputs": [
    {
     "data": {
      "text/plain": "genre|21st_century_classical    0.0\ngenre|432hz                     0.0\ngenre|_hip_hop                  0.0\ngenre|_roll                     0.0\ngenre|a_cappella                0.0\n                               ... \ngenre|zambian_hip_hop           0.0\ngenre|zhongguo_feng             0.0\ngenre|zolo                      0.0\ngenre|zouk                      0.0\ngenre|zouk_riddim               0.0\nName: 0, Length: 2062, dtype: float64"
     },
     "execution_count": 13,
     "metadata": {},
     "output_type": "execute_result"
    }
   ],
   "source": [
    "# TF-IDF implementation\n",
    "tfidf = TfidfVectorizer()\n",
    "tfidf_matrix =  tfidf.fit_transform(song_df['genres_list'].apply(lambda x: \" \".join(x)))\n",
    "genre_df = pd.DataFrame(tfidf_matrix.toarray())\n",
    "genre_df.columns = ['genre' + \"|\" + i for i in tfidf.get_feature_names_out()]\n",
    "genre_df.drop(columns='genre|unknown')\n",
    "genre_df.reset_index(drop = True, inplace=True)\n",
    "genre_df.iloc[0]"
   ]
  },
  {
   "cell_type": "markdown",
   "metadata": {},
   "source": [
    "#### Normalization\n",
    "Lastly, we need to normalize some variables. As shown below, the popularity variables are not normalized to 0 to 1, which would be problematic in the consine similarity function later on. In addition, the audio features are also not normalized. \n",
    "\n",
    "To solve this problem, we used the `MinMaxScaler()` function from `scikit learn` which automatically scales all values from the min and max into a range of 0 to 1."
   ]
  },
  {
   "cell_type": "code",
   "execution_count": 14,
   "metadata": {
    "ExecuteTime": {
     "end_time": "2023-12-04T19:52:44.442618Z",
     "start_time": "2023-12-04T19:52:44.430746300Z"
    }
   },
   "outputs": [
    {
     "name": "stdout",
     "output_type": "stream",
     "text": [
      "count    31711.000000\n",
      "mean        62.171076\n",
      "std         19.001881\n",
      "min          0.000000\n",
      "25%         52.000000\n",
      "50%         65.000000\n",
      "75%         76.000000\n",
      "max        100.000000\n",
      "Name: artist_pop, dtype: float64\n"
     ]
    }
   ],
   "source": [
    "# artist_pop distribution descriptive stats\n",
    "print(song_df['artist_pop'].describe())"
   ]
  },
  {
   "cell_type": "code",
   "execution_count": 15,
   "metadata": {
    "ExecuteTime": {
     "end_time": "2023-12-04T19:52:44.537506100Z",
     "start_time": "2023-12-04T19:52:44.442618Z"
    }
   },
   "outputs": [
    {
     "data": {
      "text/plain": "   artist_pop\n0        0.74\n1        0.70\n2        0.89\n3        0.80\n4        0.88",
      "text/html": "<div>\n<style scoped>\n    .dataframe tbody tr th:only-of-type {\n        vertical-align: middle;\n    }\n\n    .dataframe tbody tr th {\n        vertical-align: top;\n    }\n\n    .dataframe thead th {\n        text-align: right;\n    }\n</style>\n<table border=\"1\" class=\"dataframe\">\n  <thead>\n    <tr style=\"text-align: right;\">\n      <th></th>\n      <th>artist_pop</th>\n    </tr>\n  </thead>\n  <tbody>\n    <tr>\n      <th>0</th>\n      <td>0.74</td>\n    </tr>\n    <tr>\n      <th>1</th>\n      <td>0.70</td>\n    </tr>\n    <tr>\n      <th>2</th>\n      <td>0.89</td>\n    </tr>\n    <tr>\n      <th>3</th>\n      <td>0.80</td>\n    </tr>\n    <tr>\n      <th>4</th>\n      <td>0.88</td>\n    </tr>\n  </tbody>\n</table>\n</div>"
     },
     "execution_count": 15,
     "metadata": {},
     "output_type": "execute_result"
    }
   ],
   "source": [
    "# Normalization\n",
    "pop = song_df[[\"artist_pop\"]].reset_index(drop = True)\n",
    "scaler = MinMaxScaler()\n",
    "pop_scaled = pd.DataFrame(scaler.fit_transform(pop), columns = pop.columns)\n",
    "pop_scaled.head()"
   ]
  },
  {
   "cell_type": "markdown",
   "metadata": {},
   "source": [
    "#### Feature Generation\n",
    "Finally, we generate all features mentioned above using the following cell and concatenate all variables into a new dataframe."
   ]
  },
  {
   "cell_type": "code",
   "execution_count": 16,
   "metadata": {
    "ExecuteTime": {
     "end_time": "2023-12-04T19:52:44.537506100Z",
     "start_time": "2023-12-04T19:52:44.468357500Z"
    }
   },
   "outputs": [],
   "source": [
    "def create_feature_set(df, float_cols):\n",
    "    '''\n",
    "    Process spotify df to create a final set of features that will be used to generate recommendations\n",
    "    ---\n",
    "    Input: \n",
    "    df (pandas dataframe): Spotify Dataframe\n",
    "    float_cols (list(str)): List of float columns that will be scaled\n",
    "            \n",
    "    Output: \n",
    "    final (pandas dataframe): Final set of features \n",
    "    '''\n",
    "    \n",
    "    # Tfidf genre lists\n",
    "    tfidf = TfidfVectorizer()\n",
    "    tfidf_matrix =  tfidf.fit_transform(df['genres_list'].apply(lambda x: \" \".join(x)))\n",
    "    genre_df = pd.DataFrame(tfidf_matrix.toarray())\n",
    "    genre_df.columns = ['genre' + \"|\" + i for i in tfidf.get_feature_names_out()]\n",
    "    genre_df.drop(columns='genre|unknown') # drop unknown genre\n",
    "    genre_df.reset_index(drop = True, inplace=True)\n",
    "    \n",
    "    # Sentiment analysis\n",
    "    df = sentiment_analysis(df, \"track_name\")\n",
    "\n",
    "    # One-hot Encoding\n",
    "    subject_ohe = ohe_prep(df, 'subjectivity','subject') * 0.3\n",
    "    polar_ohe = ohe_prep(df, 'polarity','polar') * 0.5\n",
    "    key_ohe = ohe_prep(df, 'key','key') * 0.5\n",
    "    mode_ohe = ohe_prep(df, 'mode','mode') * 0.5\n",
    "\n",
    "    # Normalization\n",
    "    # Scale popularity columns\n",
    "    pop = df[[\"artist_pop\",\"track_pop\"]].reset_index(drop = True)\n",
    "    scaler = MinMaxScaler()\n",
    "    pop_scaled = pd.DataFrame(scaler.fit_transform(pop), columns = pop.columns) * 0.2 \n",
    "\n",
    "    # Scale audio columns\n",
    "    floats = df[float_cols].reset_index(drop = True)\n",
    "    scaler = MinMaxScaler()\n",
    "    floats_scaled = pd.DataFrame(scaler.fit_transform(floats), columns = floats.columns) * 0.2\n",
    "\n",
    "    # Concanenate all features\n",
    "    final = pd.concat([genre_df, floats_scaled, pop_scaled, subject_ohe, polar_ohe, key_ohe, mode_ohe], axis = 1)\n",
    "    \n",
    "    # Add song id\n",
    "    final['id']=df['id'].values\n",
    "    \n",
    "    return final"
   ]
  },
  {
   "cell_type": "code",
   "execution_count": 17,
   "metadata": {
    "ExecuteTime": {
     "end_time": "2023-12-04T19:53:19.096932200Z",
     "start_time": "2023-12-04T19:52:44.474379700Z"
    }
   },
   "outputs": [
    {
     "data": {
      "text/plain": "   genre|21st_century_classical  genre|432hz  genre|_hip_hop  genre|_roll  \\\n0                           0.0          0.0             0.0          0.0   \n1                           0.0          0.0             0.0          0.0   \n2                           0.0          0.0             0.0          0.0   \n3                           0.0          0.0             0.0          0.0   \n4                           0.0          0.0             0.0          0.0   \n\n   genre|a_cappella  genre|abstract_beats  genre|abstract_hip_hop  \\\n0               0.0                   0.0                     0.0   \n1               0.0                   0.0                     0.0   \n2               0.0                   0.0                     0.0   \n3               0.0                   0.0                     0.0   \n4               0.0                   0.0                     0.0   \n\n   genre|accordion  genre|acid_jazz  genre|acid_rock  ...  key|5  key|6  \\\n0              0.0              0.0              0.0  ...    0.0    0.0   \n1              0.0              0.0              0.0  ...    0.0    0.5   \n2              0.0              0.0              0.0  ...    0.0    0.0   \n3              0.0              0.0              0.0  ...    0.5    0.0   \n4              0.0              0.0              0.0  ...    0.0    0.0   \n\n   key|7  key|8  key|9  key|10  key|11  mode|0  mode|1                      id  \n0    0.0    0.0    0.0     0.0     0.0     0.0     0.5  4nMlau89VAjmV7agkl7OY3  \n1    0.0    0.0    0.0     0.0     0.0     0.5     0.0  7vRriwrloYVaoAe3a9wJHe  \n2    0.0    0.0    0.0     0.0     0.0     0.5     0.0  152lZdxL1OR0ZMW6KquMif  \n3    0.0    0.0    0.0     0.0     0.0     0.0     0.5  3eze1OsZ1rqeXkKStNfTmi  \n4    0.5    0.0    0.0     0.0     0.0     0.0     0.5  2QbFClFyhMMtiurUjuQlAe  \n\n[5 rows x 2094 columns]",
      "text/html": "<div>\n<style scoped>\n    .dataframe tbody tr th:only-of-type {\n        vertical-align: middle;\n    }\n\n    .dataframe tbody tr th {\n        vertical-align: top;\n    }\n\n    .dataframe thead th {\n        text-align: right;\n    }\n</style>\n<table border=\"1\" class=\"dataframe\">\n  <thead>\n    <tr style=\"text-align: right;\">\n      <th></th>\n      <th>genre|21st_century_classical</th>\n      <th>genre|432hz</th>\n      <th>genre|_hip_hop</th>\n      <th>genre|_roll</th>\n      <th>genre|a_cappella</th>\n      <th>genre|abstract_beats</th>\n      <th>genre|abstract_hip_hop</th>\n      <th>genre|accordion</th>\n      <th>genre|acid_jazz</th>\n      <th>genre|acid_rock</th>\n      <th>...</th>\n      <th>key|5</th>\n      <th>key|6</th>\n      <th>key|7</th>\n      <th>key|8</th>\n      <th>key|9</th>\n      <th>key|10</th>\n      <th>key|11</th>\n      <th>mode|0</th>\n      <th>mode|1</th>\n      <th>id</th>\n    </tr>\n  </thead>\n  <tbody>\n    <tr>\n      <th>0</th>\n      <td>0.0</td>\n      <td>0.0</td>\n      <td>0.0</td>\n      <td>0.0</td>\n      <td>0.0</td>\n      <td>0.0</td>\n      <td>0.0</td>\n      <td>0.0</td>\n      <td>0.0</td>\n      <td>0.0</td>\n      <td>...</td>\n      <td>0.0</td>\n      <td>0.0</td>\n      <td>0.0</td>\n      <td>0.0</td>\n      <td>0.0</td>\n      <td>0.0</td>\n      <td>0.0</td>\n      <td>0.0</td>\n      <td>0.5</td>\n      <td>4nMlau89VAjmV7agkl7OY3</td>\n    </tr>\n    <tr>\n      <th>1</th>\n      <td>0.0</td>\n      <td>0.0</td>\n      <td>0.0</td>\n      <td>0.0</td>\n      <td>0.0</td>\n      <td>0.0</td>\n      <td>0.0</td>\n      <td>0.0</td>\n      <td>0.0</td>\n      <td>0.0</td>\n      <td>...</td>\n      <td>0.0</td>\n      <td>0.5</td>\n      <td>0.0</td>\n      <td>0.0</td>\n      <td>0.0</td>\n      <td>0.0</td>\n      <td>0.0</td>\n      <td>0.5</td>\n      <td>0.0</td>\n      <td>7vRriwrloYVaoAe3a9wJHe</td>\n    </tr>\n    <tr>\n      <th>2</th>\n      <td>0.0</td>\n      <td>0.0</td>\n      <td>0.0</td>\n      <td>0.0</td>\n      <td>0.0</td>\n      <td>0.0</td>\n      <td>0.0</td>\n      <td>0.0</td>\n      <td>0.0</td>\n      <td>0.0</td>\n      <td>...</td>\n      <td>0.0</td>\n      <td>0.0</td>\n      <td>0.0</td>\n      <td>0.0</td>\n      <td>0.0</td>\n      <td>0.0</td>\n      <td>0.0</td>\n      <td>0.5</td>\n      <td>0.0</td>\n      <td>152lZdxL1OR0ZMW6KquMif</td>\n    </tr>\n    <tr>\n      <th>3</th>\n      <td>0.0</td>\n      <td>0.0</td>\n      <td>0.0</td>\n      <td>0.0</td>\n      <td>0.0</td>\n      <td>0.0</td>\n      <td>0.0</td>\n      <td>0.0</td>\n      <td>0.0</td>\n      <td>0.0</td>\n      <td>...</td>\n      <td>0.5</td>\n      <td>0.0</td>\n      <td>0.0</td>\n      <td>0.0</td>\n      <td>0.0</td>\n      <td>0.0</td>\n      <td>0.0</td>\n      <td>0.0</td>\n      <td>0.5</td>\n      <td>3eze1OsZ1rqeXkKStNfTmi</td>\n    </tr>\n    <tr>\n      <th>4</th>\n      <td>0.0</td>\n      <td>0.0</td>\n      <td>0.0</td>\n      <td>0.0</td>\n      <td>0.0</td>\n      <td>0.0</td>\n      <td>0.0</td>\n      <td>0.0</td>\n      <td>0.0</td>\n      <td>0.0</td>\n      <td>...</td>\n      <td>0.0</td>\n      <td>0.0</td>\n      <td>0.5</td>\n      <td>0.0</td>\n      <td>0.0</td>\n      <td>0.0</td>\n      <td>0.0</td>\n      <td>0.0</td>\n      <td>0.5</td>\n      <td>2QbFClFyhMMtiurUjuQlAe</td>\n    </tr>\n  </tbody>\n</table>\n<p>5 rows × 2094 columns</p>\n</div>"
     },
     "execution_count": 17,
     "metadata": {},
     "output_type": "execute_result"
    }
   ],
   "source": [
    "# Save the data and generate the features\n",
    "float_cols = song_df.dtypes[song_df.dtypes == 'float64'].index.values\n",
    "song_df.to_csv(\"data/allsong_data_train.csv\", index = False) \n",
    "\n",
    "# Generate features\n",
    "complete_feature_set = create_feature_set(song_df, float_cols=float_cols)  # one hot encoded, normalized, ...\n",
    "complete_feature_set.to_csv(\"data/complete_feature_train.csv\", index = False)\n",
    "complete_feature_set.head()"
   ]
  },
  {
   "cell_type": "markdown",
   "metadata": {},
   "source": [
    "### Content-based Filtering Recommendation\n",
    "The next step is to perform content-based filtering based on the song features we have. To do so, we concatenate all songs in a playlist into one summarization vector. Then, we find the similarity between the summarized playlist vector with all songs (not including the songs in the playlist) in the database. Then, we use the similarity measure retrieved the most relevant song that is not in the playlist to recommend it.\n",
    "\n",
    "There are thre steps in this section:\n",
    "1. **Choose playlist**: In this part, we retrieve a playlist\n",
    "2. **Extract features**: In this part, we retrieve playlist-of-interest features and non-playlist-of-interest features.\n",
    "3. **Find similarity**: In this part, we compare the summarized playlist features with all other songs.\n",
    "\n",
    "#### Choose Playlist\n",
    "In this part, we test the data with *Mom's playlist* in the dataset.\n"
   ]
  },
  {
   "cell_type": "code",
   "execution_count": 18,
   "metadata": {
    "ExecuteTime": {
     "end_time": "2023-12-04T19:53:19.674341400Z",
     "start_time": "2023-12-04T19:53:19.105946900Z"
    }
   },
   "outputs": [],
   "source": [
    "### This is the test data\n",
    "# playlistDF_test = pd.read_csv(\"../data/test_playlist.csv\")\n",
    "# playlistDF_test = playlist_preprocess(playlistDF_test)\n",
    "# playlistDF_test.head()\n",
    "\n",
    "# Test playlist:  Mom's playlist\n",
    "playlistDF_test = playlist_df[playlist_df['name'] == \"Mom's playlist\"]\n",
    "playlistDF_test.head()\n",
    "playlistDF_test.to_csv(\"data/test_playlist.csv\")"
   ]
  },
  {
   "cell_type": "markdown",
   "metadata": {},
   "source": [
    "#### Extract features\n",
    "The next step is to generate all the features. We need to first use the `id` to differentiate songs that are in the playlist and those that are not. Then, we simply add the features for all songs in the playlist together as a summary vector, which is similar to the figure below that was modified version of the work by [Madhav Thaker](https://github.com/madhavthaker/spotify-recommendation-system/blob/main/spotify-recommendation-engine.ipynb)."
   ]
  },
  {
   "cell_type": "markdown",
   "metadata": {},
   "source": [
    "![pipeline_img](flow.png)\n"
   ]
  },
  {
   "cell_type": "code",
   "execution_count": 19,
   "metadata": {
    "ExecuteTime": {
     "end_time": "2023-12-04T19:53:19.689982700Z",
     "start_time": "2023-12-04T19:53:19.122445600Z"
    }
   },
   "outputs": [],
   "source": [
    "def generate_playlist_feature(complete_feature_set, playlist_df):\n",
    "    '''\n",
    "    Summarize a user's playlist into a single vector\n",
    "    ---\n",
    "    Input: \n",
    "    complete_feature_set (pandas dataframe): Dataframe which includes all of the features for the spotify songs\n",
    "    playlist_df (pandas dataframe): playlist dataframe\n",
    "        \n",
    "    Output: \n",
    "    complete_feature_set_playlist_final (pandas series): single vector feature that summarizes the playlist\n",
    "    complete_feature_set_nonplaylist (pandas dataframe): \n",
    "    '''\n",
    "    \n",
    "    # Find song features in the playlist\n",
    "    complete_feature_set_playlist = complete_feature_set[complete_feature_set['id'].isin(playlist_df['id'].values)]\n",
    "    # Find all non-playlist song features\n",
    "    complete_feature_set_nonplaylist = complete_feature_set[~complete_feature_set['id'].isin(playlist_df['id'].values)]\n",
    "    complete_feature_set_playlist_final = complete_feature_set_playlist.drop(columns = \"id\")\n",
    "    return complete_feature_set_playlist_final.sum(axis = 0), complete_feature_set_nonplaylist"
   ]
  },
  {
   "cell_type": "code",
   "execution_count": 20,
   "metadata": {
    "ExecuteTime": {
     "end_time": "2023-12-04T19:53:19.689982700Z",
     "start_time": "2023-12-04T19:53:19.137667Z"
    }
   },
   "outputs": [],
   "source": [
    "# Generate the features\n",
    "complete_feature_set_playlist_vector, complete_feature_set_nonplaylist = generate_playlist_feature(complete_feature_set, playlistDF_test)"
   ]
  },
  {
   "cell_type": "code",
   "execution_count": 21,
   "metadata": {
    "ExecuteTime": {
     "end_time": "2023-12-04T19:53:19.689982700Z",
     "start_time": "2023-12-04T19:53:19.380644700Z"
    }
   },
   "outputs": [
    {
     "data": {
      "text/plain": "   genre|21st_century_classical  genre|432hz  genre|_hip_hop  genre|_roll  \\\n0                           0.0          0.0             0.0          0.0   \n1                           0.0          0.0             0.0          0.0   \n2                           0.0          0.0             0.0          0.0   \n3                           0.0          0.0             0.0          0.0   \n4                           0.0          0.0             0.0          0.0   \n\n   genre|a_cappella  genre|abstract_beats  genre|abstract_hip_hop  \\\n0               0.0                   0.0                     0.0   \n1               0.0                   0.0                     0.0   \n2               0.0                   0.0                     0.0   \n3               0.0                   0.0                     0.0   \n4               0.0                   0.0                     0.0   \n\n   genre|accordion  genre|acid_jazz  genre|acid_rock  ...  key|5  key|6  \\\n0              0.0              0.0              0.0  ...    0.0    0.0   \n1              0.0              0.0              0.0  ...    0.0    0.5   \n2              0.0              0.0              0.0  ...    0.0    0.0   \n3              0.0              0.0              0.0  ...    0.5    0.0   \n4              0.0              0.0              0.0  ...    0.0    0.0   \n\n   key|7  key|8  key|9  key|10  key|11  mode|0  mode|1                      id  \n0    0.0    0.0    0.0     0.0     0.0     0.0     0.5  4nMlau89VAjmV7agkl7OY3  \n1    0.0    0.0    0.0     0.0     0.0     0.5     0.0  7vRriwrloYVaoAe3a9wJHe  \n2    0.0    0.0    0.0     0.0     0.0     0.5     0.0  152lZdxL1OR0ZMW6KquMif  \n3    0.0    0.0    0.0     0.0     0.0     0.0     0.5  3eze1OsZ1rqeXkKStNfTmi  \n4    0.5    0.0    0.0     0.0     0.0     0.0     0.5  2QbFClFyhMMtiurUjuQlAe  \n\n[5 rows x 2094 columns]",
      "text/html": "<div>\n<style scoped>\n    .dataframe tbody tr th:only-of-type {\n        vertical-align: middle;\n    }\n\n    .dataframe tbody tr th {\n        vertical-align: top;\n    }\n\n    .dataframe thead th {\n        text-align: right;\n    }\n</style>\n<table border=\"1\" class=\"dataframe\">\n  <thead>\n    <tr style=\"text-align: right;\">\n      <th></th>\n      <th>genre|21st_century_classical</th>\n      <th>genre|432hz</th>\n      <th>genre|_hip_hop</th>\n      <th>genre|_roll</th>\n      <th>genre|a_cappella</th>\n      <th>genre|abstract_beats</th>\n      <th>genre|abstract_hip_hop</th>\n      <th>genre|accordion</th>\n      <th>genre|acid_jazz</th>\n      <th>genre|acid_rock</th>\n      <th>...</th>\n      <th>key|5</th>\n      <th>key|6</th>\n      <th>key|7</th>\n      <th>key|8</th>\n      <th>key|9</th>\n      <th>key|10</th>\n      <th>key|11</th>\n      <th>mode|0</th>\n      <th>mode|1</th>\n      <th>id</th>\n    </tr>\n  </thead>\n  <tbody>\n    <tr>\n      <th>0</th>\n      <td>0.0</td>\n      <td>0.0</td>\n      <td>0.0</td>\n      <td>0.0</td>\n      <td>0.0</td>\n      <td>0.0</td>\n      <td>0.0</td>\n      <td>0.0</td>\n      <td>0.0</td>\n      <td>0.0</td>\n      <td>...</td>\n      <td>0.0</td>\n      <td>0.0</td>\n      <td>0.0</td>\n      <td>0.0</td>\n      <td>0.0</td>\n      <td>0.0</td>\n      <td>0.0</td>\n      <td>0.0</td>\n      <td>0.5</td>\n      <td>4nMlau89VAjmV7agkl7OY3</td>\n    </tr>\n    <tr>\n      <th>1</th>\n      <td>0.0</td>\n      <td>0.0</td>\n      <td>0.0</td>\n      <td>0.0</td>\n      <td>0.0</td>\n      <td>0.0</td>\n      <td>0.0</td>\n      <td>0.0</td>\n      <td>0.0</td>\n      <td>0.0</td>\n      <td>...</td>\n      <td>0.0</td>\n      <td>0.5</td>\n      <td>0.0</td>\n      <td>0.0</td>\n      <td>0.0</td>\n      <td>0.0</td>\n      <td>0.0</td>\n      <td>0.5</td>\n      <td>0.0</td>\n      <td>7vRriwrloYVaoAe3a9wJHe</td>\n    </tr>\n    <tr>\n      <th>2</th>\n      <td>0.0</td>\n      <td>0.0</td>\n      <td>0.0</td>\n      <td>0.0</td>\n      <td>0.0</td>\n      <td>0.0</td>\n      <td>0.0</td>\n      <td>0.0</td>\n      <td>0.0</td>\n      <td>0.0</td>\n      <td>...</td>\n      <td>0.0</td>\n      <td>0.0</td>\n      <td>0.0</td>\n      <td>0.0</td>\n      <td>0.0</td>\n      <td>0.0</td>\n      <td>0.0</td>\n      <td>0.5</td>\n      <td>0.0</td>\n      <td>152lZdxL1OR0ZMW6KquMif</td>\n    </tr>\n    <tr>\n      <th>3</th>\n      <td>0.0</td>\n      <td>0.0</td>\n      <td>0.0</td>\n      <td>0.0</td>\n      <td>0.0</td>\n      <td>0.0</td>\n      <td>0.0</td>\n      <td>0.0</td>\n      <td>0.0</td>\n      <td>0.0</td>\n      <td>...</td>\n      <td>0.5</td>\n      <td>0.0</td>\n      <td>0.0</td>\n      <td>0.0</td>\n      <td>0.0</td>\n      <td>0.0</td>\n      <td>0.0</td>\n      <td>0.0</td>\n      <td>0.5</td>\n      <td>3eze1OsZ1rqeXkKStNfTmi</td>\n    </tr>\n    <tr>\n      <th>4</th>\n      <td>0.0</td>\n      <td>0.0</td>\n      <td>0.0</td>\n      <td>0.0</td>\n      <td>0.0</td>\n      <td>0.0</td>\n      <td>0.0</td>\n      <td>0.0</td>\n      <td>0.0</td>\n      <td>0.0</td>\n      <td>...</td>\n      <td>0.0</td>\n      <td>0.0</td>\n      <td>0.5</td>\n      <td>0.0</td>\n      <td>0.0</td>\n      <td>0.0</td>\n      <td>0.0</td>\n      <td>0.0</td>\n      <td>0.5</td>\n      <td>2QbFClFyhMMtiurUjuQlAe</td>\n    </tr>\n  </tbody>\n</table>\n<p>5 rows × 2094 columns</p>\n</div>"
     },
     "execution_count": 21,
     "metadata": {},
     "output_type": "execute_result"
    }
   ],
   "source": [
    "# Non-playlist features\n",
    "complete_feature_set_nonplaylist.head()"
   ]
  },
  {
   "cell_type": "code",
   "execution_count": 22,
   "metadata": {
    "ExecuteTime": {
     "end_time": "2023-12-04T19:53:19.689982700Z",
     "start_time": "2023-12-04T19:53:19.383966100Z"
    }
   },
   "outputs": [
    {
     "data": {
      "text/plain": "genre|21st_century_classical     0.0\ngenre|432hz                      0.0\ngenre|_hip_hop                   0.0\ngenre|_roll                      0.0\ngenre|a_cappella                 0.0\n                                ... \nkey|9                            3.5\nkey|10                           2.5\nkey|11                           3.0\nmode|0                           9.0\nmode|1                          30.0\nLength: 2093, dtype: float64"
     },
     "execution_count": 22,
     "metadata": {},
     "output_type": "execute_result"
    }
   ],
   "source": [
    "# Summarized playlist features\n",
    "complete_feature_set_playlist_vector"
   ]
  },
  {
   "cell_type": "markdown",
   "metadata": {},
   "source": [
    "#### Find similarity\n",
    "The last puzzle is to find the similarities between the summarized playlist vector and all other songs. There are many similarity measures but one of the most common measures is **cosine similarity**.\n",
    "\n",
    "Cosine similarity is a mathematical value that measures the similarities between vectors. Imagining our songs vectors as only two dimensional, the visual representation would look similar to the figure below. \n",
    "\n",
    "The mathematical formula can be expressed as:\n",
    "$$\\text{Cosine Sim}(A,B)=\\frac{A\\cdot B}{||A||\\times||B||}=\\frac{\\sum_{i=1}^n A_i\\times B_i}{\\sqrt{\\sum_{i=1}^n A_i^2}\\times \\sqrt{\\sum_{i=1}^n B_i^2}}$$\n",
    "\n",
    "In our code, we used the `cosine_similarity()` function from `scikit learn` to measure the similarity between each song and the summarized playlist vector.\n",
    "\n",
    "One big advatange of doing this is the time complexity of the whole algorithm is equal to a matrix multiplication since we are performing the cosine similarity measure between each row vector (song) and the column vector of summarized playlist feature."
   ]
  },
  {
   "cell_type": "markdown",
   "metadata": {},
   "source": [
    "![cossim_img](https://images.deepai.org/glossary-terms/cosine-similarity-1007790.jpg)"
   ]
  },
  {
   "cell_type": "code",
   "execution_count": 23,
   "metadata": {
    "ExecuteTime": {
     "end_time": "2023-12-04T19:53:19.689982700Z",
     "start_time": "2023-12-04T19:53:19.393951500Z"
    }
   },
   "outputs": [],
   "source": [
    "def generate_playlist_recos(df, features, nonplaylist_features):\n",
    "    '''\n",
    "    Generated recommendation based on songs in a specific playlist.\n",
    "    ---\n",
    "    Input: \n",
    "    df (pandas dataframe): spotify dataframe\n",
    "    features (pandas series): summarized playlist feature (single vector)\n",
    "    nonplaylist_features (pandas dataframe): feature set of songs that are not in the selected playlist\n",
    "        \n",
    "    Output: \n",
    "    non_playlist_df_top_40: Top 40 recommendations for that playlist\n",
    "    '''\n",
    "    \n",
    "    non_playlist_df = df[df['id'].isin(nonplaylist_features['id'].values)]  # all songs that are not in selected playlist\n",
    "    # Find cosine similarity between the playlist and the complete song set\n",
    "    non_playlist_df['sim'] = cosine_similarity(nonplaylist_features.drop('id', axis = 1).values, features.values.reshape(1, -1))[:,0]\n",
    "    non_playlist_df_top_40 = non_playlist_df.sort_values('sim', ascending = False).head(40)  # sort values according to cosine similarity to playlist\n",
    "    \n",
    "    return non_playlist_df_top_40"
   ]
  },
  {
   "cell_type": "code",
   "execution_count": 24,
   "metadata": {
    "ExecuteTime": {
     "end_time": "2023-12-04T19:53:20.951130Z",
     "start_time": "2023-12-04T19:53:19.405239Z"
    }
   },
   "outputs": [
    {
     "name": "stderr",
     "output_type": "stream",
     "text": [
      "C:\\Users\\Marja\\AppData\\Local\\Temp\\ipykernel_532\\2638696040.py:16: SettingWithCopyWarning: \n",
      "A value is trying to be set on a copy of a slice from a DataFrame.\n",
      "Try using .loc[row_indexer,col_indexer] = value instead\n",
      "\n",
      "See the caveats in the documentation: https://pandas.pydata.org/pandas-docs/stable/user_guide/indexing.html#returning-a-view-versus-a-copy\n",
      "  non_playlist_df['sim'] = cosine_similarity(nonplaylist_features.drop('id', axis = 1).values, features.values.reshape(1, -1))[:,0]\n"
     ]
    },
    {
     "data": {
      "text/plain": "            artist_name                      id              track_name  \\\n3884   American Authors  64ybTt8CKxPdeXBNnu08Op                Believer   \n7016   American Authors  1obisQNOcikRvTdStbW3pG       Go Big Or Go Home   \n49906          The 1975  51cd3bzVmLAjlnsSZn4ecW          She's American   \n3879         Neon Trees  0K1KOCeJBj3lpDYxEX9qP2  Sleeping With A Friend   \n987    American Authors  4gHD93RNqEhEh2NkYzl3x6                    Luck   \n49245     WALK THE MOON  71wT7aMCFPYfzutF66OLac                 Aquaman   \n7156         Neon Trees  1fBl642IhJOE5U319Gy2Go                  Animal   \n45284          The 1975  1v07ywlVYd02pOCnXRBDNA                Menswear   \n59573          The 1975  3xrwXWG4O9uhtRyAd3MCou               Heart Out   \n18898          The 1975  5hc71nKsUgtwQ3z52KEKQk           Somebody Else   \n\n       danceability  energy  key  loudness  mode  speechiness  acousticness  \\\n3884          0.583   0.968    1    -2.909     1       0.0368      0.001410   \n7016          0.665   0.875    1    -4.272     1       0.0426      0.009390   \n49906         0.647   0.857    1    -3.940     1       0.0547      0.167000   \n3879          0.582   0.882    2    -4.256     1       0.0355      0.001890   \n987           0.554   0.806    0    -3.463     1       0.0460      0.001770   \n49245         0.630   0.772    1    -6.986     1       0.0297      0.510000   \n7156          0.482   0.833    5    -5.611     1       0.0449      0.000346   \n45284         0.708   0.539    1   -10.281     1       0.0681      0.541000   \n59573         0.706   0.830    2    -4.918     1       0.0274      0.008220   \n18898         0.610   0.788    0    -5.724     1       0.0585      0.195000   \n\n       ...  liveness  valence    tempo  artist_pop  \\\n3884   ...    0.1300    0.910  119.999          70   \n7016   ...    0.0897    0.660  122.008          70   \n49906  ...    0.0763    0.550  115.976          78   \n3879   ...    0.3200    0.507  107.034          71   \n987    ...    0.1650    0.646  144.923          70   \n49245  ...    0.0881    0.721   99.964          72   \n7156   ...    0.3650    0.740  148.039          71   \n45284  ...    0.0856    0.159   97.015          78   \n59573  ...    0.0763    0.886  118.446          78   \n18898  ...    0.1530    0.472  101.045          78   \n\n                                                  genres track_pop  \\\n3884   indie_poptimism modern_alternative_rock modern...        55   \n7016   indie_poptimism modern_alternative_rock modern...        63   \n49906       modern_alternative_rock modern_rock pop rock        55   \n3879   modern_alternative_rock modern_rock pop pop_ro...        59   \n987    indie_poptimism modern_alternative_rock modern...        54   \n49245  dance_pop dance_rock indie_poptimism modern_al...        46   \n7156   modern_alternative_rock modern_rock pop pop_ro...        74   \n45284       modern_alternative_rock modern_rock pop rock        51   \n59573       modern_alternative_rock modern_rock pop rock        54   \n18898       modern_alternative_rock modern_rock pop rock        75   \n\n                                             genres_list subjectivity  \\\n3884   [indie_poptimism, modern_alternative_rock, mod...          low   \n7016   [indie_poptimism, modern_alternative_rock, mod...          low   \n49906  [modern_alternative_rock, modern_rock, pop, rock]          low   \n3879   [modern_alternative_rock, modern_rock, pop, po...          low   \n987    [indie_poptimism, modern_alternative_rock, mod...          low   \n49245  [dance_pop, dance_rock, indie_poptimism, moder...          low   \n7156   [modern_alternative_rock, modern_rock, pop, po...          low   \n45284  [modern_alternative_rock, modern_rock, pop, rock]          low   \n59573  [modern_alternative_rock, modern_rock, pop, rock]          low   \n18898  [modern_alternative_rock, modern_rock, pop, rock]          low   \n\n      polarity       sim  \n3884   Neutral  0.783844  \n7016   Neutral  0.781557  \n49906  Neutral  0.768624  \n3879   Neutral  0.763292  \n987    Neutral  0.762998  \n49245  Neutral  0.756722  \n7156   Neutral  0.754722  \n45284  Neutral  0.754417  \n59573  Neutral  0.751320  \n18898  Neutral  0.748799  \n\n[10 rows x 21 columns]",
      "text/html": "<div>\n<style scoped>\n    .dataframe tbody tr th:only-of-type {\n        vertical-align: middle;\n    }\n\n    .dataframe tbody tr th {\n        vertical-align: top;\n    }\n\n    .dataframe thead th {\n        text-align: right;\n    }\n</style>\n<table border=\"1\" class=\"dataframe\">\n  <thead>\n    <tr style=\"text-align: right;\">\n      <th></th>\n      <th>artist_name</th>\n      <th>id</th>\n      <th>track_name</th>\n      <th>danceability</th>\n      <th>energy</th>\n      <th>key</th>\n      <th>loudness</th>\n      <th>mode</th>\n      <th>speechiness</th>\n      <th>acousticness</th>\n      <th>...</th>\n      <th>liveness</th>\n      <th>valence</th>\n      <th>tempo</th>\n      <th>artist_pop</th>\n      <th>genres</th>\n      <th>track_pop</th>\n      <th>genres_list</th>\n      <th>subjectivity</th>\n      <th>polarity</th>\n      <th>sim</th>\n    </tr>\n  </thead>\n  <tbody>\n    <tr>\n      <th>3884</th>\n      <td>American Authors</td>\n      <td>64ybTt8CKxPdeXBNnu08Op</td>\n      <td>Believer</td>\n      <td>0.583</td>\n      <td>0.968</td>\n      <td>1</td>\n      <td>-2.909</td>\n      <td>1</td>\n      <td>0.0368</td>\n      <td>0.001410</td>\n      <td>...</td>\n      <td>0.1300</td>\n      <td>0.910</td>\n      <td>119.999</td>\n      <td>70</td>\n      <td>indie_poptimism modern_alternative_rock modern...</td>\n      <td>55</td>\n      <td>[indie_poptimism, modern_alternative_rock, mod...</td>\n      <td>low</td>\n      <td>Neutral</td>\n      <td>0.783844</td>\n    </tr>\n    <tr>\n      <th>7016</th>\n      <td>American Authors</td>\n      <td>1obisQNOcikRvTdStbW3pG</td>\n      <td>Go Big Or Go Home</td>\n      <td>0.665</td>\n      <td>0.875</td>\n      <td>1</td>\n      <td>-4.272</td>\n      <td>1</td>\n      <td>0.0426</td>\n      <td>0.009390</td>\n      <td>...</td>\n      <td>0.0897</td>\n      <td>0.660</td>\n      <td>122.008</td>\n      <td>70</td>\n      <td>indie_poptimism modern_alternative_rock modern...</td>\n      <td>63</td>\n      <td>[indie_poptimism, modern_alternative_rock, mod...</td>\n      <td>low</td>\n      <td>Neutral</td>\n      <td>0.781557</td>\n    </tr>\n    <tr>\n      <th>49906</th>\n      <td>The 1975</td>\n      <td>51cd3bzVmLAjlnsSZn4ecW</td>\n      <td>She's American</td>\n      <td>0.647</td>\n      <td>0.857</td>\n      <td>1</td>\n      <td>-3.940</td>\n      <td>1</td>\n      <td>0.0547</td>\n      <td>0.167000</td>\n      <td>...</td>\n      <td>0.0763</td>\n      <td>0.550</td>\n      <td>115.976</td>\n      <td>78</td>\n      <td>modern_alternative_rock modern_rock pop rock</td>\n      <td>55</td>\n      <td>[modern_alternative_rock, modern_rock, pop, rock]</td>\n      <td>low</td>\n      <td>Neutral</td>\n      <td>0.768624</td>\n    </tr>\n    <tr>\n      <th>3879</th>\n      <td>Neon Trees</td>\n      <td>0K1KOCeJBj3lpDYxEX9qP2</td>\n      <td>Sleeping With A Friend</td>\n      <td>0.582</td>\n      <td>0.882</td>\n      <td>2</td>\n      <td>-4.256</td>\n      <td>1</td>\n      <td>0.0355</td>\n      <td>0.001890</td>\n      <td>...</td>\n      <td>0.3200</td>\n      <td>0.507</td>\n      <td>107.034</td>\n      <td>71</td>\n      <td>modern_alternative_rock modern_rock pop pop_ro...</td>\n      <td>59</td>\n      <td>[modern_alternative_rock, modern_rock, pop, po...</td>\n      <td>low</td>\n      <td>Neutral</td>\n      <td>0.763292</td>\n    </tr>\n    <tr>\n      <th>987</th>\n      <td>American Authors</td>\n      <td>4gHD93RNqEhEh2NkYzl3x6</td>\n      <td>Luck</td>\n      <td>0.554</td>\n      <td>0.806</td>\n      <td>0</td>\n      <td>-3.463</td>\n      <td>1</td>\n      <td>0.0460</td>\n      <td>0.001770</td>\n      <td>...</td>\n      <td>0.1650</td>\n      <td>0.646</td>\n      <td>144.923</td>\n      <td>70</td>\n      <td>indie_poptimism modern_alternative_rock modern...</td>\n      <td>54</td>\n      <td>[indie_poptimism, modern_alternative_rock, mod...</td>\n      <td>low</td>\n      <td>Neutral</td>\n      <td>0.762998</td>\n    </tr>\n    <tr>\n      <th>49245</th>\n      <td>WALK THE MOON</td>\n      <td>71wT7aMCFPYfzutF66OLac</td>\n      <td>Aquaman</td>\n      <td>0.630</td>\n      <td>0.772</td>\n      <td>1</td>\n      <td>-6.986</td>\n      <td>1</td>\n      <td>0.0297</td>\n      <td>0.510000</td>\n      <td>...</td>\n      <td>0.0881</td>\n      <td>0.721</td>\n      <td>99.964</td>\n      <td>72</td>\n      <td>dance_pop dance_rock indie_poptimism modern_al...</td>\n      <td>46</td>\n      <td>[dance_pop, dance_rock, indie_poptimism, moder...</td>\n      <td>low</td>\n      <td>Neutral</td>\n      <td>0.756722</td>\n    </tr>\n    <tr>\n      <th>7156</th>\n      <td>Neon Trees</td>\n      <td>1fBl642IhJOE5U319Gy2Go</td>\n      <td>Animal</td>\n      <td>0.482</td>\n      <td>0.833</td>\n      <td>5</td>\n      <td>-5.611</td>\n      <td>1</td>\n      <td>0.0449</td>\n      <td>0.000346</td>\n      <td>...</td>\n      <td>0.3650</td>\n      <td>0.740</td>\n      <td>148.039</td>\n      <td>71</td>\n      <td>modern_alternative_rock modern_rock pop pop_ro...</td>\n      <td>74</td>\n      <td>[modern_alternative_rock, modern_rock, pop, po...</td>\n      <td>low</td>\n      <td>Neutral</td>\n      <td>0.754722</td>\n    </tr>\n    <tr>\n      <th>45284</th>\n      <td>The 1975</td>\n      <td>1v07ywlVYd02pOCnXRBDNA</td>\n      <td>Menswear</td>\n      <td>0.708</td>\n      <td>0.539</td>\n      <td>1</td>\n      <td>-10.281</td>\n      <td>1</td>\n      <td>0.0681</td>\n      <td>0.541000</td>\n      <td>...</td>\n      <td>0.0856</td>\n      <td>0.159</td>\n      <td>97.015</td>\n      <td>78</td>\n      <td>modern_alternative_rock modern_rock pop rock</td>\n      <td>51</td>\n      <td>[modern_alternative_rock, modern_rock, pop, rock]</td>\n      <td>low</td>\n      <td>Neutral</td>\n      <td>0.754417</td>\n    </tr>\n    <tr>\n      <th>59573</th>\n      <td>The 1975</td>\n      <td>3xrwXWG4O9uhtRyAd3MCou</td>\n      <td>Heart Out</td>\n      <td>0.706</td>\n      <td>0.830</td>\n      <td>2</td>\n      <td>-4.918</td>\n      <td>1</td>\n      <td>0.0274</td>\n      <td>0.008220</td>\n      <td>...</td>\n      <td>0.0763</td>\n      <td>0.886</td>\n      <td>118.446</td>\n      <td>78</td>\n      <td>modern_alternative_rock modern_rock pop rock</td>\n      <td>54</td>\n      <td>[modern_alternative_rock, modern_rock, pop, rock]</td>\n      <td>low</td>\n      <td>Neutral</td>\n      <td>0.751320</td>\n    </tr>\n    <tr>\n      <th>18898</th>\n      <td>The 1975</td>\n      <td>5hc71nKsUgtwQ3z52KEKQk</td>\n      <td>Somebody Else</td>\n      <td>0.610</td>\n      <td>0.788</td>\n      <td>0</td>\n      <td>-5.724</td>\n      <td>1</td>\n      <td>0.0585</td>\n      <td>0.195000</td>\n      <td>...</td>\n      <td>0.1530</td>\n      <td>0.472</td>\n      <td>101.045</td>\n      <td>78</td>\n      <td>modern_alternative_rock modern_rock pop rock</td>\n      <td>75</td>\n      <td>[modern_alternative_rock, modern_rock, pop, rock]</td>\n      <td>low</td>\n      <td>Neutral</td>\n      <td>0.748799</td>\n    </tr>\n  </tbody>\n</table>\n<p>10 rows × 21 columns</p>\n</div>"
     },
     "execution_count": 24,
     "metadata": {},
     "output_type": "execute_result"
    }
   ],
   "source": [
    "# Generate top 10 recommendation\n",
    "recommend = generate_playlist_recos(song_df, complete_feature_set_playlist_vector, complete_feature_set_nonplaylist)\n",
    "recommend.head(10)"
   ]
  },
  {
   "cell_type": "code",
   "execution_count": 25,
   "metadata": {
    "ExecuteTime": {
     "end_time": "2023-12-04T19:53:20.960977300Z",
     "start_time": "2023-12-04T19:53:20.929092400Z"
    }
   },
   "outputs": [
    {
     "data": {
      "text/plain": "             artist_name                                         track_name\n24537             Audien                                   Something Better\n24538        John Legend                                          All of Me\n24539         Aloe Blacc                              Wake Me Up - Acoustic\n24540      Astoria Kings                                         Come Alive\n24541    Imagine Dragons               Nothing Left To Say / Rocks - Medley\n24542   American Authors                                Best Day Of My Life\n24543      You Me At Six                    Stay With Me - Acoustic Version\n24544         Aloe Blacc                                    I Need a Dollar\n24545      Anthem Lights  Best of 2012: Payphone / Call Me Maybe / Wide ...\n24546  Pharrell Williams                     Happy - From \"Despicable Me 2\"\n24547             Hozier                                  Jackie And Wilson\n24548         Neon Trees                                               1983\n24549     Built By Titan                    Collide (feat. Jonathan Thulin)\n24550        The Beatles                  Twist And Shout - Remastered 2009\n24551        The Hooters                                      And We Danced\n24552       Atlas Genius                                          Molecules\n24553               Itch                            Laugh (feat. Matisyahu)\n24554             Avicii                            Wake Me Up - Radio Edit\n24555       The Darkness                   I Believe In A Thing Called Love\n24556        George Ezra                                           Budapest",
      "text/html": "<div>\n<style scoped>\n    .dataframe tbody tr th:only-of-type {\n        vertical-align: middle;\n    }\n\n    .dataframe tbody tr th {\n        vertical-align: top;\n    }\n\n    .dataframe thead th {\n        text-align: right;\n    }\n</style>\n<table border=\"1\" class=\"dataframe\">\n  <thead>\n    <tr style=\"text-align: right;\">\n      <th></th>\n      <th>artist_name</th>\n      <th>track_name</th>\n    </tr>\n  </thead>\n  <tbody>\n    <tr>\n      <th>24537</th>\n      <td>Audien</td>\n      <td>Something Better</td>\n    </tr>\n    <tr>\n      <th>24538</th>\n      <td>John Legend</td>\n      <td>All of Me</td>\n    </tr>\n    <tr>\n      <th>24539</th>\n      <td>Aloe Blacc</td>\n      <td>Wake Me Up - Acoustic</td>\n    </tr>\n    <tr>\n      <th>24540</th>\n      <td>Astoria Kings</td>\n      <td>Come Alive</td>\n    </tr>\n    <tr>\n      <th>24541</th>\n      <td>Imagine Dragons</td>\n      <td>Nothing Left To Say / Rocks - Medley</td>\n    </tr>\n    <tr>\n      <th>24542</th>\n      <td>American Authors</td>\n      <td>Best Day Of My Life</td>\n    </tr>\n    <tr>\n      <th>24543</th>\n      <td>You Me At Six</td>\n      <td>Stay With Me - Acoustic Version</td>\n    </tr>\n    <tr>\n      <th>24544</th>\n      <td>Aloe Blacc</td>\n      <td>I Need a Dollar</td>\n    </tr>\n    <tr>\n      <th>24545</th>\n      <td>Anthem Lights</td>\n      <td>Best of 2012: Payphone / Call Me Maybe / Wide ...</td>\n    </tr>\n    <tr>\n      <th>24546</th>\n      <td>Pharrell Williams</td>\n      <td>Happy - From \"Despicable Me 2\"</td>\n    </tr>\n    <tr>\n      <th>24547</th>\n      <td>Hozier</td>\n      <td>Jackie And Wilson</td>\n    </tr>\n    <tr>\n      <th>24548</th>\n      <td>Neon Trees</td>\n      <td>1983</td>\n    </tr>\n    <tr>\n      <th>24549</th>\n      <td>Built By Titan</td>\n      <td>Collide (feat. Jonathan Thulin)</td>\n    </tr>\n    <tr>\n      <th>24550</th>\n      <td>The Beatles</td>\n      <td>Twist And Shout - Remastered 2009</td>\n    </tr>\n    <tr>\n      <th>24551</th>\n      <td>The Hooters</td>\n      <td>And We Danced</td>\n    </tr>\n    <tr>\n      <th>24552</th>\n      <td>Atlas Genius</td>\n      <td>Molecules</td>\n    </tr>\n    <tr>\n      <th>24553</th>\n      <td>Itch</td>\n      <td>Laugh (feat. Matisyahu)</td>\n    </tr>\n    <tr>\n      <th>24554</th>\n      <td>Avicii</td>\n      <td>Wake Me Up - Radio Edit</td>\n    </tr>\n    <tr>\n      <th>24555</th>\n      <td>The Darkness</td>\n      <td>I Believe In A Thing Called Love</td>\n    </tr>\n    <tr>\n      <th>24556</th>\n      <td>George Ezra</td>\n      <td>Budapest</td>\n    </tr>\n  </tbody>\n</table>\n</div>"
     },
     "execution_count": 25,
     "metadata": {},
     "output_type": "execute_result"
    }
   ],
   "source": [
    "playlistDF_test[[\"artist_name\",\"track_name\"]][:20]"
   ]
  },
  {
   "cell_type": "markdown",
   "source": [
    "Create function that combines all steps."
   ],
   "metadata": {
    "collapsed": false
   }
  },
  {
   "cell_type": "code",
   "execution_count": 37,
   "outputs": [],
   "source": [
    "def recommend(pl_df, feature_set, n):\n",
    "    \"\"\"\n",
    "    One-step implementation for recommending songs for a playlist.\n",
    "    :param n: number of desired recommendations\n",
    "    :param pl_df: The playlist DataFrame for which the recommendations should be made.\n",
    "    :param feature_set: The preprocessed data where recommendations are searched in.\n",
    "    :return: \n",
    "    \"\"\"\n",
    "    # Generate the features\n",
    "    feature_set_playlist_vector, feature_set_nonplaylist = generate_playlist_feature(feature_set, pl_df)\n",
    "    # Generate top 10 recommendation\n",
    "    recommendations = generate_playlist_recos(song_df, complete_feature_set_playlist_vector, complete_feature_set_nonplaylist)\n",
    "    return recommendations[:n]"
   ],
   "metadata": {
    "collapsed": false,
    "ExecuteTime": {
     "end_time": "2023-12-04T20:10:28.015424200Z",
     "start_time": "2023-12-04T20:10:28.014379Z"
    }
   }
  },
  {
   "cell_type": "markdown",
   "source": [
    "## Test Data\n",
    "\n",
    "For comparison reasons of our evaluation, we need to create the allsong_data file and the complete_feature file for only the test data as well."
   ],
   "metadata": {
    "collapsed": false
   }
  },
  {
   "cell_type": "code",
   "execution_count": 26,
   "outputs": [],
   "source": [
    "playlist_df_test = pd.read_csv(\"data/processed_data_test.csv\")\n",
    "playlist_df_test.drop(columns=[\"Unnamed: 0\", 'Unnamed: 0.1'], inplace = True)  # remove unneccessary columns\n",
    "song_df_test = playlist_preprocess(playlist_df_test)\n",
    "\n",
    "# Save the data and generate the features\n",
    "float_cols = song_df_test.dtypes[song_df.dtypes == 'float64'].index.values\n",
    "song_df_test.to_csv(\"data/allsong_data_test.csv\", index = False) \n",
    "\n",
    "# Generate features\n",
    "complete_feature_set = create_feature_set(song_df_test, float_cols=float_cols)  # one hot encoded, normalized, ...\n",
    "complete_feature_set.to_csv(\"data/complete_feature_test.csv\", index = False)"
   ],
   "metadata": {
    "collapsed": false,
    "ExecuteTime": {
     "end_time": "2023-12-04T19:53:24.823778400Z",
     "start_time": "2023-12-04T19:53:20.950622Z"
    }
   }
  },
  {
   "cell_type": "markdown",
   "source": [
    "# DEMO"
   ],
   "metadata": {
    "collapsed": false
   }
  },
  {
   "cell_type": "code",
   "execution_count": 41,
   "outputs": [
    {
     "data": {
      "text/plain": "array([' CHiLl', ' Frozen', ' indie rock', '#Relaxed', '#Workout',\n       '#boostyourrun', '#mood', '( ͡° ͜ʖ ͡°)', '((chris))',\n       '*** good stuff'], dtype=object)"
     },
     "execution_count": 41,
     "metadata": {},
     "output_type": "execute_result"
    }
   ],
   "source": [
    "playlist_df['name'].unique()[:10]"
   ],
   "metadata": {
    "collapsed": false,
    "ExecuteTime": {
     "end_time": "2023-12-04T20:12:14.348598900Z",
     "start_time": "2023-12-04T20:12:14.338075400Z"
    }
   }
  },
  {
   "cell_type": "markdown",
   "source": [
    "Load a playlist, choose by its name."
   ],
   "metadata": {
    "collapsed": false
   }
  },
  {
   "cell_type": "code",
   "execution_count": 42,
   "outputs": [
    {
     "data": {
      "text/plain": "     Unnamed: 0.2  pos   artist_name               track_uri  \\\n127         33479    0    The Weeknd  5KIfOGEy5DM2TaT0ph5nYM   \n128         33480    1      R. Kelly  4QKhhlgwDnXBwk23S0dzJd   \n129         33481    2  Fall Out Boy  4ZzbcSm6MxnC15BcDqEYyK   \n130          9835   28    Luke Bryan  5g15o2Sm55Hn9ShK5yEXgp   \n131         12102   20  Gwen Stefani  6RcQOut9fWL6FSqeIr5M1r   \n\n                                artist_uri  \\\n127  spotify:artist:1Xyo4u8uXC1ZmMpatF05PJ   \n128  spotify:artist:2mxe0TnaNL039ysAj51xPQ   \n129  spotify:artist:4UXqAaa6dQYAk18Lv7PEgX   \n130  spotify:artist:0BvkDsjIUla7X0k6CSWh1I   \n131  spotify:artist:4yiQZ8tQPux8cPriYMWUFP   \n\n                                   track_name  \\\n127  Can't Feel My Face - Martin Garrix Remix   \n128                  Ignition - Viceroy Remix   \n129                   Centuries - Gazzo Remix   \n130                          Kick The Dust Up   \n131                            Hollaback Girl   \n\n                                album_uri  duration_ms_x  \\\n127  spotify:album:36yJ6fcaSCVsK1tybnNizj         253933   \n128  spotify:album:1HHUkEqNzuhRcGX2SC2kYd         223707   \n129  spotify:album:4dFub54EO7uoweA7OYoZd7         259600   \n130  spotify:album:0WtCqmpVN7rRGfDMSWSXBA         190586   \n131  spotify:album:1HduTydfaUY3idi2YgT3mb         199906   \n\n                    album_name      name  ...                      id  \\\n127  Beauty Behind The Madness  #Workout  ...  5KIfOGEy5DM2TaT0ph5nYM   \n128                   Ignition  #Workout  ...  4QKhhlgwDnXBwk23S0dzJd   \n129                  Centuries  #Workout  ...  4ZzbcSm6MxnC15BcDqEYyK   \n130            Kill The Lights  #Workout  ...  5g15o2Sm55Hn9ShK5yEXgp   \n131      Love Angel Music Baby  #Workout  ...  6RcQOut9fWL6FSqeIr5M1r   \n\n                                      uri  \\\n127  spotify:track:5KIfOGEy5DM2TaT0ph5nYM   \n128  spotify:track:4QKhhlgwDnXBwk23S0dzJd   \n129  spotify:track:4ZzbcSm6MxnC15BcDqEYyK   \n130  spotify:track:5g15o2Sm55Hn9ShK5yEXgp   \n131  spotify:track:6RcQOut9fWL6FSqeIr5M1r   \n\n                                            track_href  \\\n127  https://api.spotify.com/v1/tracks/5KIfOGEy5DM2...   \n128  https://api.spotify.com/v1/tracks/4QKhhlgwDnXB...   \n129  https://api.spotify.com/v1/tracks/4ZzbcSm6MxnC...   \n130  https://api.spotify.com/v1/tracks/5g15o2Sm55Hn...   \n131  https://api.spotify.com/v1/tracks/6RcQOut9fWL6...   \n\n                                          analysis_url  duration_ms_y  \\\n127  https://api.spotify.com/v1/audio-analysis/5KIf...         253933   \n128  https://api.spotify.com/v1/audio-analysis/4QKh...         223707   \n129  https://api.spotify.com/v1/audio-analysis/4Zzb...         259600   \n130  https://api.spotify.com/v1/audio-analysis/5g15...         190587   \n131  https://api.spotify.com/v1/audio-analysis/6RcQ...         199907   \n\n     time_signature  artist_pop  \\\n127               4          96   \n128               4          70   \n129               4          81   \n130               4          78   \n131               4          78   \n\n                                                genres  track_pop  \\\n127         canadian_contemporary_r&b canadian_pop pop         13   \n128                                            unknown         39   \n129                               emo modern_rock rock         37   \n130          contemporary_country country country_road         66   \n131  dance_pop hip_pop pop post-teen_pop urban_cont...          1   \n\n                                          artists_song  \n127  The WeekndCan't Feel My Face - Martin Garrix R...  \n128                   R. KellyIgnition - Viceroy Remix  \n129                Fall Out BoyCenturies - Gazzo Remix  \n130                         Luke BryanKick The Dust Up  \n131                         Gwen StefaniHollaback Girl  \n\n[5 rows x 32 columns]",
      "text/html": "<div>\n<style scoped>\n    .dataframe tbody tr th:only-of-type {\n        vertical-align: middle;\n    }\n\n    .dataframe tbody tr th {\n        vertical-align: top;\n    }\n\n    .dataframe thead th {\n        text-align: right;\n    }\n</style>\n<table border=\"1\" class=\"dataframe\">\n  <thead>\n    <tr style=\"text-align: right;\">\n      <th></th>\n      <th>Unnamed: 0.2</th>\n      <th>pos</th>\n      <th>artist_name</th>\n      <th>track_uri</th>\n      <th>artist_uri</th>\n      <th>track_name</th>\n      <th>album_uri</th>\n      <th>duration_ms_x</th>\n      <th>album_name</th>\n      <th>name</th>\n      <th>...</th>\n      <th>id</th>\n      <th>uri</th>\n      <th>track_href</th>\n      <th>analysis_url</th>\n      <th>duration_ms_y</th>\n      <th>time_signature</th>\n      <th>artist_pop</th>\n      <th>genres</th>\n      <th>track_pop</th>\n      <th>artists_song</th>\n    </tr>\n  </thead>\n  <tbody>\n    <tr>\n      <th>127</th>\n      <td>33479</td>\n      <td>0</td>\n      <td>The Weeknd</td>\n      <td>5KIfOGEy5DM2TaT0ph5nYM</td>\n      <td>spotify:artist:1Xyo4u8uXC1ZmMpatF05PJ</td>\n      <td>Can't Feel My Face - Martin Garrix Remix</td>\n      <td>spotify:album:36yJ6fcaSCVsK1tybnNizj</td>\n      <td>253933</td>\n      <td>Beauty Behind The Madness</td>\n      <td>#Workout</td>\n      <td>...</td>\n      <td>5KIfOGEy5DM2TaT0ph5nYM</td>\n      <td>spotify:track:5KIfOGEy5DM2TaT0ph5nYM</td>\n      <td>https://api.spotify.com/v1/tracks/5KIfOGEy5DM2...</td>\n      <td>https://api.spotify.com/v1/audio-analysis/5KIf...</td>\n      <td>253933</td>\n      <td>4</td>\n      <td>96</td>\n      <td>canadian_contemporary_r&amp;b canadian_pop pop</td>\n      <td>13</td>\n      <td>The WeekndCan't Feel My Face - Martin Garrix R...</td>\n    </tr>\n    <tr>\n      <th>128</th>\n      <td>33480</td>\n      <td>1</td>\n      <td>R. Kelly</td>\n      <td>4QKhhlgwDnXBwk23S0dzJd</td>\n      <td>spotify:artist:2mxe0TnaNL039ysAj51xPQ</td>\n      <td>Ignition - Viceroy Remix</td>\n      <td>spotify:album:1HHUkEqNzuhRcGX2SC2kYd</td>\n      <td>223707</td>\n      <td>Ignition</td>\n      <td>#Workout</td>\n      <td>...</td>\n      <td>4QKhhlgwDnXBwk23S0dzJd</td>\n      <td>spotify:track:4QKhhlgwDnXBwk23S0dzJd</td>\n      <td>https://api.spotify.com/v1/tracks/4QKhhlgwDnXB...</td>\n      <td>https://api.spotify.com/v1/audio-analysis/4QKh...</td>\n      <td>223707</td>\n      <td>4</td>\n      <td>70</td>\n      <td>unknown</td>\n      <td>39</td>\n      <td>R. KellyIgnition - Viceroy Remix</td>\n    </tr>\n    <tr>\n      <th>129</th>\n      <td>33481</td>\n      <td>2</td>\n      <td>Fall Out Boy</td>\n      <td>4ZzbcSm6MxnC15BcDqEYyK</td>\n      <td>spotify:artist:4UXqAaa6dQYAk18Lv7PEgX</td>\n      <td>Centuries - Gazzo Remix</td>\n      <td>spotify:album:4dFub54EO7uoweA7OYoZd7</td>\n      <td>259600</td>\n      <td>Centuries</td>\n      <td>#Workout</td>\n      <td>...</td>\n      <td>4ZzbcSm6MxnC15BcDqEYyK</td>\n      <td>spotify:track:4ZzbcSm6MxnC15BcDqEYyK</td>\n      <td>https://api.spotify.com/v1/tracks/4ZzbcSm6MxnC...</td>\n      <td>https://api.spotify.com/v1/audio-analysis/4Zzb...</td>\n      <td>259600</td>\n      <td>4</td>\n      <td>81</td>\n      <td>emo modern_rock rock</td>\n      <td>37</td>\n      <td>Fall Out BoyCenturies - Gazzo Remix</td>\n    </tr>\n    <tr>\n      <th>130</th>\n      <td>9835</td>\n      <td>28</td>\n      <td>Luke Bryan</td>\n      <td>5g15o2Sm55Hn9ShK5yEXgp</td>\n      <td>spotify:artist:0BvkDsjIUla7X0k6CSWh1I</td>\n      <td>Kick The Dust Up</td>\n      <td>spotify:album:0WtCqmpVN7rRGfDMSWSXBA</td>\n      <td>190586</td>\n      <td>Kill The Lights</td>\n      <td>#Workout</td>\n      <td>...</td>\n      <td>5g15o2Sm55Hn9ShK5yEXgp</td>\n      <td>spotify:track:5g15o2Sm55Hn9ShK5yEXgp</td>\n      <td>https://api.spotify.com/v1/tracks/5g15o2Sm55Hn...</td>\n      <td>https://api.spotify.com/v1/audio-analysis/5g15...</td>\n      <td>190587</td>\n      <td>4</td>\n      <td>78</td>\n      <td>contemporary_country country country_road</td>\n      <td>66</td>\n      <td>Luke BryanKick The Dust Up</td>\n    </tr>\n    <tr>\n      <th>131</th>\n      <td>12102</td>\n      <td>20</td>\n      <td>Gwen Stefani</td>\n      <td>6RcQOut9fWL6FSqeIr5M1r</td>\n      <td>spotify:artist:4yiQZ8tQPux8cPriYMWUFP</td>\n      <td>Hollaback Girl</td>\n      <td>spotify:album:1HduTydfaUY3idi2YgT3mb</td>\n      <td>199906</td>\n      <td>Love Angel Music Baby</td>\n      <td>#Workout</td>\n      <td>...</td>\n      <td>6RcQOut9fWL6FSqeIr5M1r</td>\n      <td>spotify:track:6RcQOut9fWL6FSqeIr5M1r</td>\n      <td>https://api.spotify.com/v1/tracks/6RcQOut9fWL6...</td>\n      <td>https://api.spotify.com/v1/audio-analysis/6RcQ...</td>\n      <td>199907</td>\n      <td>4</td>\n      <td>78</td>\n      <td>dance_pop hip_pop pop post-teen_pop urban_cont...</td>\n      <td>1</td>\n      <td>Gwen StefaniHollaback Girl</td>\n    </tr>\n  </tbody>\n</table>\n<p>5 rows × 32 columns</p>\n</div>"
     },
     "execution_count": 42,
     "metadata": {},
     "output_type": "execute_result"
    }
   ],
   "source": [
    "# Test playlist:  \n",
    "playlist_name = \"#Workout\"\n",
    "playlist_df_test = playlist_df[playlist_df['name'] == playlist_name]\n",
    "playlist_df_test.head()"
   ],
   "metadata": {
    "collapsed": false,
    "ExecuteTime": {
     "end_time": "2023-12-04T20:12:28.919623900Z",
     "start_time": "2023-12-04T20:12:28.862909800Z"
    }
   }
  },
  {
   "cell_type": "markdown",
   "source": [
    "Now we can input this playlist in our recommender function, with the data of our songs, and n signaling how many recommendations we want."
   ],
   "metadata": {
    "collapsed": false
   }
  },
  {
   "cell_type": "code",
   "execution_count": 43,
   "outputs": [
    {
     "name": "stderr",
     "output_type": "stream",
     "text": [
      "C:\\Users\\Marja\\AppData\\Local\\Temp\\ipykernel_532\\2638696040.py:16: SettingWithCopyWarning: \n",
      "A value is trying to be set on a copy of a slice from a DataFrame.\n",
      "Try using .loc[row_indexer,col_indexer] = value instead\n",
      "\n",
      "See the caveats in the documentation: https://pandas.pydata.org/pandas-docs/stable/user_guide/indexing.html#returning-a-view-versus-a-copy\n",
      "  non_playlist_df['sim'] = cosine_similarity(nonplaylist_features.drop('id', axis = 1).values, features.values.reshape(1, -1))[:,0]\n"
     ]
    },
    {
     "data": {
      "text/plain": "            artist_name                      id              track_name  \\\n3884   American Authors  64ybTt8CKxPdeXBNnu08Op                Believer   \n7016   American Authors  1obisQNOcikRvTdStbW3pG       Go Big Or Go Home   \n49906          The 1975  51cd3bzVmLAjlnsSZn4ecW          She's American   \n3879         Neon Trees  0K1KOCeJBj3lpDYxEX9qP2  Sleeping With A Friend   \n987    American Authors  4gHD93RNqEhEh2NkYzl3x6                    Luck   \n\n       danceability  energy  key  loudness  mode  speechiness  acousticness  \\\n3884          0.583   0.968    1    -2.909     1       0.0368       0.00141   \n7016          0.665   0.875    1    -4.272     1       0.0426       0.00939   \n49906         0.647   0.857    1    -3.940     1       0.0547       0.16700   \n3879          0.582   0.882    2    -4.256     1       0.0355       0.00189   \n987           0.554   0.806    0    -3.463     1       0.0460       0.00177   \n\n       ...  liveness  valence    tempo  artist_pop  \\\n3884   ...    0.1300    0.910  119.999          70   \n7016   ...    0.0897    0.660  122.008          70   \n49906  ...    0.0763    0.550  115.976          78   \n3879   ...    0.3200    0.507  107.034          71   \n987    ...    0.1650    0.646  144.923          70   \n\n                                                  genres track_pop  \\\n3884   indie_poptimism modern_alternative_rock modern...        55   \n7016   indie_poptimism modern_alternative_rock modern...        63   \n49906       modern_alternative_rock modern_rock pop rock        55   \n3879   modern_alternative_rock modern_rock pop pop_ro...        59   \n987    indie_poptimism modern_alternative_rock modern...        54   \n\n                                             genres_list subjectivity  \\\n3884   [indie_poptimism, modern_alternative_rock, mod...          low   \n7016   [indie_poptimism, modern_alternative_rock, mod...          low   \n49906  [modern_alternative_rock, modern_rock, pop, rock]          low   \n3879   [modern_alternative_rock, modern_rock, pop, po...          low   \n987    [indie_poptimism, modern_alternative_rock, mod...          low   \n\n      polarity       sim  \n3884   Neutral  0.783844  \n7016   Neutral  0.781557  \n49906  Neutral  0.768624  \n3879   Neutral  0.763292  \n987    Neutral  0.762998  \n\n[5 rows x 21 columns]",
      "text/html": "<div>\n<style scoped>\n    .dataframe tbody tr th:only-of-type {\n        vertical-align: middle;\n    }\n\n    .dataframe tbody tr th {\n        vertical-align: top;\n    }\n\n    .dataframe thead th {\n        text-align: right;\n    }\n</style>\n<table border=\"1\" class=\"dataframe\">\n  <thead>\n    <tr style=\"text-align: right;\">\n      <th></th>\n      <th>artist_name</th>\n      <th>id</th>\n      <th>track_name</th>\n      <th>danceability</th>\n      <th>energy</th>\n      <th>key</th>\n      <th>loudness</th>\n      <th>mode</th>\n      <th>speechiness</th>\n      <th>acousticness</th>\n      <th>...</th>\n      <th>liveness</th>\n      <th>valence</th>\n      <th>tempo</th>\n      <th>artist_pop</th>\n      <th>genres</th>\n      <th>track_pop</th>\n      <th>genres_list</th>\n      <th>subjectivity</th>\n      <th>polarity</th>\n      <th>sim</th>\n    </tr>\n  </thead>\n  <tbody>\n    <tr>\n      <th>3884</th>\n      <td>American Authors</td>\n      <td>64ybTt8CKxPdeXBNnu08Op</td>\n      <td>Believer</td>\n      <td>0.583</td>\n      <td>0.968</td>\n      <td>1</td>\n      <td>-2.909</td>\n      <td>1</td>\n      <td>0.0368</td>\n      <td>0.00141</td>\n      <td>...</td>\n      <td>0.1300</td>\n      <td>0.910</td>\n      <td>119.999</td>\n      <td>70</td>\n      <td>indie_poptimism modern_alternative_rock modern...</td>\n      <td>55</td>\n      <td>[indie_poptimism, modern_alternative_rock, mod...</td>\n      <td>low</td>\n      <td>Neutral</td>\n      <td>0.783844</td>\n    </tr>\n    <tr>\n      <th>7016</th>\n      <td>American Authors</td>\n      <td>1obisQNOcikRvTdStbW3pG</td>\n      <td>Go Big Or Go Home</td>\n      <td>0.665</td>\n      <td>0.875</td>\n      <td>1</td>\n      <td>-4.272</td>\n      <td>1</td>\n      <td>0.0426</td>\n      <td>0.00939</td>\n      <td>...</td>\n      <td>0.0897</td>\n      <td>0.660</td>\n      <td>122.008</td>\n      <td>70</td>\n      <td>indie_poptimism modern_alternative_rock modern...</td>\n      <td>63</td>\n      <td>[indie_poptimism, modern_alternative_rock, mod...</td>\n      <td>low</td>\n      <td>Neutral</td>\n      <td>0.781557</td>\n    </tr>\n    <tr>\n      <th>49906</th>\n      <td>The 1975</td>\n      <td>51cd3bzVmLAjlnsSZn4ecW</td>\n      <td>She's American</td>\n      <td>0.647</td>\n      <td>0.857</td>\n      <td>1</td>\n      <td>-3.940</td>\n      <td>1</td>\n      <td>0.0547</td>\n      <td>0.16700</td>\n      <td>...</td>\n      <td>0.0763</td>\n      <td>0.550</td>\n      <td>115.976</td>\n      <td>78</td>\n      <td>modern_alternative_rock modern_rock pop rock</td>\n      <td>55</td>\n      <td>[modern_alternative_rock, modern_rock, pop, rock]</td>\n      <td>low</td>\n      <td>Neutral</td>\n      <td>0.768624</td>\n    </tr>\n    <tr>\n      <th>3879</th>\n      <td>Neon Trees</td>\n      <td>0K1KOCeJBj3lpDYxEX9qP2</td>\n      <td>Sleeping With A Friend</td>\n      <td>0.582</td>\n      <td>0.882</td>\n      <td>2</td>\n      <td>-4.256</td>\n      <td>1</td>\n      <td>0.0355</td>\n      <td>0.00189</td>\n      <td>...</td>\n      <td>0.3200</td>\n      <td>0.507</td>\n      <td>107.034</td>\n      <td>71</td>\n      <td>modern_alternative_rock modern_rock pop pop_ro...</td>\n      <td>59</td>\n      <td>[modern_alternative_rock, modern_rock, pop, po...</td>\n      <td>low</td>\n      <td>Neutral</td>\n      <td>0.763292</td>\n    </tr>\n    <tr>\n      <th>987</th>\n      <td>American Authors</td>\n      <td>4gHD93RNqEhEh2NkYzl3x6</td>\n      <td>Luck</td>\n      <td>0.554</td>\n      <td>0.806</td>\n      <td>0</td>\n      <td>-3.463</td>\n      <td>1</td>\n      <td>0.0460</td>\n      <td>0.00177</td>\n      <td>...</td>\n      <td>0.1650</td>\n      <td>0.646</td>\n      <td>144.923</td>\n      <td>70</td>\n      <td>indie_poptimism modern_alternative_rock modern...</td>\n      <td>54</td>\n      <td>[indie_poptimism, modern_alternative_rock, mod...</td>\n      <td>low</td>\n      <td>Neutral</td>\n      <td>0.762998</td>\n    </tr>\n  </tbody>\n</table>\n<p>5 rows × 21 columns</p>\n</div>"
     },
     "execution_count": 43,
     "metadata": {},
     "output_type": "execute_result"
    }
   ],
   "source": [
    "n_recommendations = 5\n",
    "recommend(playlist_df_test, complete_feature_set, n_recommendations)"
   ],
   "metadata": {
    "collapsed": false,
    "ExecuteTime": {
     "end_time": "2023-12-04T20:12:40.754196700Z",
     "start_time": "2023-12-04T20:12:39.789726100Z"
    }
   }
  }
 ],
 "metadata": {
  "interpreter": {
   "hash": "0c414d3e8adee2b3211df29fd26edea752e90b91980149f3b387787cb104a4bf"
  },
  "kernelspec": {
   "display_name": "Python 3 (ipykernel)",
   "language": "python",
   "name": "python3"
  },
  "language_info": {
   "codemirror_mode": {
    "name": "ipython",
    "version": 3
   },
   "file_extension": ".py",
   "mimetype": "text/x-python",
   "name": "python",
   "nbconvert_exporter": "python",
   "pygments_lexer": "ipython3",
   "version": "3.12.0"
  }
 },
 "nbformat": 4,
 "nbformat_minor": 4
}
